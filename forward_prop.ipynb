{
 "cells": [
  {
   "cell_type": "code",
   "execution_count": 23,
   "metadata": {},
   "outputs": [],
   "source": [
    "import numpy as np"
   ]
  },
  {
   "cell_type": "code",
   "execution_count": 24,
   "metadata": {},
   "outputs": [],
   "source": [
    "x = np.array([200, 17])  \n",
    "\n",
    "def sigmoid(z):\n",
    "    return 1 / (1 + np.exp(-z))"
   ]
  },
  {
   "cell_type": "markdown",
   "metadata": {},
   "source": [
    "### Forward Propagation (Manual)"
   ]
  },
  {
   "cell_type": "code",
   "execution_count": 25,
   "metadata": {},
   "outputs": [],
   "source": [
    "w1_1 = np.array([1, 2])\n",
    "b1_1 = np.array([-1])\n",
    "z1_1 = np.dot(w1_1, x) + b1_1\n",
    "a1_1 = sigmoid(z1_1)\n",
    "\n",
    "w1_2 = np.array([-3, 4])\n",
    "b1_2 = np.array([1])\n",
    "z1_2 = np.dot(w1_2, x) + b1_2\n",
    "a1_2 = sigmoid(z1_2)\n",
    "\n",
    "w1_3 = np.array([5, -6])\n",
    "b1_3 = np.array([2])\n",
    "z1_3 = np.dot(w1_3, x) + b1_3\n",
    "a1_3 = sigmoid(z1_3)\n",
    "\n",
    "a1 = np.array([a1_1, a1_2, a1_3])"
   ]
  },
  {
   "cell_type": "code",
   "execution_count": 26,
   "metadata": {},
   "outputs": [],
   "source": [
    "w2_1 = np.array([-7, 8, 9])\n",
    "b2_1 = np.array([3])\n",
    "z2_1 = np.dot(w2_1, a1) + b2_1\n",
    "a2_1 = sigmoid(z2_1)"
   ]
  },
  {
   "cell_type": "code",
   "execution_count": 27,
   "metadata": {},
   "outputs": [
    {
     "data": {
      "text/plain": [
       "array([0.99330715])"
      ]
     },
     "execution_count": 27,
     "metadata": {},
     "output_type": "execute_result"
    }
   ],
   "source": [
    "a2_1"
   ]
  },
  {
   "cell_type": "markdown",
   "metadata": {},
   "source": [
    "### Forward Propagation in NumPy"
   ]
  },
  {
   "cell_type": "code",
   "execution_count": 31,
   "metadata": {},
   "outputs": [],
   "source": [
    "a_in = np.array([-2, 4])\n",
    "W = np.array([[1, -3, 5], [2, 4, -6]])\n",
    "b = np.array([-1, 1, 2])\n",
    "\n",
    "def dense(a_in, W, b):\n",
    "    units = W.shape[1]\n",
    "    a_out = np.zeros(units)\n",
    "    for j in range(units):\n",
    "        w = W[:,j]\n",
    "        z = np.dot(w, a_in) + b[j]\n",
    "        a_out[j] = sigmoid(z)\n",
    "\n",
    "    return a_out\n",
    "\n",
    "def sequential(x):\n",
    "    a1 = dense(x, W1, b1)\n",
    "    a2 = dense(a1, W2, b2)\n",
    "    a3 = dense(a2, W3, b3)\n",
    "    a4 = dense(a3, W4, b4)\n",
    "    f_x = a4\n",
    "    return f_x"
   ]
  },
  {
   "cell_type": "markdown",
   "metadata": {},
   "source": [
    "#### Vectorized version"
   ]
  },
  {
   "cell_type": "code",
   "execution_count": 29,
   "metadata": {},
   "outputs": [],
   "source": [
    "# matrix\n",
    "\n",
    "x = np.array([[200, 17]])\n",
    "a_in = np.array([[-2, 4]])\n",
    "W = np.array([[1, -3, 5], [2, 4, -6]])\n",
    "b = np.array([[-1, 1, 2]])\n",
    "\n",
    "def dense(a_in, W, b):\n",
    "    z = np.matmul(a_in, W) + b\n",
    "    a_out = sigmoid(z)\n",
    "    return a_out"
   ]
  }
 ],
 "metadata": {
  "kernelspec": {
   "display_name": "Python 3",
   "language": "python",
   "name": "python3"
  },
  "language_info": {
   "codemirror_mode": {
    "name": "ipython",
    "version": 3
   },
   "file_extension": ".py",
   "mimetype": "text/x-python",
   "name": "python",
   "nbconvert_exporter": "python",
   "pygments_lexer": "ipython3",
   "version": "3.11.2"
  }
 },
 "nbformat": 4,
 "nbformat_minor": 2
}
