{
 "cells": [
  {
   "cell_type": "markdown",
   "metadata": {},
   "source": [
    "## Singular Value Decomposition\n",
    "- used in linear algebra\n",
    "- decompose a matrix to its core components\n",
    "- dimensionality reduction\n",
    "- express our original matrix as a linear combination of low-rank matrices\n",
    "- works better with sparse data\n",
    "  \n",
    "SVD of a matrix A (of size m x n) is represented as: $ A=UΣV^T $\n",
    "- $ U $ - m x m orthogonal matrix whose columns are the left singular vectors of A\n",
    "- $ Σ $ - m x n matrix containing the singular values of A in descending order\n",
    "- $ V^T $ - transpose of an n x n orthogonal matrix, where the columns are the right singular vectors of A"
   ]
  },
  {
   "cell_type": "markdown",
   "metadata": {},
   "source": [
    "### Steps:\n",
    "1. Calculate $ AA^T $\n",
    "2. Calculate Eigen values of $ AA^T $\n",
    "    - det($ AA^T - \\lambda I $) = 0\n",
    "3. Find Right Singular Vectors [Eigen Vectors of $ A^TA $ = $ V^T $]\n",
    "    - for all $ \\lambda : (A^TA-\\lambda I)v = 0 $ \n",
    "4. Compute Left Singular Vectors [Eigen Vectors of $ AA^T $ = Matrix U]\n",
    "    - $ u_i = (1/\\sigma _i) * A * v_i $\n",
    "5. Find SVD of A as: $ A=UΣV^T $"
   ]
  },
  {
   "cell_type": "code",
   "execution_count": 59,
   "metadata": {},
   "outputs": [],
   "source": [
    "import numpy as np\n",
    "from sklearn.decomposition import TruncatedSVD"
   ]
  },
  {
   "cell_type": "code",
   "execution_count": 60,
   "metadata": {},
   "outputs": [],
   "source": [
    "A = np.array([[3,2,2], [2,3,-2]])"
   ]
  },
  {
   "cell_type": "code",
   "execution_count": 61,
   "metadata": {},
   "outputs": [
    {
     "name": "stdout",
     "output_type": "stream",
     "text": [
      "U = \n",
      " [[ 0.70710678 -0.70710678]\n",
      " [ 0.70710678  0.70710678]]\n",
      "\n",
      "singular = \n",
      " [5. 3.]\n",
      "\n",
      "V_transpose = \n",
      " [[ 7.07106781e-01  7.07106781e-01  3.67439059e-16]\n",
      " [-2.35702260e-01  2.35702260e-01 -9.42809042e-01]\n",
      " [-6.66666667e-01  6.66666667e-01  3.33333333e-01]]\n"
     ]
    }
   ],
   "source": [
    "U, singular, V_transpose = np.linalg.svd(A)\n",
    "print(\"U = \\n\", U)\n",
    "print(\"\\nsingular = \\n\", singular)\n",
    "print(\"\\nV_transpose = \\n\", V_transpose)"
   ]
  },
  {
   "cell_type": "code",
   "execution_count": null,
   "metadata": {},
   "outputs": [
    {
     "name": "stdout",
     "output_type": "stream",
     "text": [
      "[[5. 0. 0.]\n",
      " [0. 3. 0.]]\n",
      "\n",
      "[[ 3.  2.  2.]\n",
      " [ 2.  3. -2.]]\n"
     ]
    }
   ],
   "source": [
    "# Make sure singular values are in a diagonal matrix of the correct shape\n",
    "d = np.diag(singular)\n",
    "\n",
    "# The diagonal matrix Sigma should have shape (2, 3), so we need to pad it with zeros\n",
    "s = np.zeros((U.shape[1], V_transpose.shape[0]))\n",
    "s[:d.shape[0], :d.shape[1]] = d\n",
    "print(s)\n",
    "print()\n",
    "\n",
    "A_remake = (U @ s @ V_transpose)\n",
    "print(A_remake)"
   ]
  },
  {
   "cell_type": "markdown",
   "metadata": {},
   "source": [
    "### Truncated Singular Value Decomposition (Truncated SVD)\n",
    "- dimensionality reduction technique\n",
    "- similar purpose to PCA\n",
    "- produce matrices with the specified number of columns"
   ]
  },
  {
   "cell_type": "code",
   "execution_count": 63,
   "metadata": {},
   "outputs": [
    {
     "name": "stdout",
     "output_type": "stream",
     "text": [
      "Transformed Matrix:\n",
      "[[ 3.53553391  2.12132034]\n",
      " [ 3.53553391 -2.12132034]]\n"
     ]
    }
   ],
   "source": [
    "svd = TruncatedSVD(n_components=2)\n",
    "A_transformed = svd.fit_transform(A)\n",
    "print(\"Transformed Matrix:\")\n",
    "print(A_transformed)"
   ]
  },
  {
   "cell_type": "markdown",
   "metadata": {},
   "source": [
    "### Applications:\n",
    "- data comperssion\n",
    "- noise removal\n",
    "- reccomendation systems\n",
    "- image analysis"
   ]
  }
 ],
 "metadata": {
  "kernelspec": {
   "display_name": "traineeship",
   "language": "python",
   "name": "python3"
  },
  "language_info": {
   "codemirror_mode": {
    "name": "ipython",
    "version": 3
   },
   "file_extension": ".py",
   "mimetype": "text/x-python",
   "name": "python",
   "nbconvert_exporter": "python",
   "pygments_lexer": "ipython3",
   "version": "3.12.8"
  }
 },
 "nbformat": 4,
 "nbformat_minor": 2
}
