{
 "cells": [
  {
   "cell_type": "markdown",
   "metadata": {},
   "source": [
    "## Singular Value Decomposition\n",
    "- used in linear algebra\n",
    "- decompose a matrices\n",
    "  \n",
    "SVD of a matrix A (of size m x n) is represented as: $ A=UΣV^T $\n",
    "$ U $ - m x m orthogonal matrix whose columns are the left singular vectors of A\n",
    "$ Σ $ - m x n matrix containing the singular values of A in descending order\n",
    "$ V^T $ - transpose of an n x n orthogonal matrix, where the columns are the right singular vectors of A"
   ]
  },
  {
   "cell_type": "markdown",
   "metadata": {},
   "source": [
    "### Steps:\n",
    "1. Calculate $ AA^T $\n",
    "2. Calculate Eigen values of $ AA^T $\n",
    "3. Find Right Singular Vectors [Eigen Vectors of $ A^TA $ = $ V^T $]\n",
    "4. Compute Left Singular Vectors [Eigen Vectors of $ AA^T $ = Matrix U]\n",
    "5. Find SVD of A as: $ A=UΣV^T $"
   ]
  },
  {
   "cell_type": "markdown",
   "metadata": {},
   "source": [
    "### Syntax:\n",
    "S = svd(A)\n",
    "- returns the singular values of matrix A in descending order\n",
    "[U,S,V] = svd(A)\n",
    "- erforms a singular value decomposition of matrix A, such that A = U*S*V'\n",
    "[___] = svd(A,\"econ\")\n",
    "- produces an economy-size decomposition of A \n",
    "    - removes extra rows or columns of zeros from the diagonal matrix of singular values, S\n",
    "    - also columns in either U or V that multiply those zeros\n",
    "    - can improve execution time and reduce storage requirements without compromising the accuracy of the decomposition\n",
    "- using either of the previous output argument combinations\n",
    "- if A is m x n matrix, then:\n",
    "    - m > n — Only the first n columns of U are computed, and S is n x n\n",
    "    - m = n — svd(A,\"econ\") is equivalent to svd(A)\n",
    "    - m < n — Only the first m columns of V are computed, and S is m x m\n",
    "[___] = svd(A,0)\n",
    "[___] = svd(___,outputForm)"
   ]
  },
  {
   "cell_type": "markdown",
   "metadata": {},
   "source": [
    "### Applications:\n",
    "- "
   ]
  }
 ],
 "metadata": {
  "language_info": {
   "name": "python"
  }
 },
 "nbformat": 4,
 "nbformat_minor": 2
}
