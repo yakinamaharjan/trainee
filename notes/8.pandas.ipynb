{
 "cells": [
  {
   "cell_type": "markdown",
   "metadata": {},
   "source": [
    "DataFrame: data structure constructed with rows and columns\n",
    "- each column in a DataFrame is a Series\n",
    "- Series has row lables, but does not have column lables"
   ]
  }
 ],
 "metadata": {
  "language_info": {
   "name": "python"
  }
 },
 "nbformat": 4,
 "nbformat_minor": 2
}
