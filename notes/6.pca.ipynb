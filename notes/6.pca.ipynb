{
 "cells": [
  {
   "cell_type": "markdown",
   "metadata": {},
   "source": [
    "## Principal Component Analysis\n",
    "transforming high-dimensional data into a lower-dimensional space while maximizing the variance of the data in the new space\n",
    "- reduces the number of dimensions in large datasets \n",
    "- transforming potentially correlated variables into a smaller set of variables\n",
    "- reduces model complexity\n",
    "- for both supervised and unsupervised learning tasks\n",
    "- minimizes overfitting\n",
    "- reduces **munticollinearity**\n",
    "    - two or more independent variables are highly correlated with one another"
   ]
  },
  {
   "cell_type": "markdown",
   "metadata": {},
   "source": [
    "2 principal components\n",
    "- retain most of the original information\n",
    "- linear combinations of the original variables with maximum variance\n",
    "\n",
    "PC1\n",
    "- direction in space along which the data points have the highest or most variance\n",
    "- best represents the shape of the projected points\n",
    "\n",
    "PC2\n",
    "- next highest variance in the dataset \n",
    "- uncorrelated to PC1 \n",
    "- orthogolnal/perpedicular to PC1"
   ]
  },
  {
   "cell_type": "markdown",
   "metadata": {},
   "source": [
    "### Steps\n",
    "1. standardize data\n",
    "2. compute covariance matrix to find correlations\n",
    "3. calculate eigen vectors and eigen values of covariance matrix\n",
    "4. select principal components\n",
    "    - components with low eigenvalues typically will not be as significant\n",
    "5. transform data into the new coordinate system defined by the principal components\n",
    "    - feature vector created from the eigenvectors of the covariance matrix projects the data onto the new axes defined by the principal components"
   ]
  },
  {
   "cell_type": "markdown",
   "metadata": {},
   "source": [
    "- for data preprocessing for use with machine learning algorithms\n",
    "- commonly used approach within regression analysis\n",
    "      \n",
    "- image compression\n",
    "- data visualization\n",
    "- noise filtering"
   ]
  }
 ],
 "metadata": {
  "kernelspec": {
   "display_name": "traineeship",
   "language": "python",
   "name": "python3"
  },
  "language_info": {
   "name": "python",
   "version": "3.12.8"
  }
 },
 "nbformat": 4,
 "nbformat_minor": 2
}
