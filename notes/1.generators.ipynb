{
 "cells": [
  {
   "cell_type": "markdown",
   "metadata": {},
   "source": [
    "## **Generators**\n",
    "- Generators are tools used to create iterators in python.\n",
    "- Ideal for generating large or complex sequences efficiently.\n",
    "- Optimal memory usage since they produce items one at a time and only when required.\n",
    "- it uses **yield** to produce a series of results over time.\n",
    "- Syntax: A function with a yield statement."
   ]
  },
  {
   "cell_type": "code",
   "execution_count": 21,
   "metadata": {},
   "outputs": [],
   "source": [
    "from typing import Generator"
   ]
  },
  {
   "cell_type": "code",
   "execution_count": 22,
   "metadata": {},
   "outputs": [],
   "source": [
    "def generator_example(n: int) -> Generator[int, None, None]:\n",
    "  \"\"\"\n",
    "  A generator function that yields numbers from 1 to a specified number (n).\n",
    "\n",
    "  Args:\n",
    "    n (int): The upper limit of the range that the function yields.\n",
    "\n",
    "  Yields:\n",
    "    int: The next number in the sequence from 1 to n.\n",
    "  \"\"\"\n",
    "\n",
    "  count = 1\n",
    "  while count <= n:\n",
    "    yield count\n",
    "    count += 1\n",
    "a = generator_example(5)\n",
    "  "
   ]
  },
  {
   "cell_type": "code",
   "execution_count": 23,
   "metadata": {},
   "outputs": [],
   "source": [
    "def generator_example2():\n",
    "  \"\"\"\n",
    "  A generator that yields a sequence of characters: 'a', 'b', and 'c'.\n",
    "    \n",
    "  Yields:\n",
    "    str: The next character in the sequence ('a', 'b', 'c').\n",
    "  \"\"\"\n",
    "  yield 'a'\n",
    "  yield 'b'\n",
    "  yield 'c'\n",
    "b = generator_example2()"
   ]
  },
  {
   "cell_type": "markdown",
   "metadata": {},
   "source": [
    "Generators dont hold the entire result in memory since it yields one result at a time.\n",
    "  \n",
    "So, if we try to print out the result, we will get a generator object."
   ]
  },
  {
   "cell_type": "code",
   "execution_count": 24,
   "metadata": {},
   "outputs": [
    {
     "name": "stdout",
     "output_type": "stream",
     "text": [
      "<generator object generator_example at 0x000002094ECEE2C0>\n",
      "<generator object generator_example2 at 0x000002094EC6F480>\n"
     ]
    }
   ],
   "source": [
    "print(a)\n",
    "print(b)"
   ]
  },
  {
   "cell_type": "markdown",
   "metadata": {},
   "source": [
    "To be able to see the entire result, we need to either:\n",
    "- use a loop.\n",
    "- use the next() function to print them one by one."
   ]
  },
  {
   "cell_type": "code",
   "execution_count": 25,
   "metadata": {},
   "outputs": [
    {
     "name": "stdout",
     "output_type": "stream",
     "text": [
      "1\n",
      "2\n",
      "3\n",
      "4\n",
      "5\n"
     ]
    }
   ],
   "source": [
    "for x in a:\n",
    "  print(x)"
   ]
  },
  {
   "cell_type": "code",
   "execution_count": 26,
   "metadata": {},
   "outputs": [
    {
     "data": {
      "text/plain": [
       "'a'"
      ]
     },
     "execution_count": 26,
     "metadata": {},
     "output_type": "execute_result"
    }
   ],
   "source": [
    "next(b)"
   ]
  },
  {
   "cell_type": "code",
   "execution_count": 27,
   "metadata": {},
   "outputs": [
    {
     "data": {
      "text/plain": [
       "'b'"
      ]
     },
     "execution_count": 27,
     "metadata": {},
     "output_type": "execute_result"
    }
   ],
   "source": [
    "next(b)"
   ]
  },
  {
   "cell_type": "code",
   "execution_count": 28,
   "metadata": {},
   "outputs": [
    {
     "data": {
      "text/plain": [
       "'c'"
      ]
     },
     "execution_count": 28,
     "metadata": {},
     "output_type": "execute_result"
    }
   ],
   "source": [
    "next(b)"
   ]
  },
  {
   "cell_type": "markdown",
   "metadata": {},
   "source": [
    "All the iterations are completed now, so if we try to run yet another iteration, we will get a StopIteration Error."
   ]
  },
  {
   "cell_type": "code",
   "execution_count": null,
   "metadata": {},
   "outputs": [
    {
     "ename": "StopIteration",
     "evalue": "",
     "output_type": "error",
     "traceback": [
      "\u001b[1;31m---------------------------------------------------------------------------\u001b[0m",
      "\u001b[1;31mStopIteration\u001b[0m                             Traceback (most recent call last)",
      "Cell \u001b[1;32mIn[29], line 1\u001b[0m\n\u001b[1;32m----> 1\u001b[0m \u001b[38;5;28;43mnext\u001b[39;49m\u001b[43m(\u001b[49m\u001b[43mb\u001b[49m\u001b[43m)\u001b[49m\n",
      "\u001b[1;31mStopIteration\u001b[0m: "
     ]
    }
   ],
   "source": [
    "# next(b)"
   ]
  },
  {
   "cell_type": "markdown",
   "metadata": {},
   "source": [
    "There is a more concise and memory efficient way to create generators: **Generator Expressions**.\n",
    "  \n",
    "*They are very similar to list comprehension.*"
   ]
  },
  {
   "cell_type": "code",
   "execution_count": 30,
   "metadata": {},
   "outputs": [
    {
     "name": "stdout",
     "output_type": "stream",
     "text": [
      "1\n",
      "2\n",
      "3\n",
      "4\n",
      "5\n"
     ]
    }
   ],
   "source": [
    "c = (x for x in range(1, 6))\n",
    "for i in c:\n",
    "    print(i)"
   ]
  },
  {
   "cell_type": "markdown",
   "metadata": {},
   "source": [
    "uses\n",
    "- processing large datasets that cannot fit into memory all at once\n",
    "    - reading and processing data in chunks\n",
    "    - avoiding memory overload\n",
    "- asynchronous programming\n",
    "- create data processing pipelines\n"
   ]
  }
 ],
 "metadata": {
  "kernelspec": {
   "display_name": "traineeship",
   "language": "python",
   "name": "python3"
  },
  "language_info": {
   "codemirror_mode": {
    "name": "ipython",
    "version": 3
   },
   "file_extension": ".py",
   "mimetype": "text/x-python",
   "name": "python",
   "nbconvert_exporter": "python",
   "pygments_lexer": "ipython3",
   "version": "3.12.8"
  }
 },
 "nbformat": 4,
 "nbformat_minor": 4
}
