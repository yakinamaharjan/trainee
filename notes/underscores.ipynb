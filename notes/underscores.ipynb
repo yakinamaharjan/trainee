{
 "cells": [
  {
   "cell_type": "markdown",
   "metadata": {},
   "source": [
    "- not meant to be invoked directly: called implicitly by the language\n",
    "- interpretation of them gets invoked internally by the Python interpreter to perform specific actions\n",
    "- provide a way to define specific behaviors for built-in operations or functionalities in Python classes\n",
    "- can be used to customize the behavior of your objects and make them work seamlessly with Python’s language constructs."
   ]
  },
  {
   "cell_type": "code",
   "execution_count": 66,
   "metadata": {},
   "outputs": [],
   "source": [
    "class Person:\n",
    "    def __init__(self, name, age):\n",
    "        self.name = name\n",
    "        self.age = age\n",
    "\n",
    "    def __str__(self):\n",
    "        return f\"Person(name = {self.name}, age = {self.age})\"\n",
    "    \n",
    "    def __repr__(self):\n",
    "        return f\"Name = {self.name}, Age = {self.age})\"\n",
    "    \n",
    "    def __dir__(self):\n",
    "        return['name', 'age']\n",
    "    \n",
    "    def __eq__(self, other):\n",
    "        return self.age == other.age\n",
    "\n",
    "    def __lt__(self, marks): \n",
    "        return self.age < marks.age\n",
    "\n",
    "    def __gt__(self, marks):\n",
    "        return self.age > marks.age\n",
    "\n",
    "    def __add__(self, other):\n",
    "        return self.age + other.age\n",
    "    \n",
    "    def __sub__(self, other):\n",
    "        return self.age - other.age\n"
   ]
  },
  {
   "cell_type": "code",
   "execution_count": 67,
   "metadata": {},
   "outputs": [
    {
     "name": "stdout",
     "output_type": "stream",
     "text": [
      "Person(name = a, age = 33)\n"
     ]
    },
    {
     "data": {
      "text/plain": [
       "'Name = b, Age = 25)'"
      ]
     },
     "execution_count": 67,
     "metadata": {},
     "output_type": "execute_result"
    }
   ],
   "source": [
    "p = Person(\"a\", 33)\n",
    "p2 = Person(\"b\", 25)\n",
    "print(p)\n",
    "repr(p2)"
   ]
  },
  {
   "cell_type": "code",
   "execution_count": 68,
   "metadata": {},
   "outputs": [
    {
     "name": "stdout",
     "output_type": "stream",
     "text": [
      "['age', 'name']\n"
     ]
    }
   ],
   "source": [
    "print(dir(p))"
   ]
  },
  {
   "cell_type": "code",
   "execution_count": 69,
   "metadata": {},
   "outputs": [
    {
     "name": "stdout",
     "output_type": "stream",
     "text": [
      "p == p2:  False\n",
      "p > p2:  True\n",
      "p < p2:  False\n"
     ]
    }
   ],
   "source": [
    "print(\"p == p2: \", p == p2)\n",
    "print(\"p > p2: \", p > p2)\n",
    "print(\"p < p2: \", p < p2)"
   ]
  },
  {
   "cell_type": "code",
   "execution_count": 70,
   "metadata": {},
   "outputs": [
    {
     "name": "stdout",
     "output_type": "stream",
     "text": [
      "58\n",
      "8\n"
     ]
    }
   ],
   "source": [
    "print(p + p2)\n",
    "print(p - p2)"
   ]
  },
  {
   "cell_type": "code",
   "execution_count": null,
   "metadata": {},
   "outputs": [],
   "source": []
  }
 ],
 "metadata": {
  "kernelspec": {
   "display_name": "traineeship",
   "language": "python",
   "name": "python3"
  },
  "language_info": {
   "codemirror_mode": {
    "name": "ipython",
    "version": 3
   },
   "file_extension": ".py",
   "mimetype": "text/x-python",
   "name": "python",
   "nbconvert_exporter": "python",
   "pygments_lexer": "ipython3",
   "version": "3.12.8"
  }
 },
 "nbformat": 4,
 "nbformat_minor": 2
}
