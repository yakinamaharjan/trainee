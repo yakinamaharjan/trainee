{
 "cells": [
  {
   "cell_type": "markdown",
   "metadata": {},
   "source": [
    "- not meant to be invoked directly: called implicitly by the language\n",
    "- interpretation of them gets invoked internally by the Python interpreter to perform specific actions\n",
    "- provide a way to define specific behaviors for built-in operations or functionalities in Python classes\n",
    "- can be used to customize the behavior of your objects and make them work seamlessly with Python’s language constructs."
   ]
  },
  {
   "cell_type": "code",
   "execution_count": 251,
   "metadata": {},
   "outputs": [],
   "source": [
    "class Person:\n",
    "    def __init__(self, name, age):\n",
    "        self.name = name\n",
    "        self.age = age\n",
    "\n",
    "    def __str__(self):\n",
    "        return f\"Name = {self.name}, Age = {self.age}\"\n",
    "    \n",
    "    def __repr__(self):   # eval or repr\n",
    "        return f\"Person(name = {self.name}, age = {self.age})\"\n",
    "    \n",
    "    def __dir__(self):\n",
    "        return['name', 'age']\n",
    "    \n",
    "    def __eq__(self, other):\n",
    "        return self.age == other.age\n",
    "\n",
    "    def __lt__(self, marks): \n",
    "        return self.age < marks.age\n",
    "\n",
    "    def __gt__(self, marks):\n",
    "        return self.age > marks.age\n",
    "\n",
    "    def __add__(self, other):\n",
    "        return self.age + other.age\n",
    "    \n",
    "    def __sub__(self, other):\n",
    "        return self.age - other.age\n",
    "    \n",
    "    def __mul__(self, other):\n",
    "        return self.age * other.age\n",
    "    \n",
    "    def __truediv__(self, other):\n",
    "        if other.age == 0:\n",
    "            print(\"Cannot divide by zero\")\n",
    "        return self.age / other.age\n",
    "\n",
    "    def __floordiv__(self, other):\n",
    "        if other.age == 0:\n",
    "            print(\"Cannot divide by zero\")\n",
    "        return self.age // other.age\n",
    "\n",
    "    def __mod__(self, other):\n",
    "        return self.age % other.age\n",
    "    \n",
    "    def __pow__(self, other):\n",
    "        return self.age ** other.age\n",
    "        \n",
    "    def __len__(self):\n",
    "        return len(self.name)\n",
    "    \n",
    "    def __getitem__(self, key):\n",
    "        if key == 'name' or key == 0:\n",
    "            return self.name\n",
    "        elif key == 'age' or key == 1:\n",
    "            return self.age\n",
    "        else:\n",
    "            print(f\"'{key}' not found\")\n",
    "    \n",
    "    def __setitem__(self, key, value):\n",
    "        if key == 'name' or key == 0:\n",
    "            self.name = value\n",
    "        elif key == 'age' or key == 1:\n",
    "            self.age = value\n",
    "        else:\n",
    "            print(f\"'{key}' not found\")\n",
    "\n",
    "    def __neg__(self):\n",
    "        return -self.age\n",
    "\n",
    "    def __round__(self, ndigits=None):\n",
    "        if ndigits is None:\n",
    "            return round(self.age)\n",
    "        else:\n",
    "            return round(self.age, ndigits)\n",
    "    \n",
    "    def __reversed__(self):\n",
    "        return self.name[::-1]\n",
    "\n",
    "    def __call__(self):\n",
    "        return f\"{self.name} is {self.age} years old.\"\n"
   ]
  },
  {
   "cell_type": "code",
   "execution_count": 252,
   "metadata": {},
   "outputs": [
    {
     "name": "stdout",
     "output_type": "stream",
     "text": [
      "Name = abc, Age = 33\n"
     ]
    },
    {
     "data": {
      "text/plain": [
       "'Person(name = def, age = 25.765965)'"
      ]
     },
     "execution_count": 252,
     "metadata": {},
     "output_type": "execute_result"
    }
   ],
   "source": [
    "p = Person(\"abc\", 33)\n",
    "p2 = Person(\"def\", 25.765965)\n",
    "print(p)\n",
    "repr(p2)"
   ]
  },
  {
   "cell_type": "code",
   "execution_count": 253,
   "metadata": {},
   "outputs": [
    {
     "name": "stdout",
     "output_type": "stream",
     "text": [
      "['age', 'name']\n"
     ]
    }
   ],
   "source": [
    "print(dir(p))"
   ]
  },
  {
   "cell_type": "code",
   "execution_count": 254,
   "metadata": {},
   "outputs": [
    {
     "name": "stdout",
     "output_type": "stream",
     "text": [
      "26\n",
      "25.766\n"
     ]
    }
   ],
   "source": [
    "print(round(p2))\n",
    "print(round(p2, 3))"
   ]
  },
  {
   "cell_type": "code",
   "execution_count": 255,
   "metadata": {},
   "outputs": [
    {
     "data": {
      "text/plain": [
       "3"
      ]
     },
     "execution_count": 255,
     "metadata": {},
     "output_type": "execute_result"
    }
   ],
   "source": [
    "p2[1] = 3\n",
    "p2[\"age\"]"
   ]
  },
  {
   "cell_type": "code",
   "execution_count": 256,
   "metadata": {},
   "outputs": [
    {
     "name": "stdout",
     "output_type": "stream",
     "text": [
      "p == p2:  False\n",
      "p > p2:  True\n",
      "p < p2:  False\n"
     ]
    }
   ],
   "source": [
    "print(\"p == p2: \", p == p2)\n",
    "print(\"p > p2: \", p > p2)\n",
    "print(\"p < p2: \", p < p2)"
   ]
  },
  {
   "cell_type": "code",
   "execution_count": 257,
   "metadata": {},
   "outputs": [
    {
     "name": "stdout",
     "output_type": "stream",
     "text": [
      "36\n",
      "30\n",
      "99\n",
      "11.0\n",
      "11\n",
      "0\n",
      "35937\n"
     ]
    }
   ],
   "source": [
    "print(p + p2)\n",
    "print(p - p2)\n",
    "print(p * p2)\n",
    "print(p / p2)\n",
    "print(p // p2)\n",
    "print(p % p2)\n",
    "print(p ** p2)"
   ]
  },
  {
   "cell_type": "code",
   "execution_count": 258,
   "metadata": {},
   "outputs": [
    {
     "data": {
      "text/plain": [
       "3"
      ]
     },
     "execution_count": 258,
     "metadata": {},
     "output_type": "execute_result"
    }
   ],
   "source": [
    "len(p2)"
   ]
  },
  {
   "cell_type": "code",
   "execution_count": 259,
   "metadata": {},
   "outputs": [
    {
     "data": {
      "text/plain": [
       "'def is 3 years old.'"
      ]
     },
     "execution_count": 259,
     "metadata": {},
     "output_type": "execute_result"
    }
   ],
   "source": [
    "p2()"
   ]
  },
  {
   "cell_type": "code",
   "execution_count": 260,
   "metadata": {},
   "outputs": [
    {
     "data": {
      "text/plain": [
       "'cba'"
      ]
     },
     "execution_count": 260,
     "metadata": {},
     "output_type": "execute_result"
    }
   ],
   "source": [
    "reversed(p)"
   ]
  },
  {
   "cell_type": "code",
   "execution_count": 261,
   "metadata": {},
   "outputs": [
    {
     "data": {
      "text/plain": [
       "-33"
      ]
     },
     "execution_count": 261,
     "metadata": {},
     "output_type": "execute_result"
    }
   ],
   "source": [
    "-p"
   ]
  },
  {
   "cell_type": "code",
   "execution_count": 262,
   "metadata": {},
   "outputs": [],
   "source": [
    "import mysql.connector\n",
    "\n",
    "class DatabaseManager:\n",
    "    def __init__(self, host, user, password, database):\n",
    "        try:\n",
    "            self.conn = mysql.connector.connect(\n",
    "                host=host,\n",
    "                user=user,\n",
    "                password=password,\n",
    "                database=database\n",
    "            )\n",
    "            self.cursor = self.conn.cursor()\n",
    "            print(\"Successfully connected to the database.\")\n",
    "        except mysql.connector.Error as e:\n",
    "            print(f\"Error connecting to database: {e}\")\n",
    "    \n",
    "    def __str__(self):\n",
    "        query = \"SELECT * FROM users\"\n",
    "        try:\n",
    "            self.cursor.execute(query)\n",
    "            records = self.cursor.fetchall()\n",
    "            result = []\n",
    "            for record in records:\n",
    "                result.append(f\"ID: {record[0]}, Name: {record[1]}, Email: {record[2]}\")\n",
    "            return \"\\n\".join(result) if result else \"No records found.\"\n",
    "        except mysql.connector.Error as e:\n",
    "            print(f\"Error fetching record: {e}\")\n",
    "\n",
    "    def __getitem__(self, key):\n",
    "        query = f\"SELECT * FROM users where id = {key}\"\n",
    "        try:\n",
    "            self.cursor.execute(query)\n",
    "            records = self.cursor.fetchall()\n",
    "            return records\n",
    "        except mysql.connector.Error as e:\n",
    "            print(f\"Error fetching record: {e}\")\n",
    "    \n",
    "    def __setitem__(self, key, value):\n",
    "        try:\n",
    "            query = \"INSERT INTO users (name, email) VALUES (%s, %s)\"\n",
    "            self.cursor.execute(query, (key, value))\n",
    "            self.conn.commit()\n",
    "            print(\"Record added successfully.\")\n",
    "        except mysql.connector.Error as e:\n",
    "            print(f\"Error adding record: {e}\")\n",
    "\n",
    "    def __del__(self):\n",
    "        print(\"Called: __del__\")\n",
    "        self.conn.close()\n",
    "\n",
    "    def __enter__(self):\n",
    "        print(\"Called: __enter__\")\n",
    "        return self.conn\n",
    "\n",
    "    def __exit__(self, exc_type, exc_value, traceback):\n",
    "        print(\"Called: __exit__\")\n",
    "        self.conn.close()"
   ]
  },
  {
   "cell_type": "code",
   "execution_count": 263,
   "metadata": {},
   "outputs": [
    {
     "name": "stdout",
     "output_type": "stream",
     "text": [
      "Successfully connected to the database.\n",
      "[(1, 'yakina', 'yakina@gmail.com')]\n",
      "\n",
      "Adding new record...\n",
      "Record added successfully.\n",
      "\n",
      "ID: 1, Name: yakina, Email: yakina@gmail.com\n",
      "ID: 3, Name: rohan, Email: rohan@gmail.com\n",
      "ID: 4, Name: bijay, Email: bijay@gmail.com\n",
      "ID: 29, Name: astha, Email: a@gmail.com\n",
      "\n",
      "Called: __del__\n",
      "The end\n"
     ]
    }
   ],
   "source": [
    "db = DatabaseManager(host=\"localhost\", user=\"root\", password=\"sdcdsFHS58%sd\", database=\"python_crud\")\n",
    "\n",
    "print(db[1])\n",
    "\n",
    "print(\"\\nAdding new record...\")\n",
    "db[\"astha\"] = \"a@gmail.com\"\n",
    "\n",
    "print()\n",
    "print(db)\n",
    "\n",
    "print()\n",
    "del db\n",
    "\n",
    "print(\"The end\")"
   ]
  },
  {
   "cell_type": "code",
   "execution_count": null,
   "metadata": {},
   "outputs": [],
   "source": []
  }
 ],
 "metadata": {
  "kernelspec": {
   "display_name": "traineeship",
   "language": "python",
   "name": "python3"
  },
  "language_info": {
   "codemirror_mode": {
    "name": "ipython",
    "version": 3
   },
   "file_extension": ".py",
   "mimetype": "text/x-python",
   "name": "python",
   "nbconvert_exporter": "python",
   "pygments_lexer": "ipython3",
   "version": "3.12.8"
  }
 },
 "nbformat": 4,
 "nbformat_minor": 2
}
