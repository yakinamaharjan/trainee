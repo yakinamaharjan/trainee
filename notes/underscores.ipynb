{
 "cells": [
  {
   "cell_type": "markdown",
   "metadata": {},
   "source": [
    "- not meant to be invoked directly: called implicitly by the language\n",
    "- interpretation of them gets invoked internally by the Python interpreter to perform specific actions\n",
    "- provide a way to define specific behaviors for built-in operations or functionalities in Python classes\n",
    "- can be used to customize the behavior of your objects and make them work seamlessly with Python’s language constructs."
   ]
  }
 ],
 "metadata": {
  "language_info": {
   "name": "python"
  }
 },
 "nbformat": 4,
 "nbformat_minor": 2
}
