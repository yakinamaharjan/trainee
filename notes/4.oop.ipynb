{
 "cells": [
  {
   "cell_type": "markdown",
   "metadata": {},
   "source": [
    "## inheritance\n",
    "- allows a class to acquire properties and methods of another class\n",
    "- supports hierarchical classification\n",
    "- code reuse\n",
    "\n",
    "| type           | desc                                                        |\n",
    "|----------------|-------------------------------------------------------------|\n",
    "| single         | inherits from a single parent class                         |\n",
    "| multiple       | inherits from more than one parent class                    |\n",
    "| multilevel     | parent class has also inherited from another class          |\n",
    "| hierarchical   | multiple child classes inherit from a single parent class   |\n",
    "| hybrid         | combination of two or more types                            |"
   ]
  },
  {
   "cell_type": "code",
   "execution_count": 8,
   "metadata": {},
   "outputs": [
    {
     "name": "stdout",
     "output_type": "stream",
     "text": [
      "Spot is a dog\n",
      "Spot says hi\n",
      "Spot is fetching the ball.\n",
      "Whiskers is a Cat\n",
      "Hello from cat\n",
      "Bones is 3 months old\n",
      "Bones says hi\n"
     ]
    }
   ],
   "source": [
    "class Animal:\n",
    "    def __init__(self, name, species):\n",
    "        self.name = name\n",
    "        self.species = species\n",
    "\n",
    "    def hi(self):\n",
    "        print(f\"{self.name} says hi\")\n",
    "\n",
    "    def __str__(self):\n",
    "        return f\"{self.name} is a {self.species}\"\n",
    "\n",
    "# Single Inheritance\n",
    "class Dog(Animal):\n",
    "    def __init__(self, name):\n",
    "        super().__init__(name, species=\"Dog\")\n",
    "\n",
    "    def fetch(self):\n",
    "        print(f\"{self.name} is fetching the ball.\")\n",
    "\n",
    "    def __str__(self):\n",
    "        return f\"{self.name} is a dog\"\n",
    "\n",
    "class Swimmer:\n",
    "    def swim(self):\n",
    "        print(\"Swimming...\")\n",
    "\n",
    "# Multiple and Hierarchial Inheritance\n",
    "class Cat(Animal, Swimmer):\n",
    "    def __init__(self, name):\n",
    "        Animal.__init__(self, name, species=\"Cat\")\n",
    "        Swimmer.__init__(self)\n",
    "\n",
    "    def hi(self):\n",
    "        print(\"Hello from cat\")\n",
    "\n",
    "    def __str__(self):\n",
    "        return f\"{self.name} is a Cat\"\n",
    "\n",
    "# Multilevel Inheritance\n",
    "class Puppy(Dog):\n",
    "    def __init__(self, name, age):\n",
    "        super().__init__(name)\n",
    "        self.age = age\n",
    "\n",
    "    def __str__(self):\n",
    "      return f\"{self.name} is {self.age} months old\"\n",
    "\n",
    "dog = Dog(\"Spot\")\n",
    "print(dog)\n",
    "dog.hi()\n",
    "dog.fetch()\n",
    "\n",
    "cat = Cat(\"Whiskers\")\n",
    "print(cat)\n",
    "cat.hi()\n",
    "\n",
    "pup = Puppy(\"Bones\", 3)\n",
    "print(pup)\n",
    "pup.hi()"
   ]
  },
  {
   "cell_type": "markdown",
   "metadata": {},
   "source": [
    "## polymorphism\n",
    "- have two methods with the same name and different implementation\n",
    "- based on object\n",
    "- run-time polymorphism: overriding\n",
    "- compile-time polymorphism: overloading"
   ]
  },
  {
   "cell_type": "code",
   "execution_count": 9,
   "metadata": {},
   "outputs": [
    {
     "name": "stdout",
     "output_type": "stream",
     "text": [
      "Area of rectangle: 200\n",
      "Area of circle: 314.1\n",
      "Area of triangle: 100.0\n"
     ]
    }
   ],
   "source": [
    "class Shape:\n",
    "    # overloading\n",
    "    def area(self, a, b = None):\n",
    "        if b:\n",
    "            print(f\"Area of rectangle: {a*b}\")\n",
    "        else: \n",
    "            print(f\"Area of circle: {3.141 * a * a}\")\n",
    "\n",
    "class Triangle(Shape):\n",
    "    # overloading\n",
    "    def area(self, b, h):\n",
    "        print(f\"Area of triangle: {0.5*b*h}\")\n",
    "\n",
    "s = Shape()\n",
    "t = Triangle()\n",
    "\n",
    "# overloading\n",
    "s.area(10, 20)\n",
    "s.area(10)\n",
    "\n",
    "# overloading\n",
    "t.area(10, 20)\n"
   ]
  },
  {
   "cell_type": "markdown",
   "metadata": {},
   "source": [
    "## encapsulation\n",
    "- data hiding\n",
    "- access control\n",
    "\n",
    "| type       | accessible from         | - |\n",
    "|------------|-------------------------| - |\n",
    "| public     | anywhere                | - |\n",
    "| protected  | class and subclasses    | single underscore before name |\n",
    "| private    | only the class          | double underscore before name |\n"
   ]
  },
  {
   "cell_type": "code",
   "execution_count": 10,
   "metadata": {},
   "outputs": [
    {
     "name": "stdout",
     "output_type": "stream",
     "text": [
      "Public Attribute: Alice\n",
      "Public Method: Name = Alice\n",
      "Protected Attribute: 30\n",
      "Protected Method: Age = 30\n",
      "Private Method: Salary = 50000\n"
     ]
    },
    {
     "ename": "AttributeError",
     "evalue": "'Person' object has no attribute '__salary'",
     "output_type": "error",
     "traceback": [
      "\u001b[1;31m---------------------------------------------------------------------------\u001b[0m",
      "\u001b[1;31mAttributeError\u001b[0m                            Traceback (most recent call last)",
      "Cell \u001b[1;32mIn[10], line 29\u001b[0m\n\u001b[0;32m     25\u001b[0m person\u001b[38;5;241m.\u001b[39m_protected_method() \n\u001b[0;32m     27\u001b[0m person\u001b[38;5;241m.\u001b[39maccess_private()\n\u001b[1;32m---> 29\u001b[0m \u001b[38;5;28mprint\u001b[39m(\u001b[43mperson\u001b[49m\u001b[38;5;241;43m.\u001b[39;49m\u001b[43m__salary\u001b[49m)\n\u001b[0;32m     30\u001b[0m person\u001b[38;5;241m.\u001b[39m__private_method() \n",
      "\u001b[1;31mAttributeError\u001b[0m: 'Person' object has no attribute '__salary'"
     ]
    }
   ],
   "source": [
    "class Person:\n",
    "    def __init__(self, name, age, salary):\n",
    "        self.name = name\n",
    "        self._age = age\n",
    "        self.__salary = salary\n",
    "\n",
    "    def public_method(self):\n",
    "        print(f\"Public Method: Name = {self.name}\")\n",
    "\n",
    "    def _protected_method(self):\n",
    "        print(f\"Protected Method: Age = {self._age}\")\n",
    "\n",
    "    def __private_method(self):\n",
    "        print(f\"Private Method: Salary = {self.__salary}\")\n",
    "\n",
    "    def access_private(self):\n",
    "        self.__private_method()\n",
    "\n",
    "person = Person(\"Alice\", 30, 50000)\n",
    "\n",
    "print(\"Public Attribute:\", person.name) \n",
    "person.public_method() \n",
    "\n",
    "print(\"Protected Attribute:\", person._age)  \n",
    "person._protected_method() \n",
    "\n",
    "person.access_private()\n",
    "\n",
    "print(person.__salary)\n",
    "person.__private_method() \n",
    "\n"
   ]
  },
  {
   "cell_type": "code",
   "execution_count": 11,
   "metadata": {},
   "outputs": [
    {
     "name": "stdout",
     "output_type": "stream",
     "text": [
      "Public Method: Name = aa\n",
      "Protected Method: Age = 20\n"
     ]
    },
    {
     "ename": "AttributeError",
     "evalue": "'A' object has no attribute '__private_method'",
     "output_type": "error",
     "traceback": [
      "\u001b[1;31m---------------------------------------------------------------------------\u001b[0m",
      "\u001b[1;31mAttributeError\u001b[0m                            Traceback (most recent call last)",
      "Cell \u001b[1;32mIn[11], line 9\u001b[0m\n\u001b[0;32m      7\u001b[0m a\u001b[38;5;241m.\u001b[39mpublic_method()\n\u001b[0;32m      8\u001b[0m a\u001b[38;5;241m.\u001b[39m_protected_method()\n\u001b[1;32m----> 9\u001b[0m \u001b[43ma\u001b[49m\u001b[38;5;241;43m.\u001b[39;49m\u001b[43m__private_method\u001b[49m()\n",
      "\u001b[1;31mAttributeError\u001b[0m: 'A' object has no attribute '__private_method'"
     ]
    }
   ],
   "source": [
    "class A(Person):\n",
    "    def __init__(self, name, age, salary):\n",
    "        super().__init__(name, age, salary)\n",
    "\n",
    "a = A(\"aa\", 20, 10000)\n",
    "\n",
    "a.public_method()\n",
    "a._protected_method()\n",
    "a.__private_method()"
   ]
  },
  {
   "cell_type": "markdown",
   "metadata": {},
   "source": [
    "## data abstraction\n",
    "- hides the internal implementation details \n",
    "- exposing only the necessary functionality\n",
    "\n",
    "abstract method:\n",
    "- force its child class to write the implementation of the all abstract methods defined in base class\n",
    "\n",
    "concrete method:\n",
    "- defined in an abstract base class with their complete implementation\n",
    "- to avoid reprication of code in subclasses\n",
    "\n",
    "| type    | abstract class contains             |\n",
    "|---------|-------------------------------------|\n",
    "| partial | both abstract and concrete methods  |\n",
    "| full    | only abstract methods               |"
   ]
  },
  {
   "cell_type": "code",
   "execution_count": 12,
   "metadata": {},
   "outputs": [],
   "source": [
    "from abc import ABC, abstractmethod"
   ]
  },
  {
   "cell_type": "code",
   "execution_count": 13,
   "metadata": {},
   "outputs": [
    {
     "name": "stdout",
     "output_type": "stream",
     "text": [
      "a's Account Balance: $1000\n",
      "$500 deposited. New Balance: $1500\n",
      "$1200 withdrawn. Remaining Balance: $300\n"
     ]
    },
    {
     "ename": "TypeError",
     "evalue": "Can't instantiate abstract class BankAccount without an implementation for abstract methods 'deposit', 'withdraw'",
     "output_type": "error",
     "traceback": [
      "\u001b[1;31m---------------------------------------------------------------------------\u001b[0m",
      "\u001b[1;31mTypeError\u001b[0m                                 Traceback (most recent call last)",
      "Cell \u001b[1;32mIn[13], line 40\u001b[0m\n\u001b[0;32m     37\u001b[0m savings\u001b[38;5;241m.\u001b[39mdeposit(\u001b[38;5;241m500\u001b[39m)\n\u001b[0;32m     38\u001b[0m savings\u001b[38;5;241m.\u001b[39mwithdraw(\u001b[38;5;241m1200\u001b[39m)  \n\u001b[1;32m---> 40\u001b[0m acc \u001b[38;5;241m=\u001b[39m \u001b[43mBankAccount\u001b[49m\u001b[43m(\u001b[49m\u001b[38;5;124;43m\"\u001b[39;49m\u001b[38;5;124;43mCharlie\u001b[39;49m\u001b[38;5;124;43m\"\u001b[39;49m\u001b[43m,\u001b[49m\u001b[43m \u001b[49m\u001b[38;5;241;43m1000\u001b[39;49m\u001b[43m)\u001b[49m \n",
      "\u001b[1;31mTypeError\u001b[0m: Can't instantiate abstract class BankAccount without an implementation for abstract methods 'deposit', 'withdraw'"
     ]
    }
   ],
   "source": [
    "from abc import ABC, abstractmethod\n",
    "\n",
    "class BankAccount(ABC):\n",
    "    def __init__(self, account_holder, balance):\n",
    "        self.account_holder = account_holder\n",
    "        self.balance = balance \n",
    "\n",
    "    @abstractmethod\n",
    "    def deposit(self, amount):\n",
    "        pass\n",
    "\n",
    "    @abstractmethod\n",
    "    def withdraw(self, amount):\n",
    "        pass\n",
    "\n",
    "    def get_balance(self):\n",
    "        return f\"{self.account_holder}'s Account Balance: ${self.balance}\"\n",
    "\n",
    "class Account(BankAccount):\n",
    "    def __init__(self, account_holder, balance):\n",
    "        super().__init__(account_holder, balance)\n",
    "\n",
    "    def deposit(self, amount):\n",
    "        self.balance += amount\n",
    "        print(f\"${amount} deposited. New Balance: ${self.balance}\")\n",
    "\n",
    "    def withdraw(self, amount):\n",
    "        if amount > self.balance:\n",
    "            print(\"Insufficient balance!\")\n",
    "        else:\n",
    "            self.balance -= amount\n",
    "            print(f\"${amount} withdrawn. Remaining Balance: ${self.balance}\")\n",
    "\n",
    "savings = Account(\"a\", 1000)\n",
    "\n",
    "print(savings.get_balance())\n",
    "savings.deposit(500)\n",
    "savings.withdraw(1200)  \n",
    "\n",
    "acc = BankAccount(\"Charlie\", 1000) \n"
   ]
  }
 ],
 "metadata": {
  "kernelspec": {
   "display_name": "traineeship",
   "language": "python",
   "name": "python3"
  },
  "language_info": {
   "codemirror_mode": {
    "name": "ipython",
    "version": 3
   },
   "file_extension": ".py",
   "mimetype": "text/x-python",
   "name": "python",
   "nbconvert_exporter": "python",
   "pygments_lexer": "ipython3",
   "version": "3.12.8"
  }
 },
 "nbformat": 4,
 "nbformat_minor": 2
}
