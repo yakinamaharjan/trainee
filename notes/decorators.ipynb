{
 "cells": [
  {
   "cell_type": "markdown",
   "id": "2abde8c0",
   "metadata": {},
   "source": [
    "## **Decorators**\n",
    "- a function that takes another function as an argument and returns a new function with enhanced functionality.\n",
    "- to modify or extend the behavior of functions or classes without modifying their actual code."
   ]
  },
  {
   "cell_type": "code",
   "execution_count": 8,
   "id": "ff65dbed",
   "metadata": {},
   "outputs": [
    {
     "name": "stdout",
     "output_type": "stream",
     "text": [
      "Before calling the function.\n",
      "Hello, World!\n",
      "After calling the function.\n"
     ]
    }
   ],
   "source": [
    "def decorator_name(func):\n",
    "    def wrapper():\n",
    "        print(\"Before calling the function.\")\n",
    "        func()\n",
    "        print(\"After calling the function.\")\n",
    "    return wrapper\n",
    "\n",
    "@decorator_name\n",
    "def greet():\n",
    "    print(\"Hello, World!\")\n",
    "\n",
    "greet()"
   ]
  },
  {
   "cell_type": "markdown",
   "id": "9ae6eefa",
   "metadata": {},
   "source": [
    "**Higher-order function:**\n",
    "- take one or more functions as arguments\n",
    "- return function as a result \n",
    "- function that operates on other functions\n",
    "  \n",
    "Decorators are a type of **higher-order function**: they take a function as input, modify it, and return a new function that extends or changes its behavior"
   ]
  },
  {
   "cell_type": "markdown",
   "id": "42d3836e",
   "metadata": {},
   "source": [
    "**Functions as First-Class Objects**\n",
    "- functions are first-class objects\n",
    "- they can be treated like any other object, such as integers, strings, or lists \n",
    "- thus functions can be passed and manipulated in ways that are not possible in many other programming languages\n",
    "    - can be assigned to variables\n",
    "    - can be passed as arguments\n",
    "    - can be returned from other functions\n",
    "    - can be stored in data structures"
   ]
  },
  {
   "cell_type": "code",
   "execution_count": null,
   "id": "54b60d0a",
   "metadata": {},
   "outputs": [
    {
     "name": "stdout",
     "output_type": "stream",
     "text": [
      "Hello, human!\n",
      "Hello, human!\n",
      "10\n"
     ]
    }
   ],
   "source": [
    "# Assigning a function to a variable\n",
    "def greet(n):\n",
    "    return f\"Hello, {n}!\"\n",
    "say_hi = greet \n",
    "print(say_hi(\"human\"))\n",
    "\n",
    "# Passing a function as an argument\n",
    "def apply(f, v):\n",
    "    return f(v)\n",
    "res = apply(say_hi, \"human\")\n",
    "print(res)\n",
    "\n",
    "# Returning a function from another function\n",
    "def make_mult(f):\n",
    "    def mult(x):\n",
    "        return x * f\n",
    "    return mult\n",
    "dbl = make_mult(2)\n",
    "print(dbl(5))"
   ]
  },
  {
   "cell_type": "markdown",
   "id": "25aee78b",
   "metadata": {},
   "source": [
    "Decorators:\n",
    "- receive the function to be decorated as an argument\n",
    "- return a new function that wraps the original function\n",
    "- a decorated function is assigned to the variable name of the original function (original function is replaced by the decorated (wrapped) function)"
   ]
  },
  {
   "cell_type": "markdown",
   "id": "42a33850",
   "metadata": {},
   "source": [
    "### Types of decorators"
   ]
  },
  {
   "cell_type": "markdown",
   "id": "4c8ab021",
   "metadata": {},
   "source": [
    "1. Function decorators"
   ]
  },
  {
   "cell_type": "markdown",
   "id": "07aa27ce",
   "metadata": {},
   "source": [
    "2. Method decorators"
   ]
  },
  {
   "cell_type": "code",
   "execution_count": 10,
   "id": "588d6f7e",
   "metadata": {},
   "outputs": [
    {
     "name": "stdout",
     "output_type": "stream",
     "text": [
      "Before method execution\n",
      "Hello!\n",
      "After method execution\n"
     ]
    }
   ],
   "source": [
    "def method_decorator(func):\n",
    "    def wrapper(self, *args, **kwargs):\n",
    "        print(\"Before method execution\")\n",
    "        res = func(self, *args, **kwargs)\n",
    "        print(\"After method execution\")\n",
    "        return res\n",
    "    return wrapper\n",
    "\n",
    "class MyClass:\n",
    "    @method_decorator\n",
    "    def say_hello(self):\n",
    "        print(\"Hello!\")\n",
    "\n",
    "obj = MyClass()\n",
    "obj.say_hello()"
   ]
  },
  {
   "cell_type": "markdown",
   "id": "9d9062e1",
   "metadata": {},
   "source": [
    "3. Class decorators"
   ]
  },
  {
   "cell_type": "code",
   "execution_count": 11,
   "id": "692cc493",
   "metadata": {},
   "outputs": [
    {
     "name": "stdout",
     "output_type": "stream",
     "text": [
      "Person\n"
     ]
    }
   ],
   "source": [
    "def fun(cls):\n",
    "    cls.class_name = cls.__name__\n",
    "    return cls\n",
    "\n",
    "@fun\n",
    "class Person:\n",
    "    pass\n",
    "\n",
    "print(Person.class_name) "
   ]
  },
  {
   "cell_type": "markdown",
   "id": "ccbd8c46",
   "metadata": {},
   "source": [
    "### Some built-in decorators\n",
    "**@staticmethod:** define a method that doesn’t operate on an instance of the class (i.e., it doesn’t use self)"
   ]
  },
  {
   "cell_type": "code",
   "execution_count": 12,
   "id": "713b7ee5",
   "metadata": {},
   "outputs": [
    {
     "name": "stdout",
     "output_type": "stream",
     "text": [
      "8\n"
     ]
    }
   ],
   "source": [
    "class MathOperations:\n",
    "    @staticmethod\n",
    "    def add(x, y):\n",
    "        return x + y\n",
    "\n",
    "res = MathOperations.add(5, 3)\n",
    "print(res)  "
   ]
  },
  {
   "cell_type": "markdown",
   "id": "c95c3050",
   "metadata": {},
   "source": [
    "**@classmethod:** method that operates on the class itself, can access and modify class state that applies across all instances of the class"
   ]
  },
  {
   "cell_type": "code",
   "execution_count": 13,
   "id": "4562e6a7",
   "metadata": {},
   "outputs": [
    {
     "name": "stdout",
     "output_type": "stream",
     "text": [
      "1.1\n"
     ]
    }
   ],
   "source": [
    "class Employee:\n",
    "    raise_amount = 1.05\n",
    "\n",
    "    def __init__(self, name, salary):\n",
    "        self.name = name\n",
    "        self.salary = salary\n",
    "\n",
    "    @classmethod\n",
    "    def set_raise_amount(cls, amount):\n",
    "        cls.raise_amount = amount\n",
    "\n",
    "Employee.set_raise_amount(1.10)\n",
    "print(Employee.raise_amount)  "
   ]
  },
  {
   "cell_type": "markdown",
   "id": "68c8379c",
   "metadata": {},
   "source": [
    "**@property:** define a method as a property, which allows you to access it like an attribute"
   ]
  },
  {
   "cell_type": "code",
   "execution_count": 14,
   "id": "d92aaa6c",
   "metadata": {},
   "outputs": [
    {
     "name": "stdout",
     "output_type": "stream",
     "text": [
      "5\n",
      "78.53975\n",
      "314.159\n"
     ]
    }
   ],
   "source": [
    "class Circle:\n",
    "    def __init__(self, radius):\n",
    "        self._radius = radius\n",
    "\n",
    "    @property\n",
    "    def radius(self):\n",
    "        return self._radius\n",
    "\n",
    "    @radius.setter\n",
    "    def radius(self, value):\n",
    "        if value >= 0:\n",
    "            self._radius = value\n",
    "        else:\n",
    "            raise ValueError(\"Radius cannot be negative\")\n",
    "\n",
    "    @property\n",
    "    def area(self):\n",
    "        return 3.14159 * (self._radius ** 2)\n",
    "\n",
    "c = Circle(5)\n",
    "print(c.radius) \n",
    "print(c.area)    \n",
    "c.radius = 10\n",
    "print(c.area)    \n"
   ]
  },
  {
   "cell_type": "markdown",
   "id": "57e34a0f",
   "metadata": {},
   "source": [
    "### Chaining decorators\n",
    "- decorating a function with multiple decorators"
   ]
  },
  {
   "cell_type": "code",
   "execution_count": 15,
   "id": "13beb47a",
   "metadata": {},
   "outputs": [
    {
     "name": "stdout",
     "output_type": "stream",
     "text": [
      "400\n",
      "200\n"
     ]
    }
   ],
   "source": [
    "def decor1(func): \n",
    "    def inner(): \n",
    "        x = func() \n",
    "        return x * x\n",
    "    return inner \n",
    "\n",
    "def decor(func): \n",
    "    def inner(): \n",
    "        x = func() \n",
    "        return 2 * x \n",
    "    return inner \n",
    "\n",
    "@decor1\n",
    "@decor\n",
    "def num(): \n",
    "    return 10\n",
    "\n",
    "@decor\n",
    "@decor1\n",
    "def num2():\n",
    "    return 10\n",
    "  \n",
    "print(num()) \n",
    "print(num2())\n"
   ]
  },
  {
   "cell_type": "markdown",
   "id": "eb8f57cc",
   "metadata": {},
   "source": [
    "### General Purpose Decorators\n",
    "- args and **kwargs collect all positional and keyword argument\n",
    "- pass as many arguments as we would like during function calls\n"
   ]
  },
  {
   "cell_type": "code",
   "execution_count": 16,
   "id": "4957b7fa",
   "metadata": {},
   "outputs": [
    {
     "name": "stdout",
     "output_type": "stream",
     "text": [
      "The positional arguments are ()\n",
      "The keyword arguments are {}\n",
      "fn\n"
     ]
    }
   ],
   "source": [
    "def general_decorator(function_to_decorate):\n",
    "    def a_wrapper_accepting_arbitrary_arguments(*args,**kwargs):\n",
    "        print('The positional arguments are', args)\n",
    "        print('The keyword arguments are', kwargs)\n",
    "        function_to_decorate(*args)\n",
    "    return a_wrapper_accepting_arbitrary_arguments\n",
    "\n",
    "@general_decorator\n",
    "def function_with_no_argument():\n",
    "    print(\"fn\")\n",
    "\n",
    "function_with_no_argument()"
   ]
  },
  {
   "cell_type": "code",
   "execution_count": null,
   "id": "8ee3b338",
   "metadata": {},
   "outputs": [],
   "source": []
  },
  {
   "cell_type": "markdown",
   "id": "99164295",
   "metadata": {},
   "source": []
  }
 ],
 "metadata": {
  "kernelspec": {
   "display_name": "traineeship",
   "language": "python",
   "name": "python3"
  },
  "language_info": {
   "codemirror_mode": {
    "name": "ipython",
    "version": 3
   },
   "file_extension": ".py",
   "mimetype": "text/x-python",
   "name": "python",
   "nbconvert_exporter": "python",
   "pygments_lexer": "ipython3",
   "version": "3.12.8"
  }
 },
 "nbformat": 4,
 "nbformat_minor": 5
}
