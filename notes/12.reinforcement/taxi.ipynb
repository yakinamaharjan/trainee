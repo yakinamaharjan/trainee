{
 "cells": [
  {
   "cell_type": "code",
   "execution_count": 30,
   "metadata": {},
   "outputs": [],
   "source": [
    "import random\n",
    "import gym\n",
    "import numpy as np\n",
    "np.bool8 = np.bool_"
   ]
  },
  {
   "cell_type": "code",
   "execution_count": 31,
   "metadata": {},
   "outputs": [],
   "source": [
    "env = gym.make('Taxi-v3').env"
   ]
  },
  {
   "cell_type": "code",
   "execution_count": 32,
   "metadata": {},
   "outputs": [],
   "source": [
    "alpha = 0.9\n",
    "gamma = 0.95\n",
    "epsilon = 1\n",
    "epsilon_decay = 0.9995\n",
    "min_epsilon = 0.01\n",
    "episodes = 10000\n",
    "max_steps = 100"
   ]
  },
  {
   "cell_type": "code",
   "execution_count": 33,
   "metadata": {},
   "outputs": [],
   "source": [
    "q_table = np.zeros([env.observation_space.n, env.action_space.n])"
   ]
  },
  {
   "cell_type": "code",
   "execution_count": 34,
   "metadata": {},
   "outputs": [],
   "source": [
    "def choose_action(state):\n",
    "    if random.uniform(0, 1) < epsilon:\n",
    "        return env.action_space.sample()\n",
    "    else:\n",
    "        return np.argmax(q_table[state, :])"
   ]
  },
  {
   "cell_type": "code",
   "execution_count": 35,
   "metadata": {},
   "outputs": [],
   "source": [
    "for episode in range(episodes):\n",
    "    state, _ = env.reset()\n",
    "    done = False\n",
    "    for step in range(max_steps):\n",
    "        action = choose_action(state)\n",
    "        new_state, reward, done, truncated, info = env.step(action)\n",
    "\n",
    "        old_val = q_table[state, action]\n",
    "        next_max = np.max(q_table[new_state, :])\n",
    "\n",
    "        q_table[state, action] = (1 - alpha) * old_val + alpha * (reward + gamma * next_max)\n",
    "        state = new_state\n",
    "        if done or truncated:\n",
    "            break\n",
    "        \n",
    "        # env.render()"
   ]
  },
  {
   "cell_type": "code",
   "execution_count": 36,
   "metadata": {},
   "outputs": [],
   "source": [
    "epsilon = max(min_epsilon, epsilon * epsilon_decay)"
   ]
  },
  {
   "cell_type": "code",
   "execution_count": 37,
   "metadata": {},
   "outputs": [],
   "source": [
    "env = gym.make('Taxi-v3', render_mode='human').env"
   ]
  },
  {
   "cell_type": "code",
   "execution_count": 38,
   "metadata": {},
   "outputs": [
    {
     "name": "stdout",
     "output_type": "stream",
     "text": [
      "Episode:  0\n",
      "Episode: 0 , Reward: 20\n",
      "Episode:  1\n",
      "Episode: 1 , Reward: 20\n",
      "Episode:  2\n",
      "Episode: 2 , Reward: 20\n",
      "Episode:  3\n",
      "Episode: 3 , Reward: 20\n",
      "Episode:  4\n",
      "Episode: 4 , Reward: 20\n",
      "Episode:  5\n",
      "Episode: 5 , Reward: 20\n",
      "Episode:  6\n",
      "Episode: 6 , Reward: 20\n",
      "Episode:  7\n",
      "Episode: 7 , Reward: 20\n",
      "Episode:  8\n",
      "Episode: 8 , Reward: 20\n",
      "Episode:  9\n",
      "Episode: 9 , Reward: 20\n"
     ]
    }
   ],
   "source": [
    "for episode in range(10):\n",
    "    state, _ = env.reset()\n",
    "    done = False\n",
    "\n",
    "    for step in range(max_steps):\n",
    "        env.render()\n",
    "        action = np.argmax(q_table[state, :])\n",
    "        new_state, reward, done, truncated, info = env.step(action)\n",
    "        state = new_state\n",
    "\n",
    "        if done or truncated:\n",
    "            env.render()\n",
    "            print(\"Episode:\" , episode, \", Reward:\", reward)\n",
    "            break"
   ]
  },
  {
   "cell_type": "code",
   "execution_count": 39,
   "metadata": {},
   "outputs": [],
   "source": [
    "env.close()"
   ]
  }
 ],
 "metadata": {
  "kernelspec": {
   "display_name": "traineeship",
   "language": "python",
   "name": "python3"
  },
  "language_info": {
   "codemirror_mode": {
    "name": "ipython",
    "version": 3
   },
   "file_extension": ".py",
   "mimetype": "text/x-python",
   "name": "python",
   "nbconvert_exporter": "python",
   "pygments_lexer": "ipython3",
   "version": "3.12.8"
  }
 },
 "nbformat": 4,
 "nbformat_minor": 2
}
