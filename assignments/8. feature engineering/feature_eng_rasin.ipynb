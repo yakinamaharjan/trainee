{
 "cells": [
  {
   "cell_type": "code",
   "execution_count": null,
   "metadata": {},
   "outputs": [],
   "source": [
    "import pandas as pd\n",
    "import numpy as np\n",
    "from matplotlib import pyplot as plt\n",
    "import seaborn as sns\n",
    "\n",
    "from sklearn.impute import SimpleImputer\n",
    "from sklearn.preprocessing import LabelEncoder\n",
    "from sklearn.preprocessing import StandardScaler, MinMaxScaler\n",
    "\n",
    "from sklearn.neighbors import LocalOutlierFactor\n",
    "from sklearn.svm import OneClassSVM\n",
    "from sklearn.ensemble import IsolationForest\n",
    "\n",
    "from sklearn.feature_selection import RFE\n",
    "from sklearn.ensemble import RandomForestClassifier\n",
    "\n",
    "from sklearn.model_selection import train_test_split\n",
    "from sklearn.discriminant_analysis import LinearDiscriminantAnalysis\n",
    "from sklearn.decomposition import PCA\n",
    "from sklearn.manifold import TSNE"
   ]
  },
  {
   "cell_type": "code",
   "execution_count": 3,
   "metadata": {},
   "outputs": [
    {
     "data": {
      "text/html": [
       "<div>\n",
       "<style scoped>\n",
       "    .dataframe tbody tr th:only-of-type {\n",
       "        vertical-align: middle;\n",
       "    }\n",
       "\n",
       "    .dataframe tbody tr th {\n",
       "        vertical-align: top;\n",
       "    }\n",
       "\n",
       "    .dataframe thead th {\n",
       "        text-align: right;\n",
       "    }\n",
       "</style>\n",
       "<table border=\"1\" class=\"dataframe\">\n",
       "  <thead>\n",
       "    <tr style=\"text-align: right;\">\n",
       "      <th></th>\n",
       "      <th>Area</th>\n",
       "      <th>MajorAxisLength</th>\n",
       "      <th>MinorAxisLength</th>\n",
       "      <th>Eccentricity</th>\n",
       "      <th>ConvexArea</th>\n",
       "      <th>Extent</th>\n",
       "      <th>Perimeter</th>\n",
       "      <th>Class</th>\n",
       "    </tr>\n",
       "  </thead>\n",
       "  <tbody>\n",
       "    <tr>\n",
       "      <th>0</th>\n",
       "      <td>87524</td>\n",
       "      <td>442.246011</td>\n",
       "      <td>253.291155</td>\n",
       "      <td>0.819738</td>\n",
       "      <td>90546</td>\n",
       "      <td>0.758651</td>\n",
       "      <td>1184.040</td>\n",
       "      <td>Kecimen</td>\n",
       "    </tr>\n",
       "    <tr>\n",
       "      <th>1</th>\n",
       "      <td>75166</td>\n",
       "      <td>406.690687</td>\n",
       "      <td>243.032436</td>\n",
       "      <td>0.801805</td>\n",
       "      <td>78789</td>\n",
       "      <td>0.684130</td>\n",
       "      <td>1121.786</td>\n",
       "      <td>Kecimen</td>\n",
       "    </tr>\n",
       "    <tr>\n",
       "      <th>2</th>\n",
       "      <td>90856</td>\n",
       "      <td>442.267048</td>\n",
       "      <td>266.328318</td>\n",
       "      <td>0.798354</td>\n",
       "      <td>93717</td>\n",
       "      <td>0.637613</td>\n",
       "      <td>1208.575</td>\n",
       "      <td>Kecimen</td>\n",
       "    </tr>\n",
       "    <tr>\n",
       "      <th>3</th>\n",
       "      <td>45928</td>\n",
       "      <td>286.540559</td>\n",
       "      <td>208.760042</td>\n",
       "      <td>0.684989</td>\n",
       "      <td>47336</td>\n",
       "      <td>0.699599</td>\n",
       "      <td>844.162</td>\n",
       "      <td>Kecimen</td>\n",
       "    </tr>\n",
       "    <tr>\n",
       "      <th>4</th>\n",
       "      <td>79408</td>\n",
       "      <td>352.190770</td>\n",
       "      <td>290.827533</td>\n",
       "      <td>0.564011</td>\n",
       "      <td>81463</td>\n",
       "      <td>0.792772</td>\n",
       "      <td>1073.251</td>\n",
       "      <td>Kecimen</td>\n",
       "    </tr>\n",
       "  </tbody>\n",
       "</table>\n",
       "</div>"
      ],
      "text/plain": [
       "    Area  MajorAxisLength  MinorAxisLength  Eccentricity  ConvexArea  \\\n",
       "0  87524       442.246011       253.291155      0.819738       90546   \n",
       "1  75166       406.690687       243.032436      0.801805       78789   \n",
       "2  90856       442.267048       266.328318      0.798354       93717   \n",
       "3  45928       286.540559       208.760042      0.684989       47336   \n",
       "4  79408       352.190770       290.827533      0.564011       81463   \n",
       "\n",
       "     Extent  Perimeter    Class  \n",
       "0  0.758651   1184.040  Kecimen  \n",
       "1  0.684130   1121.786  Kecimen  \n",
       "2  0.637613   1208.575  Kecimen  \n",
       "3  0.699599    844.162  Kecimen  \n",
       "4  0.792772   1073.251  Kecimen  "
      ]
     },
     "execution_count": 3,
     "metadata": {},
     "output_type": "execute_result"
    }
   ],
   "source": [
    "df = pd.read_excel('rasin.xlsx')\n",
    "df.head()"
   ]
  },
  {
   "cell_type": "markdown",
   "metadata": {},
   "source": [
    "1. Identify the columns with missing data from the given dataset."
   ]
  },
  {
   "cell_type": "code",
   "execution_count": 4,
   "metadata": {},
   "outputs": [
    {
     "data": {
      "text/plain": [
       "Area               0\n",
       "MajorAxisLength    0\n",
       "MinorAxisLength    0\n",
       "Eccentricity       0\n",
       "ConvexArea         0\n",
       "Extent             0\n",
       "Perimeter          0\n",
       "Class              0\n",
       "dtype: int64"
      ]
     },
     "execution_count": 4,
     "metadata": {},
     "output_type": "execute_result"
    }
   ],
   "source": [
    "df.isnull().sum()"
   ]
  },
  {
   "cell_type": "markdown",
   "metadata": {},
   "source": [
    "2. Perform type conversions for required numeric columns"
   ]
  },
  {
   "cell_type": "code",
   "execution_count": 5,
   "metadata": {},
   "outputs": [
    {
     "data": {
      "text/plain": [
       "Area                 int64\n",
       "MajorAxisLength    float64\n",
       "MinorAxisLength    float64\n",
       "Eccentricity       float64\n",
       "ConvexArea           int64\n",
       "Extent             float64\n",
       "Perimeter          float64\n",
       "Class               object\n",
       "dtype: object"
      ]
     },
     "execution_count": 5,
     "metadata": {},
     "output_type": "execute_result"
    }
   ],
   "source": [
    "df.dtypes"
   ]
  },
  {
   "cell_type": "code",
   "execution_count": 6,
   "metadata": {},
   "outputs": [],
   "source": [
    "df_x = df.drop('Class', axis=1)"
   ]
  },
  {
   "cell_type": "markdown",
   "metadata": {},
   "source": [
    "3. Perform One-Hot Encoding, Ordinal Encoding and Label Encoding on the required columns"
   ]
  },
  {
   "cell_type": "code",
   "execution_count": 7,
   "metadata": {},
   "outputs": [
    {
     "data": {
      "text/plain": [
       "Area               900\n",
       "MajorAxisLength    900\n",
       "MinorAxisLength    900\n",
       "Eccentricity       900\n",
       "ConvexArea         896\n",
       "Extent             900\n",
       "Perimeter          900\n",
       "Class                2\n",
       "dtype: int64"
      ]
     },
     "execution_count": 7,
     "metadata": {},
     "output_type": "execute_result"
    }
   ],
   "source": [
    "df.nunique()"
   ]
  },
  {
   "cell_type": "code",
   "execution_count": 8,
   "metadata": {},
   "outputs": [
    {
     "data": {
      "text/html": [
       "<div>\n",
       "<style scoped>\n",
       "    .dataframe tbody tr th:only-of-type {\n",
       "        vertical-align: middle;\n",
       "    }\n",
       "\n",
       "    .dataframe tbody tr th {\n",
       "        vertical-align: top;\n",
       "    }\n",
       "\n",
       "    .dataframe thead th {\n",
       "        text-align: right;\n",
       "    }\n",
       "</style>\n",
       "<table border=\"1\" class=\"dataframe\">\n",
       "  <thead>\n",
       "    <tr style=\"text-align: right;\">\n",
       "      <th></th>\n",
       "      <th>Area</th>\n",
       "      <th>MajorAxisLength</th>\n",
       "      <th>MinorAxisLength</th>\n",
       "      <th>Eccentricity</th>\n",
       "      <th>ConvexArea</th>\n",
       "      <th>Extent</th>\n",
       "      <th>Perimeter</th>\n",
       "      <th>Class</th>\n",
       "    </tr>\n",
       "  </thead>\n",
       "  <tbody>\n",
       "    <tr>\n",
       "      <th>0</th>\n",
       "      <td>87524</td>\n",
       "      <td>442.246011</td>\n",
       "      <td>253.291155</td>\n",
       "      <td>0.819738</td>\n",
       "      <td>90546</td>\n",
       "      <td>0.758651</td>\n",
       "      <td>1184.040</td>\n",
       "      <td>1</td>\n",
       "    </tr>\n",
       "    <tr>\n",
       "      <th>1</th>\n",
       "      <td>75166</td>\n",
       "      <td>406.690687</td>\n",
       "      <td>243.032436</td>\n",
       "      <td>0.801805</td>\n",
       "      <td>78789</td>\n",
       "      <td>0.684130</td>\n",
       "      <td>1121.786</td>\n",
       "      <td>1</td>\n",
       "    </tr>\n",
       "    <tr>\n",
       "      <th>2</th>\n",
       "      <td>90856</td>\n",
       "      <td>442.267048</td>\n",
       "      <td>266.328318</td>\n",
       "      <td>0.798354</td>\n",
       "      <td>93717</td>\n",
       "      <td>0.637613</td>\n",
       "      <td>1208.575</td>\n",
       "      <td>1</td>\n",
       "    </tr>\n",
       "    <tr>\n",
       "      <th>3</th>\n",
       "      <td>45928</td>\n",
       "      <td>286.540559</td>\n",
       "      <td>208.760042</td>\n",
       "      <td>0.684989</td>\n",
       "      <td>47336</td>\n",
       "      <td>0.699599</td>\n",
       "      <td>844.162</td>\n",
       "      <td>1</td>\n",
       "    </tr>\n",
       "    <tr>\n",
       "      <th>4</th>\n",
       "      <td>79408</td>\n",
       "      <td>352.190770</td>\n",
       "      <td>290.827533</td>\n",
       "      <td>0.564011</td>\n",
       "      <td>81463</td>\n",
       "      <td>0.792772</td>\n",
       "      <td>1073.251</td>\n",
       "      <td>1</td>\n",
       "    </tr>\n",
       "  </tbody>\n",
       "</table>\n",
       "</div>"
      ],
      "text/plain": [
       "    Area  MajorAxisLength  MinorAxisLength  Eccentricity  ConvexArea  \\\n",
       "0  87524       442.246011       253.291155      0.819738       90546   \n",
       "1  75166       406.690687       243.032436      0.801805       78789   \n",
       "2  90856       442.267048       266.328318      0.798354       93717   \n",
       "3  45928       286.540559       208.760042      0.684989       47336   \n",
       "4  79408       352.190770       290.827533      0.564011       81463   \n",
       "\n",
       "     Extent  Perimeter  Class  \n",
       "0  0.758651   1184.040      1  \n",
       "1  0.684130   1121.786      1  \n",
       "2  0.637613   1208.575      1  \n",
       "3  0.699599    844.162      1  \n",
       "4  0.792772   1073.251      1  "
      ]
     },
     "execution_count": 8,
     "metadata": {},
     "output_type": "execute_result"
    }
   ],
   "source": [
    "label_encoder = LabelEncoder()\n",
    "df['Class'] = label_encoder.fit_transform(df['Class'])\n",
    "\n",
    "df.head()"
   ]
  },
  {
   "cell_type": "markdown",
   "metadata": {},
   "source": [
    "4. Analyze the data and perform imputation using the best-fitted technique (mean, median, mode and KNN (k=5)) for the given column"
   ]
  },
  {
   "cell_type": "markdown",
   "metadata": {},
   "source": [
    "5. Identify the outliers from the given columns using statistical methods (IQR, z-score)"
   ]
  },
  {
   "cell_type": "code",
   "execution_count": 9,
   "metadata": {},
   "outputs": [
    {
     "data": {
      "text/html": [
       "<div>\n",
       "<style scoped>\n",
       "    .dataframe tbody tr th:only-of-type {\n",
       "        vertical-align: middle;\n",
       "    }\n",
       "\n",
       "    .dataframe tbody tr th {\n",
       "        vertical-align: top;\n",
       "    }\n",
       "\n",
       "    .dataframe thead th {\n",
       "        text-align: right;\n",
       "    }\n",
       "</style>\n",
       "<table border=\"1\" class=\"dataframe\">\n",
       "  <thead>\n",
       "    <tr style=\"text-align: right;\">\n",
       "      <th></th>\n",
       "      <th>Area</th>\n",
       "      <th>MajorAxisLength</th>\n",
       "      <th>MinorAxisLength</th>\n",
       "      <th>Eccentricity</th>\n",
       "      <th>ConvexArea</th>\n",
       "      <th>Extent</th>\n",
       "      <th>Perimeter</th>\n",
       "    </tr>\n",
       "  </thead>\n",
       "  <tbody>\n",
       "    <tr>\n",
       "      <th>count</th>\n",
       "      <td>900.000000</td>\n",
       "      <td>900.000000</td>\n",
       "      <td>900.000000</td>\n",
       "      <td>900.000000</td>\n",
       "      <td>900.000000</td>\n",
       "      <td>900.000000</td>\n",
       "      <td>900.000000</td>\n",
       "    </tr>\n",
       "    <tr>\n",
       "      <th>mean</th>\n",
       "      <td>87804.127778</td>\n",
       "      <td>430.929950</td>\n",
       "      <td>254.488133</td>\n",
       "      <td>0.781542</td>\n",
       "      <td>91186.090000</td>\n",
       "      <td>0.699508</td>\n",
       "      <td>1165.906636</td>\n",
       "    </tr>\n",
       "    <tr>\n",
       "      <th>std</th>\n",
       "      <td>39002.111390</td>\n",
       "      <td>116.035121</td>\n",
       "      <td>49.988902</td>\n",
       "      <td>0.090318</td>\n",
       "      <td>40769.290132</td>\n",
       "      <td>0.053468</td>\n",
       "      <td>273.764315</td>\n",
       "    </tr>\n",
       "    <tr>\n",
       "      <th>min</th>\n",
       "      <td>25387.000000</td>\n",
       "      <td>225.629541</td>\n",
       "      <td>143.710872</td>\n",
       "      <td>0.348730</td>\n",
       "      <td>26139.000000</td>\n",
       "      <td>0.379856</td>\n",
       "      <td>619.074000</td>\n",
       "    </tr>\n",
       "    <tr>\n",
       "      <th>25%</th>\n",
       "      <td>59348.000000</td>\n",
       "      <td>345.442898</td>\n",
       "      <td>219.111126</td>\n",
       "      <td>0.741766</td>\n",
       "      <td>61513.250000</td>\n",
       "      <td>0.670869</td>\n",
       "      <td>966.410750</td>\n",
       "    </tr>\n",
       "    <tr>\n",
       "      <th>50%</th>\n",
       "      <td>78902.000000</td>\n",
       "      <td>407.803951</td>\n",
       "      <td>247.848409</td>\n",
       "      <td>0.798846</td>\n",
       "      <td>81651.000000</td>\n",
       "      <td>0.707367</td>\n",
       "      <td>1119.509000</td>\n",
       "    </tr>\n",
       "    <tr>\n",
       "      <th>75%</th>\n",
       "      <td>105028.250000</td>\n",
       "      <td>494.187014</td>\n",
       "      <td>279.888575</td>\n",
       "      <td>0.842571</td>\n",
       "      <td>108375.750000</td>\n",
       "      <td>0.734991</td>\n",
       "      <td>1308.389750</td>\n",
       "    </tr>\n",
       "    <tr>\n",
       "      <th>max</th>\n",
       "      <td>235047.000000</td>\n",
       "      <td>997.291941</td>\n",
       "      <td>492.275279</td>\n",
       "      <td>0.962124</td>\n",
       "      <td>278217.000000</td>\n",
       "      <td>0.835455</td>\n",
       "      <td>2697.753000</td>\n",
       "    </tr>\n",
       "  </tbody>\n",
       "</table>\n",
       "</div>"
      ],
      "text/plain": [
       "                Area  MajorAxisLength  MinorAxisLength  Eccentricity  \\\n",
       "count     900.000000       900.000000       900.000000    900.000000   \n",
       "mean    87804.127778       430.929950       254.488133      0.781542   \n",
       "std     39002.111390       116.035121        49.988902      0.090318   \n",
       "min     25387.000000       225.629541       143.710872      0.348730   \n",
       "25%     59348.000000       345.442898       219.111126      0.741766   \n",
       "50%     78902.000000       407.803951       247.848409      0.798846   \n",
       "75%    105028.250000       494.187014       279.888575      0.842571   \n",
       "max    235047.000000       997.291941       492.275279      0.962124   \n",
       "\n",
       "          ConvexArea      Extent    Perimeter  \n",
       "count     900.000000  900.000000   900.000000  \n",
       "mean    91186.090000    0.699508  1165.906636  \n",
       "std     40769.290132    0.053468   273.764315  \n",
       "min     26139.000000    0.379856   619.074000  \n",
       "25%     61513.250000    0.670869   966.410750  \n",
       "50%     81651.000000    0.707367  1119.509000  \n",
       "75%    108375.750000    0.734991  1308.389750  \n",
       "max    278217.000000    0.835455  2697.753000  "
      ]
     },
     "execution_count": 9,
     "metadata": {},
     "output_type": "execute_result"
    }
   ],
   "source": [
    "df_x.describe()"
   ]
  },
  {
   "cell_type": "code",
   "execution_count": 10,
   "metadata": {},
   "outputs": [
    {
     "name": "stdout",
     "output_type": "stream",
     "text": [
      "\n",
      "Outliers of  Area :\n",
      "487    210923\n",
      "507    208264\n",
      "552    204864\n",
      "580    206720\n",
      "581    205497\n",
      "668    206689\n",
      "708    222915\n",
      "804    223075\n",
      "812    235047\n",
      "866    225043\n",
      "880    218459\n",
      "Name: Area, dtype: int64\n",
      "\n",
      "Outliers of  MajorAxisLength :\n",
      "85     843.956653\n",
      "487    984.045491\n",
      "506    997.291941\n",
      "694    820.724022\n",
      "836    949.662672\n",
      "Name: MajorAxisLength, dtype: float64\n",
      "\n",
      "Outliers of  MinorAxisLength :\n",
      "490    412.382817\n",
      "552    440.497127\n",
      "581    414.188326\n",
      "616    413.927473\n",
      "769    408.535619\n",
      "804    411.810369\n",
      "880    492.275279\n",
      "Name: MinorAxisLength, dtype: float64\n",
      "\n",
      "Outliers of  Eccentricity :\n",
      "13     0.510584\n",
      "23     0.419754\n",
      "34     0.369212\n",
      "43     0.492087\n",
      "106    0.460121\n",
      "156    0.348730\n",
      "192    0.444950\n",
      "197    0.432307\n",
      "235    0.502580\n",
      "251    0.496118\n",
      "253    0.507424\n",
      "316    0.418382\n",
      "356    0.458545\n",
      "483    0.500991\n",
      "880    0.507432\n",
      "Name: Eccentricity, dtype: float64\n",
      "\n",
      "Outliers of  ConvexArea :\n",
      "85     221396\n",
      "487    278217\n",
      "506    221527\n",
      "694    219952\n",
      "708    227170\n",
      "804    225916\n",
      "812    239093\n",
      "836    225592\n",
      "866    229195\n",
      "880    228259\n",
      "Name: ConvexArea, dtype: int64\n",
      "\n",
      "Outliers of  Extent :\n",
      "85     0.454189\n",
      "290    0.529774\n",
      "459    0.491002\n",
      "487    0.507352\n",
      "498    0.526260\n",
      "506    0.379856\n",
      "536    0.491460\n",
      "579    0.536784\n",
      "682    0.522279\n",
      "694    0.496937\n",
      "802    0.500546\n",
      "829    0.534715\n",
      "836    0.414154\n",
      "Name: Extent, dtype: float64\n",
      "\n",
      "Outliers of  Perimeter :\n",
      "85     2253.557\n",
      "290    2098.263\n",
      "487    2697.753\n",
      "506    2303.690\n",
      "694    2289.889\n",
      "836    2352.029\n",
      "Name: Perimeter, dtype: float64\n"
     ]
    }
   ],
   "source": [
    "for i in df_x:\n",
    "    highest = df_x[i].mean() + 3*df_x[i].std()\n",
    "    lowest = df_x[i].mean() - 3*df_x[i].std()\n",
    "    print(\"\\nOutliers of \", i, \":\")\n",
    "    print(df[(df[i] > highest) | (df[i] < lowest)][i])"
   ]
  },
  {
   "cell_type": "code",
   "execution_count": 11,
   "metadata": {},
   "outputs": [
    {
     "name": "stdout",
     "output_type": "stream",
     "text": [
      "\n",
      "Outliers of  Area :\n",
      "85     180898\n",
      "467    184784\n",
      "469    195383\n",
      "475    177264\n",
      "479    189637\n",
      "487    210923\n",
      "506    182160\n",
      "507    208264\n",
      "515    188651\n",
      "516    202118\n",
      "522    177206\n",
      "541    193032\n",
      "552    204864\n",
      "560    178334\n",
      "574    193558\n",
      "580    206720\n",
      "581    205497\n",
      "590    177916\n",
      "616    199015\n",
      "622    193818\n",
      "650    194864\n",
      "657    192815\n",
      "666    178692\n",
      "668    206689\n",
      "671    182823\n",
      "678    182788\n",
      "708    222915\n",
      "711    204226\n",
      "751    182122\n",
      "768    175247\n",
      "769    195281\n",
      "771    175946\n",
      "777    181926\n",
      "804    223075\n",
      "812    235047\n",
      "836    181126\n",
      "855    189069\n",
      "866    225043\n",
      "870    179668\n",
      "880    218459\n",
      "893    187391\n",
      "Name: Area, dtype: int64\n",
      "\n",
      "Outliers of  MajorAxisLength :\n",
      "85     843.956653\n",
      "290    722.853917\n",
      "467    740.108710\n",
      "469    755.012914\n",
      "487    984.045491\n",
      "506    997.291941\n",
      "509    719.505878\n",
      "540    730.760960\n",
      "574    769.425149\n",
      "634    731.561876\n",
      "657    731.440292\n",
      "668    746.145341\n",
      "694    820.724022\n",
      "708    731.559406\n",
      "812    772.956877\n",
      "836    949.662672\n",
      "866    740.003743\n",
      "Name: MajorAxisLength, dtype: float64\n",
      "\n",
      "Outliers of  MinorAxisLength :\n",
      "479    403.719328\n",
      "490    412.382817\n",
      "500    397.310190\n",
      "507    395.579291\n",
      "515    390.307613\n",
      "516    379.719282\n",
      "541    376.432193\n",
      "552    440.497127\n",
      "580    373.642544\n",
      "581    414.188326\n",
      "590    394.524708\n",
      "616    413.927473\n",
      "650    378.058461\n",
      "656    375.020535\n",
      "666    384.038046\n",
      "678    379.424446\n",
      "708    389.946700\n",
      "711    402.283271\n",
      "751    376.488606\n",
      "769    408.535619\n",
      "771    372.849843\n",
      "777    400.801660\n",
      "804    411.810369\n",
      "812    388.201507\n",
      "866    390.300858\n",
      "880    492.275279\n",
      "Name: MinorAxisLength, dtype: float64\n",
      "\n",
      "Outliers of  Eccentricity :\n",
      "4      0.564011\n",
      "13     0.510584\n",
      "23     0.419754\n",
      "26     0.584106\n",
      "28     0.517135\n",
      "34     0.369212\n",
      "35     0.518328\n",
      "43     0.492087\n",
      "58     0.542783\n",
      "83     0.537015\n",
      "99     0.576765\n",
      "106    0.460121\n",
      "126    0.521835\n",
      "127    0.558732\n",
      "156    0.348730\n",
      "178    0.561090\n",
      "192    0.444950\n",
      "197    0.432307\n",
      "222    0.535915\n",
      "228    0.530010\n",
      "231    0.520265\n",
      "235    0.502580\n",
      "236    0.522986\n",
      "251    0.496118\n",
      "253    0.507424\n",
      "275    0.541343\n",
      "296    0.582962\n",
      "297    0.529834\n",
      "309    0.581452\n",
      "316    0.418382\n",
      "318    0.589707\n",
      "334    0.534303\n",
      "356    0.458545\n",
      "372    0.540002\n",
      "375    0.585952\n",
      "420    0.573477\n",
      "439    0.542521\n",
      "449    0.584337\n",
      "458    0.537416\n",
      "483    0.500991\n",
      "500    0.532160\n",
      "831    0.566991\n",
      "880    0.507432\n",
      "Name: Eccentricity, dtype: float64\n",
      "\n",
      "Outliers of  ConvexArea :\n",
      "85     221396\n",
      "467    192699\n",
      "469    204472\n",
      "475    180994\n",
      "479    209580\n",
      "487    278217\n",
      "506    221527\n",
      "507    212813\n",
      "515    192922\n",
      "516    209242\n",
      "522    181412\n",
      "541    197672\n",
      "552    209457\n",
      "560    181715\n",
      "574    197851\n",
      "580    210114\n",
      "581    209486\n",
      "590    181352\n",
      "616    201464\n",
      "622    201241\n",
      "650    197430\n",
      "657    196576\n",
      "666    181288\n",
      "668    212569\n",
      "671    190749\n",
      "678    188848\n",
      "694    219952\n",
      "708    227170\n",
      "711    207198\n",
      "751    187560\n",
      "768    179961\n",
      "769    197426\n",
      "771    180289\n",
      "777    185474\n",
      "804    225916\n",
      "812    239093\n",
      "836    225592\n",
      "855    195810\n",
      "866    229195\n",
      "870    181954\n",
      "880    228259\n",
      "893    189799\n",
      "Name: ConvexArea, dtype: int64\n",
      "\n",
      "Outliers of  Extent :\n",
      "85     0.454189\n",
      "113    0.835455\n",
      "238    0.572670\n",
      "290    0.529774\n",
      "459    0.491002\n",
      "466    0.573453\n",
      "487    0.507352\n",
      "498    0.526260\n",
      "504    0.555157\n",
      "505    0.573242\n",
      "506    0.379856\n",
      "536    0.491460\n",
      "539    0.553411\n",
      "579    0.536784\n",
      "600    0.547433\n",
      "682    0.522279\n",
      "694    0.496937\n",
      "754    0.558567\n",
      "802    0.500546\n",
      "829    0.534715\n",
      "836    0.414154\n",
      "Name: Extent, dtype: float64\n",
      "\n",
      "Outliers of  Perimeter :\n",
      "85     2253.557\n",
      "290    2098.263\n",
      "469    1893.414\n",
      "479    1870.280\n",
      "487    2697.753\n",
      "506    2303.690\n",
      "516    1827.900\n",
      "574    1865.297\n",
      "580    1866.091\n",
      "668    1876.028\n",
      "694    2289.889\n",
      "708    1876.307\n",
      "812    1942.050\n",
      "836    2352.029\n",
      "855    1831.909\n",
      "866    1853.893\n",
      "880    1947.460\n",
      "Name: Perimeter, dtype: float64\n"
     ]
    }
   ],
   "source": [
    "for i in df_x:\n",
    "    p25 = df_x[i].quantile(0.25)\n",
    "    p75 = df_x[i].quantile(0.75)\n",
    "    iqr = p75 - p25\n",
    "    upper = p75 + 1.5 * iqr\n",
    "    lower = p25 - 1.5 * iqr\n",
    "    print(\"\\nOutliers of \", i, \":\")\n",
    "    print(df[(df_x[i] > upper) | (df_x[i] < lower)][i])"
   ]
  },
  {
   "cell_type": "markdown",
   "metadata": {},
   "source": [
    "6. Explore sklearn’s module for outlier detection (eg. LOF, OneClassSVM)"
   ]
  },
  {
   "cell_type": "code",
   "execution_count": 12,
   "metadata": {},
   "outputs": [
    {
     "name": "stdout",
     "output_type": "stream",
     "text": [
      "\n",
      "Outliers of  Area\n",
      "59      25387\n",
      "382     26908\n",
      "435     28216\n",
      "812    235047\n",
      "866    225043\n",
      "Name: Area, dtype: int64\n",
      "\n",
      "Outliers of  MajorAxisLength\n",
      "85     843.956653\n",
      "487    984.045491\n",
      "506    997.291941\n",
      "694    820.724022\n",
      "836    949.662672\n",
      "Name: MajorAxisLength, dtype: float64\n",
      "\n",
      "Outliers of  MinorAxisLength\n",
      "59     144.618672\n",
      "382    143.710872\n",
      "552    440.497127\n",
      "581    414.188326\n",
      "880    492.275279\n",
      "Name: MinorAxisLength, dtype: float64\n",
      "\n",
      "Outliers of  Eccentricity\n",
      "23     0.419754\n",
      "34     0.369212\n",
      "156    0.348730\n",
      "316    0.418382\n",
      "506    0.962124\n",
      "Name: Eccentricity, dtype: float64\n",
      "\n",
      "Outliers of  ConvexArea\n",
      "59      26139\n",
      "382     28607\n",
      "435     30316\n",
      "487    278217\n",
      "812    239093\n",
      "Name: ConvexArea, dtype: int64\n",
      "\n",
      "Outliers of  Extent\n",
      "85     0.454189\n",
      "459    0.491002\n",
      "506    0.379856\n",
      "536    0.491460\n",
      "836    0.414154\n",
      "Name: Extent, dtype: float64\n",
      "\n",
      "Outliers of  Perimeter\n",
      "85     2253.557\n",
      "487    2697.753\n",
      "506    2303.690\n",
      "694    2289.889\n",
      "836    2352.029\n",
      "Name: Perimeter, dtype: float64\n"
     ]
    }
   ],
   "source": [
    "for i in df_x:\n",
    "    lof = LocalOutlierFactor(n_neighbors=100, contamination=0.005)\n",
    "    df['lof'] = lof.fit_predict(df[[i]])\n",
    "    print(\"\\nOutliers of \", i)\n",
    "    print(df[df['lof']==-1][i])"
   ]
  },
  {
   "cell_type": "code",
   "execution_count": 13,
   "metadata": {},
   "outputs": [
    {
     "name": "stdout",
     "output_type": "stream",
     "text": [
      "\n",
      "Outliers of  Area\n",
      "708    222915\n",
      "804    223075\n",
      "812    235047\n",
      "866    225043\n",
      "880    218459\n",
      "Name: Area, dtype: int64\n",
      "\n",
      "Outliers of  MajorAxisLength\n",
      "85     843.956653\n",
      "487    984.045491\n",
      "506    997.291941\n",
      "694    820.724022\n",
      "836    949.662672\n",
      "Name: MajorAxisLength, dtype: float64\n",
      "\n",
      "Outliers of  MinorAxisLength\n",
      "59     144.618672\n",
      "382    143.710872\n",
      "552    440.497127\n",
      "581    414.188326\n",
      "880    492.275279\n",
      "Name: MinorAxisLength, dtype: float64\n",
      "\n",
      "Outliers of  Eccentricity\n",
      "23     0.419754\n",
      "34     0.369212\n",
      "156    0.348730\n",
      "197    0.432307\n",
      "316    0.418382\n",
      "Name: Eccentricity, dtype: float64\n",
      "\n",
      "Outliers of  ConvexArea\n",
      "487    278217\n",
      "708    227170\n",
      "812    239093\n",
      "866    229195\n",
      "880    228259\n",
      "Name: ConvexArea, dtype: int64\n",
      "\n",
      "Outliers of  Extent\n",
      "85     0.454189\n",
      "459    0.491002\n",
      "506    0.379856\n",
      "536    0.491460\n",
      "836    0.414154\n",
      "Name: Extent, dtype: float64\n",
      "\n",
      "Outliers of  Perimeter\n",
      "85     2253.557\n",
      "487    2697.753\n",
      "506    2303.690\n",
      "694    2289.889\n",
      "836    2352.029\n",
      "Name: Perimeter, dtype: float64\n"
     ]
    }
   ],
   "source": [
    "for i in df_x:\n",
    "    ifor = IsolationForest(contamination=0.005, random_state=42)\n",
    "    df['iforest'] = ifor.fit_predict(df[[i]])\n",
    "    print(\"\\nOutliers of \", i)\n",
    "    print(df[df['iforest']==-1][i])"
   ]
  },
  {
   "cell_type": "code",
   "execution_count": 14,
   "metadata": {},
   "outputs": [
    {
     "data": {
      "text/plain": [
       "area_svm\n",
       " 1    820\n",
       "-1     80\n",
       "Name: count, dtype: int64"
      ]
     },
     "execution_count": 14,
     "metadata": {},
     "output_type": "execute_result"
    }
   ],
   "source": [
    "ocsvm = OneClassSVM(kernel='rbf', gamma='scale', nu=0.1)\n",
    "df['area_svm'] = ocsvm.fit_predict(df[['Area']])\n",
    "df['area_svm'].value_counts()"
   ]
  },
  {
   "cell_type": "code",
   "execution_count": 15,
   "metadata": {},
   "outputs": [
    {
     "data": {
      "text/plain": [
       "15      33565\n",
       "59      25387\n",
       "88      35237\n",
       "155     83229\n",
       "186     36145\n",
       "        ...  \n",
       "866    225043\n",
       "876    119336\n",
       "878    154498\n",
       "880    218459\n",
       "895     83248\n",
       "Name: Area, Length: 80, dtype: int64"
      ]
     },
     "execution_count": 15,
     "metadata": {},
     "output_type": "execute_result"
    }
   ],
   "source": [
    "df[df['area_svm']==-1].Area"
   ]
  },
  {
   "cell_type": "code",
   "execution_count": 16,
   "metadata": {},
   "outputs": [],
   "source": [
    "df.drop(['lof', 'iforest', 'area_svm'], axis=1, inplace=True)"
   ]
  },
  {
   "cell_type": "markdown",
   "metadata": {},
   "source": [
    "7. Identify the categorical and numeric columns in the dataset"
   ]
  },
  {
   "cell_type": "code",
   "execution_count": 17,
   "metadata": {},
   "outputs": [
    {
     "data": {
      "text/plain": [
       "Index(['Area', 'MajorAxisLength', 'MinorAxisLength', 'Eccentricity',\n",
       "       'ConvexArea', 'Extent', 'Perimeter', 'Class'],\n",
       "      dtype='object')"
      ]
     },
     "execution_count": 17,
     "metadata": {},
     "output_type": "execute_result"
    }
   ],
   "source": [
    "numeric_columns = df.select_dtypes(include=[np.number]).columns\n",
    "numeric_columns"
   ]
  },
  {
   "cell_type": "code",
   "execution_count": 18,
   "metadata": {},
   "outputs": [
    {
     "data": {
      "text/plain": [
       "Index([], dtype='object')"
      ]
     },
     "execution_count": 18,
     "metadata": {},
     "output_type": "execute_result"
    }
   ],
   "source": [
    "categorical_columns = df.select_dtypes(include=['category', 'object']).columns\n",
    "categorical_columns"
   ]
  },
  {
   "cell_type": "markdown",
   "metadata": {},
   "source": [
    "8. Perform scaling using (Min-max Scaler/StandardScaler) on the required columns"
   ]
  },
  {
   "cell_type": "code",
   "execution_count": 19,
   "metadata": {},
   "outputs": [],
   "source": [
    "to_scale = numeric_columns[:-1]"
   ]
  },
  {
   "cell_type": "code",
   "execution_count": 20,
   "metadata": {},
   "outputs": [
    {
     "data": {
      "text/html": [
       "<div>\n",
       "<style scoped>\n",
       "    .dataframe tbody tr th:only-of-type {\n",
       "        vertical-align: middle;\n",
       "    }\n",
       "\n",
       "    .dataframe tbody tr th {\n",
       "        vertical-align: top;\n",
       "    }\n",
       "\n",
       "    .dataframe thead th {\n",
       "        text-align: right;\n",
       "    }\n",
       "</style>\n",
       "<table border=\"1\" class=\"dataframe\">\n",
       "  <thead>\n",
       "    <tr style=\"text-align: right;\">\n",
       "      <th></th>\n",
       "      <th>Area</th>\n",
       "      <th>MajorAxisLength</th>\n",
       "      <th>MinorAxisLength</th>\n",
       "      <th>Eccentricity</th>\n",
       "      <th>ConvexArea</th>\n",
       "      <th>Extent</th>\n",
       "      <th>Perimeter</th>\n",
       "      <th>Class</th>\n",
       "    </tr>\n",
       "  </thead>\n",
       "  <tbody>\n",
       "    <tr>\n",
       "      <th>0</th>\n",
       "      <td>0.296370</td>\n",
       "      <td>0.280714</td>\n",
       "      <td>0.314376</td>\n",
       "      <td>0.767872</td>\n",
       "      <td>0.255504</td>\n",
       "      <td>0.831422</td>\n",
       "      <td>0.271791</td>\n",
       "      <td>1</td>\n",
       "    </tr>\n",
       "    <tr>\n",
       "      <th>1</th>\n",
       "      <td>0.237427</td>\n",
       "      <td>0.234638</td>\n",
       "      <td>0.284945</td>\n",
       "      <td>0.738636</td>\n",
       "      <td>0.208864</td>\n",
       "      <td>0.667854</td>\n",
       "      <td>0.241842</td>\n",
       "      <td>1</td>\n",
       "    </tr>\n",
       "    <tr>\n",
       "      <th>2</th>\n",
       "      <td>0.312263</td>\n",
       "      <td>0.280741</td>\n",
       "      <td>0.351778</td>\n",
       "      <td>0.733009</td>\n",
       "      <td>0.268084</td>\n",
       "      <td>0.565754</td>\n",
       "      <td>0.283594</td>\n",
       "      <td>1</td>\n",
       "    </tr>\n",
       "    <tr>\n",
       "      <th>3</th>\n",
       "      <td>0.097973</td>\n",
       "      <td>0.078935</td>\n",
       "      <td>0.186620</td>\n",
       "      <td>0.548194</td>\n",
       "      <td>0.084089</td>\n",
       "      <td>0.701809</td>\n",
       "      <td>0.108284</td>\n",
       "      <td>1</td>\n",
       "    </tr>\n",
       "    <tr>\n",
       "      <th>4</th>\n",
       "      <td>0.257660</td>\n",
       "      <td>0.164011</td>\n",
       "      <td>0.422064</td>\n",
       "      <td>0.350968</td>\n",
       "      <td>0.219472</td>\n",
       "      <td>0.906315</td>\n",
       "      <td>0.218493</td>\n",
       "      <td>1</td>\n",
       "    </tr>\n",
       "  </tbody>\n",
       "</table>\n",
       "</div>"
      ],
      "text/plain": [
       "       Area  MajorAxisLength  MinorAxisLength  Eccentricity  ConvexArea  \\\n",
       "0  0.296370         0.280714         0.314376      0.767872    0.255504   \n",
       "1  0.237427         0.234638         0.284945      0.738636    0.208864   \n",
       "2  0.312263         0.280741         0.351778      0.733009    0.268084   \n",
       "3  0.097973         0.078935         0.186620      0.548194    0.084089   \n",
       "4  0.257660         0.164011         0.422064      0.350968    0.219472   \n",
       "\n",
       "     Extent  Perimeter  Class  \n",
       "0  0.831422   0.271791      1  \n",
       "1  0.667854   0.241842      1  \n",
       "2  0.565754   0.283594      1  \n",
       "3  0.701809   0.108284      1  \n",
       "4  0.906315   0.218493      1  "
      ]
     },
     "execution_count": 20,
     "metadata": {},
     "output_type": "execute_result"
    }
   ],
   "source": [
    "mmscaler = MinMaxScaler()\n",
    "df[to_scale] = mmscaler.fit_transform(df[to_scale])\n",
    "df.head()"
   ]
  },
  {
   "cell_type": "markdown",
   "metadata": {},
   "source": [
    "9. Perform feature selection to identify the columns relevant for the target column.(Filter Method/Wrapper Method) "
   ]
  },
  {
   "cell_type": "code",
   "execution_count": 21,
   "metadata": {},
   "outputs": [
    {
     "name": "stdout",
     "output_type": "stream",
     "text": [
      "Class              1.000000\n",
      "MajorAxisLength    0.673194\n",
      "Perimeter          0.665981\n",
      "Area               0.625715\n",
      "ConvexArea         0.625567\n",
      "MinorAxisLength    0.503102\n",
      "Eccentricity       0.438500\n",
      "Extent             0.154689\n",
      "Name: Class, dtype: float64\n"
     ]
    }
   ],
   "source": [
    "corr_matrix = df.corr()\n",
    "corr = corr_matrix['Class'].abs().sort_values(ascending=False)\n",
    "print(corr)"
   ]
  },
  {
   "cell_type": "code",
   "execution_count": 22,
   "metadata": {},
   "outputs": [
    {
     "name": "stdout",
     "output_type": "stream",
     "text": [
      "Selected features by RFE: Index(['Area', 'MajorAxisLength', 'ConvexArea', 'Perimeter'], dtype='object')\n"
     ]
    }
   ],
   "source": [
    "rfc = RandomForestClassifier(n_estimators=100)\n",
    "rfe = RFE(estimator=rfc, n_features_to_select=4)\n",
    "\n",
    "rfe.fit(df.drop('Class', axis=1), df['Class'])\n",
    "selected_features = df.drop('Class', axis=1).columns[rfe.support_]\n",
    "\n",
    "print(\"Selected features by RFE:\", selected_features)"
   ]
  },
  {
   "cell_type": "markdown",
   "metadata": {},
   "source": [
    "10. Identify and perform feature extraction by creating new columns from the existing columns for dimensionality reduction."
   ]
  },
  {
   "cell_type": "markdown",
   "metadata": {},
   "source": [
    "11. Perform dimensionality reduction using PCA and t-SNE. Compare the features obtained from both methods"
   ]
  },
  {
   "cell_type": "code",
   "execution_count": 24,
   "metadata": {},
   "outputs": [
    {
     "data": {
      "text/html": [
       "<div>\n",
       "<style scoped>\n",
       "    .dataframe tbody tr th:only-of-type {\n",
       "        vertical-align: middle;\n",
       "    }\n",
       "\n",
       "    .dataframe tbody tr th {\n",
       "        vertical-align: top;\n",
       "    }\n",
       "\n",
       "    .dataframe thead th {\n",
       "        text-align: right;\n",
       "    }\n",
       "</style>\n",
       "<table border=\"1\" class=\"dataframe\">\n",
       "  <thead>\n",
       "    <tr style=\"text-align: right;\">\n",
       "      <th></th>\n",
       "      <th>Area</th>\n",
       "      <th>MajorAxisLength</th>\n",
       "      <th>MinorAxisLength</th>\n",
       "      <th>Eccentricity</th>\n",
       "      <th>ConvexArea</th>\n",
       "      <th>Extent</th>\n",
       "      <th>Perimeter</th>\n",
       "      <th>Class</th>\n",
       "    </tr>\n",
       "  </thead>\n",
       "  <tbody>\n",
       "    <tr>\n",
       "      <th>0</th>\n",
       "      <td>0.296370</td>\n",
       "      <td>0.280714</td>\n",
       "      <td>0.314376</td>\n",
       "      <td>0.767872</td>\n",
       "      <td>0.255504</td>\n",
       "      <td>0.831422</td>\n",
       "      <td>0.271791</td>\n",
       "      <td>1</td>\n",
       "    </tr>\n",
       "    <tr>\n",
       "      <th>1</th>\n",
       "      <td>0.237427</td>\n",
       "      <td>0.234638</td>\n",
       "      <td>0.284945</td>\n",
       "      <td>0.738636</td>\n",
       "      <td>0.208864</td>\n",
       "      <td>0.667854</td>\n",
       "      <td>0.241842</td>\n",
       "      <td>1</td>\n",
       "    </tr>\n",
       "    <tr>\n",
       "      <th>2</th>\n",
       "      <td>0.312263</td>\n",
       "      <td>0.280741</td>\n",
       "      <td>0.351778</td>\n",
       "      <td>0.733009</td>\n",
       "      <td>0.268084</td>\n",
       "      <td>0.565754</td>\n",
       "      <td>0.283594</td>\n",
       "      <td>1</td>\n",
       "    </tr>\n",
       "    <tr>\n",
       "      <th>3</th>\n",
       "      <td>0.097973</td>\n",
       "      <td>0.078935</td>\n",
       "      <td>0.186620</td>\n",
       "      <td>0.548194</td>\n",
       "      <td>0.084089</td>\n",
       "      <td>0.701809</td>\n",
       "      <td>0.108284</td>\n",
       "      <td>1</td>\n",
       "    </tr>\n",
       "    <tr>\n",
       "      <th>4</th>\n",
       "      <td>0.257660</td>\n",
       "      <td>0.164011</td>\n",
       "      <td>0.422064</td>\n",
       "      <td>0.350968</td>\n",
       "      <td>0.219472</td>\n",
       "      <td>0.906315</td>\n",
       "      <td>0.218493</td>\n",
       "      <td>1</td>\n",
       "    </tr>\n",
       "  </tbody>\n",
       "</table>\n",
       "</div>"
      ],
      "text/plain": [
       "       Area  MajorAxisLength  MinorAxisLength  Eccentricity  ConvexArea  \\\n",
       "0  0.296370         0.280714         0.314376      0.767872    0.255504   \n",
       "1  0.237427         0.234638         0.284945      0.738636    0.208864   \n",
       "2  0.312263         0.280741         0.351778      0.733009    0.268084   \n",
       "3  0.097973         0.078935         0.186620      0.548194    0.084089   \n",
       "4  0.257660         0.164011         0.422064      0.350968    0.219472   \n",
       "\n",
       "     Extent  Perimeter  Class  \n",
       "0  0.831422   0.271791      1  \n",
       "1  0.667854   0.241842      1  \n",
       "2  0.565754   0.283594      1  \n",
       "3  0.701809   0.108284      1  \n",
       "4  0.906315   0.218493      1  "
      ]
     },
     "execution_count": 24,
     "metadata": {},
     "output_type": "execute_result"
    }
   ],
   "source": [
    "df.head()"
   ]
  },
  {
   "cell_type": "code",
   "execution_count": 33,
   "metadata": {},
   "outputs": [
    {
     "name": "stdout",
     "output_type": "stream",
     "text": [
      "          PC1       PC2\n",
      "0    0.013518 -0.009493\n",
      "1   -0.081595  0.058443\n",
      "2    0.048447  0.071879\n",
      "3   -0.403742 -0.068519\n",
      "4   -0.134115 -0.416232\n",
      "..        ...       ...\n",
      "895 -0.022790  0.086304\n",
      "896  0.030251  0.096424\n",
      "897  0.107199 -0.175607\n",
      "898  0.090514  0.128271\n",
      "899  0.056735  0.292064\n",
      "\n",
      "[900 rows x 2 columns]\n"
     ]
    }
   ],
   "source": [
    "x = df.drop('Class',axis=1)\n",
    "pca = PCA(n_components=2)\n",
    "X_pca = pca.fit_transform(x)\n",
    "\n",
    "df_pca1 = pd.DataFrame(X_pca, columns=['PC1', 'PC2'])\n",
    "print(df_pca1)"
   ]
  },
  {
   "cell_type": "code",
   "execution_count": 39,
   "metadata": {},
   "outputs": [
    {
     "data": {
      "image/png": "[encoded data removed]",
      "text/plain": [
       "<Figure size 500x500 with 1 Axes>"
      ]
     },
     "metadata": {},
     "output_type": "display_data"
    }
   ],
   "source": [
    "plt.figure(figsize=(5, 5))\n",
    "plt.scatter(X_pca[:, 0], X_pca[:, 1])\n",
    "plt.xlabel('Principal Component 1')\n",
    "plt.ylabel('Principal Component 2')\n",
    "plt.title('PCA Visualization')\n",
    "plt.show()"
   ]
  },
  {
   "cell_type": "code",
   "execution_count": 37,
   "metadata": {},
   "outputs": [
    {
     "name": "stdout",
     "output_type": "stream",
     "text": [
      "     Component1  Component2\n",
      "0      2.703251    3.241601\n",
      "1     -4.835787   -1.887528\n",
      "2      7.922152   15.396197\n",
      "3    -33.031940    0.048593\n",
      "4     -6.666785  -26.508854\n",
      "..          ...         ...\n",
      "895    3.301408   14.243470\n",
      "896    7.250960   16.017021\n",
      "897    5.467224  -20.524244\n",
      "898   15.150019    8.093380\n",
      "899    4.277839   23.382877\n",
      "\n",
      "[900 rows x 2 columns]\n"
     ]
    }
   ],
   "source": [
    "tsne = TSNE(n_components=2, perplexity=30, random_state=42)\n",
    "X_tsne = tsne.fit_transform(x)\n",
    "\n",
    "df_tsne1 = pd.DataFrame(X_tsne, columns=['Component1', 'Component2'])\n",
    "print(df_tsne1)"
   ]
  },
  {
   "cell_type": "code",
   "execution_count": 40,
   "metadata": {},
   "outputs": [
    {
     "data": {
      "image/png": "[encoded data removed]",
      "text/plain": [
       "<Figure size 500x500 with 1 Axes>"
      ]
     },
     "metadata": {},
     "output_type": "display_data"
    }
   ],
   "source": [
    "plt.figure(figsize=(5, 5))\n",
    "plt.scatter(X_tsne[:, 0], X_tsne[:, 1])\n",
    "plt.xlabel('t-SNE Component 1')\n",
    "plt.ylabel('t-SNE Component 2')\n",
    "plt.title('t-SNE Visualization')\n",
    "plt.show()"
   ]
  },
  {
   "cell_type": "markdown",
   "metadata": {},
   "source": [
    "12. Analyze the distribution of the target labels in the dataset.\n",
    " - Perform sampling to obtain an evenly distributed dataset."
   ]
  },
  {
   "cell_type": "code",
   "execution_count": null,
   "metadata": {},
   "outputs": [
    {
     "name": "stdout",
     "output_type": "stream",
     "text": [
      "Class\n",
      "1    450\n",
      "0    450\n",
      "Name: count, dtype: int64\n"
     ]
    }
   ],
   "source": [
    "df['Class'].value_counts()"
   ]
  },
  {
   "cell_type": "code",
   "execution_count": null,
   "metadata": {},
   "outputs": [
    {
     "data": {
      "image/png": "[encoded data removed]",
      "text/plain": [
       "<Figure size 640x480 with 1 Axes>"
      ]
     },
     "metadata": {},
     "output_type": "display_data"
    }
   ],
   "source": [
    "df['Class'].value_counts().plot(kind='bar')\n",
    "plt.xlabel('Class')\n",
    "plt.ylabel('Count')\n",
    "plt.title('Distribution of Medals in the Dataset')\n",
    "plt.show()"
   ]
  },
  {
   "cell_type": "code",
   "execution_count": null,
   "metadata": {},
   "outputs": [],
   "source": []
  }
 ],
 "metadata": {
  "kernelspec": {
   "display_name": "traineeship",
   "language": "python",
   "name": "python3"
  },
  "language_info": {
   "codemirror_mode": {
    "name": "ipython",
    "version": 3
   },
   "file_extension": ".py",
   "mimetype": "text/x-python",
   "name": "python",
   "nbconvert_exporter": "python",
   "pygments_lexer": "ipython3",
   "version": "3.12.8"
  }
 },
 "nbformat": 4,
 "nbformat_minor": 2
}
