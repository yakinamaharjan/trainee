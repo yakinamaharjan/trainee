{
 "cells": [
  {
   "cell_type": "markdown",
   "metadata": {},
   "source": [
    "1. Identify the columns with missing data from the given dataset."
   ]
  },
  {
   "cell_type": "markdown",
   "metadata": {},
   "source": [
    "2. Perform type conversions for required numeric columns"
   ]
  },
  {
   "cell_type": "markdown",
   "metadata": {},
   "source": [
    "3. Perform One-Hot Encoding, Ordinal Encoding and Label Encoding on the required columns"
   ]
  },
  {
   "cell_type": "markdown",
   "metadata": {},
   "source": [
    "4. Analyze the data and perform imputation using the best-fitted technique (mean, median, mode and KNN (k=5)) for the given column"
   ]
  },
  {
   "cell_type": "markdown",
   "metadata": {},
   "source": [
    "5. Identify the outliers from the given columns using statistical methods (IQR, z-score)"
   ]
  },
  {
   "cell_type": "markdown",
   "metadata": {},
   "source": [
    "6. Explore sklearn’s module for outlier detection (eg. LOF, OneClassSVM)"
   ]
  },
  {
   "cell_type": "markdown",
   "metadata": {},
   "source": [
    "7. Identify the categorical and numeric columns in the dataset"
   ]
  },
  {
   "cell_type": "markdown",
   "metadata": {},
   "source": [
    "8. Perform scaling using (Min-max Scaler/StandardScaler) on the required columns"
   ]
  },
  {
   "cell_type": "markdown",
   "metadata": {},
   "source": [
    "9. Perform feature selection to identify the columns relevant for the target column.(Filter Method/Wrapper Method) "
   ]
  },
  {
   "cell_type": "markdown",
   "metadata": {},
   "source": [
    "10. Identify and perform feature extraction by creating new columns from the existing columns for dimensionality reduction."
   ]
  },
  {
   "cell_type": "markdown",
   "metadata": {},
   "source": [
    "11. Perform dimensionality reduction using PCA and t-SNE. Compare the features obtained from both methods"
   ]
  },
  {
   "cell_type": "markdown",
   "metadata": {},
   "source": [
    "12. Analyze the distribution ofthe targetlabels in the dataset.\n",
    " - Perform sampling to obtain an evenly distributed dataset."
   ]
  }
 ],
 "metadata": {
  "language_info": {
   "name": "python"
  }
 },
 "nbformat": 4,
 "nbformat_minor": 2
}
