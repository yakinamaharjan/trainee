{
 "cells": [
  {
   "cell_type": "markdown",
   "metadata": {},
   "source": [
    "### 1. Reverse a string using stack and linked list. Compare the results."
   ]
  },
  {
   "cell_type": "code",
   "execution_count": null,
   "metadata": {},
   "outputs": [],
   "source": [
    "class Node:\n",
    "    \"\"\"\n",
    "    A class representing a node.\n",
    "    \"\"\"\n",
    "    def __init__(self, data: int):\n",
    "        self.data = data\n",
    "        self.next = None"
   ]
  },
  {
   "cell_type": "code",
   "execution_count": null,
   "metadata": {},
   "outputs": [
    {
     "data": {
      "text/plain": [
       "'olleH'"
      ]
     },
     "execution_count": 8,
     "metadata": {},
     "output_type": "execute_result"
    }
   ],
   "source": [
    "class Stack:\n",
    "    \"\"\"\n",
    "    A class representing a stack data structure.\n",
    "    \"\"\"\n",
    "    def __init__(self):\n",
    "        self.head = None\n",
    "\n",
    "    def push(self, data: int):\n",
    "        \"\"\"\n",
    "        Adds an element to the top of the stack.\n",
    "\n",
    "        Args:\n",
    "            data (int): The element to be added to the stack.\n",
    "        \"\"\"\n",
    "        node = Node(data)\n",
    "        node.next = self.head\n",
    "        self.head = node\n",
    "\n",
    "    def pop(self):\n",
    "        \"\"\"\n",
    "        Removes the element from the top of the stack.\n",
    "\n",
    "        Args:\n",
    "            data (int): The element to be removed from the stack.\n",
    "        \"\"\"\n",
    "        if self.head is None:\n",
    "            print(\"Empty stack\")\n",
    "            return None\n",
    "        popped = self.head.data\n",
    "        self.head = self.head.next\n",
    "        return popped\n",
    "\n",
    "    def is_empty(self):\n",
    "        \"\"\"\n",
    "        Checks if the stack is empty.\n",
    "        \"\"\"\n",
    "        return (self.head is None)\n",
    "\n",
    "def reverse_string_stack(s: str) -> str:\n",
    "    \"\"\"\n",
    "    Reverses string using a stack.\n",
    "\n",
    "    Args:\n",
    "        s (str): The string to be reversed.\n",
    "\n",
    "    Returns:\n",
    "        str: The reversed string.\n",
    "    \"\"\"\n",
    "    stack = Stack()\n",
    "    for char in s:\n",
    "        stack.push(char)\n",
    "    rev_s = \"\"\n",
    "    while not stack.is_empty():\n",
    "        rev_s += stack.pop()\n",
    "    return rev_s\n",
    "\n",
    "reverse_string_stack(\"Hello\")"
   ]
  },
  {
   "cell_type": "code",
   "execution_count": null,
   "metadata": {},
   "outputs": [
    {
     "name": "stdout",
     "output_type": "stream",
     "text": [
      "olleH\n"
     ]
    }
   ],
   "source": [
    "class LinkedList:\n",
    "    \"\"\"\n",
    "    A class representing a linked list data structure.\n",
    "    \"\"\"\n",
    "    def __init__(self):\n",
    "        self.head = None\n",
    "\n",
    "    def append(self, data: str) -> None:\n",
    "        \"\"\"\n",
    "        Appends a new node with the given data to the end of the linked list.\n",
    "\n",
    "        Args:\n",
    "            data: The data to be stored in the new node.\n",
    "        \"\"\"\n",
    "        new_node = Node(data)\n",
    "        if not self.head:\n",
    "            self.head = new_node\n",
    "            return\n",
    "        temp = self.head\n",
    "        while temp.next:\n",
    "            temp = temp.next\n",
    "        temp.next = new_node\n",
    "\n",
    "    def reverse(self):\n",
    "        prev = None\n",
    "        current = self.head\n",
    "        while current:\n",
    "            next_node = current.next\n",
    "            current.next = prev\n",
    "            prev = current\n",
    "            current = next_node\n",
    "        self.head = prev\n",
    "\n",
    "    def to_string(self):\n",
    "        result = \"\"\n",
    "        temp = self.head\n",
    "        while temp:\n",
    "            result += temp.data\n",
    "            temp = temp.next\n",
    "        return result\n",
    "\n",
    "def reverse_using_linked_list(s: str) -> str:\n",
    "    \"\"\"\n",
    "    Reverses string using a linked list.\n",
    "\n",
    "    Args:\n",
    "        s (str): Input string.\n",
    "\n",
    "    Returns:\n",
    "        str: The reversed string.\n",
    "    \"\"\"\n",
    "    ll = LinkedList()\n",
    "    for char in s:\n",
    "        ll.append(char)\n",
    "    \n",
    "    ll.reverse()\n",
    "    return ll.to_string()\n",
    "\n",
    "print(reverse_using_linked_list(\"Hello\")) "
   ]
  },
  {
   "cell_type": "markdown",
   "metadata": {},
   "source": [
    " ### 2. Write a function to find the k-th largest element from a given unsorted arr without using any built-in functions."
   ]
  },
  {
   "cell_type": "code",
   "execution_count": null,
   "metadata": {},
   "outputs": [
    {
     "name": "stdout",
     "output_type": "stream",
     "text": [
      "2\n"
     ]
    }
   ],
   "source": [
    "def partition(arr: list, low: int, high: int):\n",
    "    pivot = arr[high]\n",
    "    i = low - 1 \n",
    "\n",
    "    for j in range(low, high):\n",
    "        if arr[j] > pivot:\n",
    "            i += 1\n",
    "            arr[i], arr[j] = arr[j], arr[i]\n",
    "\n",
    "    arr[i + 1], arr[high] = arr[high], arr[i + 1]\n",
    "    return i + 1 \n",
    "\n",
    "def quickselect(arr: list, low: int, high: int, k: int) -> int:\n",
    "    \"\"\"\n",
    "    QuickSelect algorithm to find the k-th largest element from a given array.\n",
    "\n",
    "    Args:\n",
    "        arr (list): The input array.\n",
    "        low (int): Starting index.\n",
    "        high (int): Ending index.\n",
    "        k (int): The k-th largest element to find.\n",
    "\n",
    "    Returns:\n",
    "        int: The k-th largest element.\n",
    "    \"\"\"\n",
    "    if low <= high:\n",
    "        pivot_index = partition(arr, low, high)\n",
    "\n",
    "        if pivot_index == k - 1:\n",
    "            return arr[pivot_index]\n",
    "        elif pivot_index > k - 1:\n",
    "            return quickselect(arr, low, pivot_index - 1, k) \n",
    "        else:\n",
    "            return quickselect(arr, pivot_index + 1, high, k)\n",
    "\n",
    "def find_kth_largest(arr: list, k: int) -> int:\n",
    "    \"\"\"\n",
    "    Finds the k-th largest element in an unsorted array.\n",
    "\n",
    "    Args:\n",
    "        arr (list): An array of integers.\n",
    "        k (int): The k-th largest element to find.\n",
    "\n",
    "    Returns:\n",
    "        int: The k-th largest element in given array.\n",
    "    \"\"\"\n",
    "    if k < 1 or k > len(arr):\n",
    "        raise ValueError(\"k is out of range\")\n",
    "\n",
    "    return quickselect(arr, 0, len(arr) - 1, k)\n",
    "\n",
    "arr = [3, 2, 1, 5, 6, 4]\n",
    "k = 5\n",
    "print(find_kth_largest(arr, k)) "
   ]
  },
  {
   "cell_type": "markdown",
   "metadata": {},
   "source": [
    "### 3. Write a function that takes a list of digits representing a non-negative integer, increments this integer by 1, and returns the resulting number represented as a list of digits."
   ]
  },
  {
   "cell_type": "code",
   "execution_count": 5,
   "metadata": {},
   "outputs": [
    {
     "name": "stdout",
     "output_type": "stream",
     "text": [
      "[2, 0]\n",
      "[1, 0, 0, 0]\n"
     ]
    }
   ],
   "source": [
    "def add_one(num: list) -> list:\n",
    "    \"\"\"\n",
    "    Increments a number represented as a list of digits.\n",
    "\n",
    "    Args:\n",
    "        num (list): List of digits representing a non-negative number.\n",
    "\n",
    "    Returns:\n",
    "        list: The incremented number as a list of digits.\n",
    "    \"\"\"\n",
    "    num[-1] += 1\n",
    "    l = len(num) - 1\n",
    "\n",
    "    while l > 0:\n",
    "        if num[l] > 9:\n",
    "            num[l] = 0\n",
    "            num[l - 1] += 1\n",
    "        l -= 1\n",
    "\n",
    "    if num[0] > 9:\n",
    "        num[0] = 0\n",
    "        num.insert(0, 1)\n",
    "\n",
    "    return num\n",
    "\n",
    "print(add_one([1, 9]))\n",
    "print(add_one([9, 9, 9]))"
   ]
  },
  {
   "cell_type": "code",
   "execution_count": 6,
   "metadata": {},
   "outputs": [
    {
     "name": "stdout",
     "output_type": "stream",
     "text": [
      "All test cases passed!\n"
     ]
    }
   ],
   "source": [
    "def testing():\n",
    "    assert add_one([1, 2, 3]) == [1, 2, 4], \"Test Case 1 Failed\"\n",
    "    assert add_one([1, 2, 9]) == [1, 3, 0], \"Test Case 2 Failed\"\n",
    "    assert add_one([9, 9, 9]) == [1, 0, 0, 0], \"Test Case 3 Failed\"\n",
    "    assert add_one([1, 9, 9]) == [2, 0, 0], \"Test Case 6 Failed\"\n",
    "    print(\"All test cases passed!\")\n",
    "\n",
    "testing()"
   ]
  }
 ],
 "metadata": {
  "kernelspec": {
   "display_name": "Python 3",
   "language": "python",
   "name": "python3"
  },
  "language_info": {
   "codemirror_mode": {
    "name": "ipython",
    "version": 3
   },
   "file_extension": ".py",
   "mimetype": "text/x-python",
   "name": "python",
   "nbconvert_exporter": "python",
   "pygments_lexer": "ipython3",
   "version": "3.11.2"
  }
 },
 "nbformat": 4,
 "nbformat_minor": 4
}
