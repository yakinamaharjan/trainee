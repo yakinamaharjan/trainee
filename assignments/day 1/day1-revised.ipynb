{
 "cells": [
  {
   "cell_type": "code",
   "execution_count": 1,
   "id": "911d7cd1-113c-4f46-b120-3eb2e0cc65ad",
   "metadata": {},
   "outputs": [],
   "source": [
    "# 1. Given a year, determine whether it is a leap year. If it is a leap year, return the Boolean True, otherwise return False.\n",
    "\n",
    "def leap(year: int) -> bool:\n",
    "    \"\"\"\n",
    "    Determines if a given year is a leap year or not\n",
    "    \n",
    "    Args:\n",
    "        year (int): The year\n",
    "\n",
    "    Returns:\n",
    "        bool: True if the year ia a leap year, and False if not\n",
    "    \"\"\"\n",
    "    if (year % 4 == 0 and year % 100 != 0) or (year % 400 == 0):\n",
    "        return True\n",
    "    return False"
   ]
  },
  {
   "cell_type": "code",
   "execution_count": 2,
   "id": "57c0c907-19ff-4652-acb7-c98a112b9dfe",
   "metadata": {},
   "outputs": [
    {
     "data": {
      "text/plain": [
       "False"
      ]
     },
     "execution_count": 2,
     "metadata": {},
     "output_type": "execute_result"
    }
   ],
   "source": [
    "leap(2200)"
   ]
  },
  {
   "cell_type": "code",
   "execution_count": 3,
   "id": "51435e22-ea50-4ae4-b737-c629818326f8",
   "metadata": {},
   "outputs": [],
   "source": [
    "# 2. Write a Python function that takes two lists of integers as arguments and returns a new list containing only the numbers that are present in \n",
    "# both lists, but with each number appearing only once in the final list.\n",
    "\n",
    "def common(li1: list,li2: list) -> list:\n",
    "    \"\"\"\n",
    "    Find the common elements from two given lists\n",
    "\n",
    "    Args:\n",
    "        li1 (list): The first list\n",
    "        li2 (list): The second list\n",
    "\n",
    "    Returns:\n",
    "        list: Contains all common elements from the two given lists\n",
    "    \"\"\"\n",
    "    return list(set(li1) & set(li2))"
   ]
  },
  {
   "cell_type": "code",
   "execution_count": 4,
   "id": "6b9c7520-566f-4f1e-a0d1-f54257c34e8c",
   "metadata": {},
   "outputs": [
    {
     "data": {
      "text/plain": [
       "[1, 3, 5]"
      ]
     },
     "execution_count": 4,
     "metadata": {},
     "output_type": "execute_result"
    }
   ],
   "source": [
    "l1 = [1,2,3,4,5,5]\n",
    "l2 = [1,3,3,5,7,9]\n",
    "\n",
    "common(l1, l2)"
   ]
  },
  {
   "cell_type": "code",
   "execution_count": 5,
   "id": "8014ee6a-a6fc-48df-a63f-9dfed3a66846",
   "metadata": {},
   "outputs": [],
   "source": [
    "# 3. Write a Python program that takes a string as an argument and returns a dictionary where each key is a unique word in the string \n",
    "# and the value is a list of the indices where that word appears in the string.\n",
    "\n",
    "def unique_words(s: str) -> dict:\n",
    "    \"\"\"\n",
    "    Finds all unique words from a string and the position of all of its occurences\n",
    "\n",
    "    Args:\n",
    "        s (str): A string\n",
    "\n",
    "    Returns:\n",
    "        dict: Contains all unique words from the string, and the values of each key represent the indices of where that word appears in the string\n",
    "    \"\"\"\n",
    "    s = s.split()\n",
    "    d = {}\n",
    "    for i, word in enumerate(s):\n",
    "         d.setdefault(word,[]).append(i)\n",
    "    return d"
   ]
  },
  {
   "cell_type": "code",
   "execution_count": 6,
   "id": "d385338f-7e4e-40f9-8985-520cb9a99f26",
   "metadata": {},
   "outputs": [
    {
     "data": {
      "text/plain": [
       "{'Write': [0],\n",
       " 'a': [1, 6, 13, 19],\n",
       " 'Python': [2],\n",
       " 'program': [3],\n",
       " 'that': [4],\n",
       " 'takes': [5],\n",
       " 'string': [7, 24],\n",
       " 'as': [8],\n",
       " 'an': [9],\n",
       " 'argument': [10],\n",
       " 'and': [11],\n",
       " 'returns': [12],\n",
       " 'dictionary': [14],\n",
       " 'where': [15],\n",
       " 'each': [16],\n",
       " 'key': [17],\n",
       " 'is': [18],\n",
       " 'unique': [20],\n",
       " 'word': [21],\n",
       " 'in': [22],\n",
       " 'the': [23]}"
      ]
     },
     "execution_count": 6,
     "metadata": {},
     "output_type": "execute_result"
    }
   ],
   "source": [
    "s = \"Write a Python program that takes a string as an argument and returns a dictionary where each key is a unique word in the string\"\n",
    "unique_words(s)"
   ]
  },
  {
   "cell_type": "code",
   "execution_count": 7,
   "id": "2b40f520-5e5a-4c13-a8de-9f2bc5e1c2eb",
   "metadata": {},
   "outputs": [],
   "source": [
    "# 4. Write a Python function that takes a list of integers as argument and returns a new list with the elements sorted in descending order, \n",
    "# but with all odd numbers appearing before all even numbers.\n",
    "\n",
    "def descending(li: list) -> list:\n",
    "    \"\"\"\n",
    "    Sorts a list in descending order, with all odd numbers appearing before the even numbers\n",
    "\n",
    "    Args:\n",
    "        li (list): A list of integers\n",
    "\n",
    "    Returns:\n",
    "        list: a sorted list with all odd numbers appearing before the even numbers, in descending order\n",
    "    \"\"\"\n",
    "    return sorted(sorted(li, reverse = True), key = lambda i: i % 2, reverse = True)"
   ]
  },
  {
   "cell_type": "code",
   "execution_count": 8,
   "id": "3d825df0-cfe7-46c8-8f13-00360ab814ea",
   "metadata": {},
   "outputs": [
    {
     "data": {
      "text/plain": [
       "[5, 5, 3, 6, 4, 2, 2, 0]"
      ]
     },
     "execution_count": 8,
     "metadata": {},
     "output_type": "execute_result"
    }
   ],
   "source": [
    "list=[3,5,2,5,6,4,2,0]\n",
    "descending(list)"
   ]
  },
  {
   "cell_type": "code",
   "execution_count": 9,
   "id": "2feb77de-cd36-4d1a-872c-a5633e8a057a",
   "metadata": {},
   "outputs": [],
   "source": [
    "# Write a Python program that takes two sets as arguments and returns a new set containing the elements that are in the first set \n",
    "# but not in the second set, and the elements that are in the second set but not in the first set.\n",
    "\n",
    "def set_difference(s1: set, s2: set) -> set:\n",
    "    \"\"\"\n",
    "    Takes two sets and finds elements that are in the first set but not in the second set, and elements that are in the second set but not in the first set\n",
    "\n",
    "    Args:\n",
    "        s1 (set): The first set\n",
    "        s2 (set): The second set\n",
    "        \n",
    "    Returns:\n",
    "        set: Contains elements present in the first set but not in the second, and elements present in the second set but not in the first\n",
    "    \"\"\"\n",
    "    return (s1 ^ s2)"
   ]
  },
  {
   "cell_type": "code",
   "execution_count": 10,
   "id": "3d4c83b9-78af-41bc-b6dc-f6aff51bc5ca",
   "metadata": {},
   "outputs": [
    {
     "data": {
      "text/plain": [
       "{1, 4, 6, 8}"
      ]
     },
     "execution_count": 10,
     "metadata": {},
     "output_type": "execute_result"
    }
   ],
   "source": [
    "set_difference({1,3,4,5},{5,3,6,8})"
   ]
  },
  {
   "cell_type": "code",
   "execution_count": 11,
   "id": "7ac0fe9b-2815-4505-a06d-2b210e97fc06",
   "metadata": {},
   "outputs": [],
   "source": [
    "# 6. Write a Python function that takes a list of strings as argument and returns a new list containing only the strings that are palindromes.\n",
    "\n",
    "def palindromes(li: list) -> list:\n",
    "    \"\"\"\n",
    "    Takes a list of strings finds all the palindromes in it\n",
    "\n",
    "    Args:\n",
    "        li (list): A list of strings\n",
    "\n",
    "    Returns:\n",
    "        list: Contains all the strings from given list if they are palindromes\n",
    "    \"\"\"\n",
    "    return [x for x in li if (x == x[::-1])]"
   ]
  },
  {
   "cell_type": "code",
   "execution_count": 12,
   "id": "80649c44-efd5-4c13-9680-0921eeac0dfe",
   "metadata": {},
   "outputs": [
    {
     "data": {
      "text/plain": [
       "['racecar', 'eee', 'oo']"
      ]
     },
     "execution_count": 12,
     "metadata": {},
     "output_type": "execute_result"
    }
   ],
   "source": [
    "palindromes([\"hello\", \"racecar\", \"hijkl\", \"eee\", \"oo\"])"
   ]
  },
  {
   "cell_type": "code",
   "execution_count": 13,
   "id": "968da865-16aa-4cd6-a587-22f660b766b5",
   "metadata": {},
   "outputs": [],
   "source": [
    "# 7. Write a Python program that takes a list of tuples, where each tuple contains a string and an integer, and returns a new list containing the \n",
    "# tuples sorted by the length of the string, with ties broken by the value of the integer.\n",
    "\n",
    "def sort_list_of_tuples(li: list) -> list:\n",
    "    \"\"\"\n",
    "    Takes a list of tuples and sorts the tuples by length of the string in the tuple. Ties are broken by the value of the integer in the tuple.\n",
    "\n",
    "    Args:\n",
    "        li (list): A list of tuples, where each tuple contains a string and an integer\n",
    "\n",
    "    Returns:\n",
    "        list: List sorted by the length of the string, and ties broken by the value of the integer\n",
    "    \"\"\"\n",
    "    return sorted(li, key = lambda x: (len(x[0]), x[1]))"
   ]
  },
  {
   "cell_type": "code",
   "execution_count": 14,
   "id": "c02b7cbe-a68b-4250-956f-1c9de59c2539",
   "metadata": {},
   "outputs": [
    {
     "data": {
      "text/plain": [
       "[('of', 1), ('list', 3), ('tuples', 8)]"
      ]
     },
     "execution_count": 14,
     "metadata": {},
     "output_type": "execute_result"
    }
   ],
   "source": [
    "t = [(\"list\", 3), (\"of\", 1), (\"tuples\", 8)]\n",
    "sort_list_of_tuples(t)"
   ]
  },
  {
   "cell_type": "code",
   "execution_count": 15,
   "id": "6e58aa1a-b1e1-41aa-8816-aa7a8aad2576",
   "metadata": {},
   "outputs": [],
   "source": [
    "# 8. Write a Python function that takes a dictionary as an argument and returns a new dictionary where the keys are sorted alphabetically \n",
    "# and the values are sorted in descending order.\n",
    "\n",
    "def dict_sort(d: dict) -> dict:\n",
    "    \"\"\"\n",
    "    Sorts the keys of a dictionary alphabetically, and sorts the values in descending order.\n",
    "\n",
    "    Args:\n",
    "        d (dict): A dictionary with strings as keys, and list of integers as values.\n",
    "\n",
    "    Returns:\n",
    "        dict: The sorted dictionary\n",
    "    \"\"\"\n",
    "    return { key:sorted(d[key], reverse = True) for key in sorted(d) }"
   ]
  },
  {
   "cell_type": "code",
   "execution_count": 16,
   "id": "36f8971f-a7f5-495b-bcb3-18a7c232f205",
   "metadata": {},
   "outputs": [
    {
     "data": {
      "text/plain": [
       "{'a': [9, 6, 4], 'b': [9, 7, 3, 1]}"
      ]
     },
     "execution_count": 16,
     "metadata": {},
     "output_type": "execute_result"
    }
   ],
   "source": [
    "d = {\"b\": [3,1,7,9], \"a\": [4,9,6]}\n",
    "dict_sort(d)"
   ]
  },
  {
   "cell_type": "code",
   "execution_count": 17,
   "id": "8e0d5480-e05f-4f12-b2b8-4173221b4afd",
   "metadata": {},
   "outputs": [],
   "source": [
    "# 9. Write a Python program that takes a list of tuples, where each tuple contains a string and a set of integers, and returns a new list containing \n",
    "# the tuples sorted by the sum of the integers in the set, with ties broken by the length of the string.\n",
    "\n",
    "def sort_sum(li: list) -> list:\n",
    "    \"\"\"\n",
    "    Sorts a list of tuples by the sum of integers in the tuple, with ties broken by the length of the string in the tuple\n",
    "\n",
    "    Args:\n",
    "        li (list): A list of tuples, with each tuple containing a string and a set of integers\n",
    "        \n",
    "    Returns:\n",
    "        list: List of tuples sorted according to the sum of integers in the set, with ties broken by the length of the string.\n",
    "    \"\"\"\n",
    "    l = sorted(li, key = lambda x: (sum(x[1]), len(x[0])))\n",
    "    return l"
   ]
  },
  {
   "cell_type": "code",
   "execution_count": 18,
   "id": "ed1bfb40-cdde-4b38-97b9-35e7b9fe8270",
   "metadata": {},
   "outputs": [
    {
     "data": {
      "text/plain": [
       "[('tuples', {1, 2, 3}),\n",
       " ('of', {5, 8}),\n",
       " ('sorted', {6, 7}),\n",
       " ('list', {4, 6, 10})]"
      ]
     },
     "execution_count": 18,
     "metadata": {},
     "output_type": "execute_result"
    }
   ],
   "source": [
    "t = [(\"list\", {10,6,4}), (\"of\", {8,5}), (\"tuples\", {1,2,3}), (\"sorted\", {7,6})]\n",
    "sort_sum(t)"
   ]
  },
  {
   "cell_type": "code",
   "execution_count": 19,
   "id": "f4e935a5-b030-40f2-af8e-19ba99a631cb",
   "metadata": {},
   "outputs": [],
   "source": [
    "# 10. Write a Python function that takes a string as an argument and returns a new string where each word in the string is replaced with the word \n",
    "# that appears most frequently in the string.\n",
    "\n",
    "from collections import Counter\n",
    "\n",
    "def str_freq(s: str) -> str:\n",
    "    \"\"\"\n",
    "    Replaces all words in a string with the most frequently occurring word\n",
    "\n",
    "    Args:\n",
    "        s (str): A string\n",
    "        \n",
    "    Returns:\n",
    "        str: The string after having all of its words replaced by the most frequently occurring word\n",
    "    \"\"\"\n",
    "    words = s.lower().split()\n",
    "    c = Counter(words)\n",
    "    freq_word = Counter(words).most_common(1)[0][0]\n",
    "    new_str = [freq_word] * len(words)\n",
    "    return \" \".join(new_str)"
   ]
  },
  {
   "cell_type": "code",
   "execution_count": 20,
   "id": "3ebbd6f9-a477-4f6a-8e27-9f27ec0e2425",
   "metadata": {},
   "outputs": [
    {
     "data": {
      "text/plain": [
       "'string string string string string string string string string string string string string string string string string string string string string string'"
      ]
     },
     "execution_count": 20,
     "metadata": {},
     "output_type": "execute_result"
    }
   ],
   "source": [
    "s = \"takes a string as and returns a new string where each word in string is replaced with the word that appears most\"\n",
    "str_freq(s)"
   ]
  },
  {
   "cell_type": "code",
   "execution_count": 21,
   "id": "95711f82-ae03-4958-bf5d-8fb5d57d27c5",
   "metadata": {},
   "outputs": [],
   "source": [
    "# 11. Write a Python program that takes a list of tuples, where each tuple contains a string and a list of integers, and returns a new list \n",
    "# containing the tuples sorted by the median of the integers in the list, with ties broken by the length of the string.\n",
    "\n",
    "from statistics import median\n",
    "\n",
    "def sort_median(li: list) -> list:\n",
    "    \"\"\"\n",
    "    Sorts a list of tuples by the median of the integers in the list, with ties broken by the length of the string.\n",
    "\n",
    "    Args:\n",
    "        li (list): list of tuples, where each tuple contains a string and a list of integers\n",
    "    \"\"\"\n",
    "    return sorted(li, key = lambda x: (median(x[1]), len(x[0]))) "
   ]
  },
  {
   "cell_type": "code",
   "execution_count": 22,
   "id": "c716220c-de71-4cd0-b8d7-232d155fece0",
   "metadata": {},
   "outputs": [
    {
     "data": {
      "text/plain": [
       "[('tuples', [1, 2, 3]),\n",
       " ('list', [10, 6, 4]),\n",
       " ('sorted', [4, 8]),\n",
       " ('of', [8, 5])]"
      ]
     },
     "execution_count": 22,
     "metadata": {},
     "output_type": "execute_result"
    }
   ],
   "source": [
    "t = [(\"list\", [10,6,4]), (\"of\", [8,5]), (\"tuples\", [1,2,3]), (\"sorted\", [4,8])]\n",
    "sort_median(t)"
   ]
  },
  {
   "cell_type": "code",
   "execution_count": 23,
   "id": "3594c339-8ba9-42e7-9e92-a614f4bea25d",
   "metadata": {},
   "outputs": [],
   "source": [
    "# 12. Given an integer array nums, rotate the array to the right by k steps, where k is non-negative. \n",
    "# Do it with the least possible space. I.e O(1) space complexity.\n",
    "\n",
    "def rotate(li: list, k: int) -> list:\n",
    "    \"\"\"\n",
    "    Rotates an array to the right by a certain number of steps\n",
    "\n",
    "    Args:\n",
    "        li (list): An integer array\n",
    "        k (int): Defines number of steps for rotation of array\n",
    "\n",
    "    Returns:\n",
    "        array: The array rotated to the right by k steps\n",
    "    \"\"\"\n",
    "    k = k % len(li)\n",
    "    li[:] = li[::-1]\n",
    "    li[:k] = li[:k][::-1]\n",
    "    li[k:] = li[k:][::-1]\n",
    "    return li"
   ]
  },
  {
   "cell_type": "code",
   "execution_count": 24,
   "id": "d79267df-cda2-413e-8928-7b07ecd822f3",
   "metadata": {},
   "outputs": [
    {
     "data": {
      "text/plain": [
       "[5, 6, 7, 1, 2, 3, 4]"
      ]
     },
     "execution_count": 24,
     "metadata": {},
     "output_type": "execute_result"
    }
   ],
   "source": [
    "nums = [1,2,3,4,5,6,7]\n",
    "k = 3\n",
    "rotate(nums,k)"
   ]
  },
  {
   "cell_type": "code",
   "execution_count": null,
   "id": "7c4fb0b0-6cdf-46a2-adbe-18df0ade9b9d",
   "metadata": {},
   "outputs": [],
   "source": []
  }
 ],
 "metadata": {
  "kernelspec": {
   "display_name": "Python 3",
   "language": "python",
   "name": "python3"
  },
  "language_info": {
   "codemirror_mode": {
    "name": "ipython",
    "version": 3
   },
   "file_extension": ".py",
   "mimetype": "text/x-python",
   "name": "python",
   "nbconvert_exporter": "python",
   "pygments_lexer": "ipython3",
   "version": "3.11.2"
  }
 },
 "nbformat": 4,
 "nbformat_minor": 5
}
