{
 "cells": [
  {
   "cell_type": "code",
   "execution_count": 1,
   "metadata": {},
   "outputs": [],
   "source": [
    "from db_manager import DatabaseManager\n",
    "from export import ExportManager"
   ]
  },
  {
   "cell_type": "code",
   "execution_count": 2,
   "metadata": {},
   "outputs": [
    {
     "name": "stdout",
     "output_type": "stream",
     "text": [
      "Successfully connected to the database.\n"
     ]
    }
   ],
   "source": [
    "db = DatabaseManager(host=\"localhost\", user=\"root\", password=\"sdcdsFHS58%sd\", database=\"python_crud\")\n",
    "exporter = ExportManager()\n"
   ]
  },
  {
   "cell_type": "code",
   "execution_count": 3,
   "metadata": {},
   "outputs": [
    {
     "name": "stdout",
     "output_type": "stream",
     "text": [
      "\n",
      "Insert Records:\n",
      "Record added successfully.\n"
     ]
    }
   ],
   "source": [
    "print(\"\\nInsert Records:\")\n",
    "name = input(\"Enter name: \")\n",
    "email = input(\"Enter email: \")\n",
    "db.create_record(name, email)\n",
    "exporter.export(\"INSERT\", db.read_records())"
   ]
  },
  {
   "cell_type": "code",
   "execution_count": 4,
   "metadata": {},
   "outputs": [
    {
     "name": "stdout",
     "output_type": "stream",
     "text": [
      "\n",
      "Updating a record:\n",
      "Record updated successfully.\n"
     ]
    }
   ],
   "source": [
    "print(\"\\nUpdating a record:\")\n",
    "id = int(input(\"Enter ID to update: \"))\n",
    "name = input(\"Enter new name: \")  \n",
    "email = input(\"Enter new email: \")\n",
    "db.update_record(id, name, email)\n",
    "exporter.export(\"UPDATE\", db.read_records())"
   ]
  },
  {
   "cell_type": "code",
   "execution_count": 5,
   "metadata": {},
   "outputs": [
    {
     "name": "stdout",
     "output_type": "stream",
     "text": [
      "\n",
      "Deleting a record:\n",
      "Record deleted successfully.\n"
     ]
    }
   ],
   "source": [
    "print(\"\\nDeleting a record:\")\n",
    "id = int(input(\"Enter ID to delete: \"))\n",
    "db.delete_record(id)\n",
    "exporter.export(\"DELETE\", db.read_records())"
   ]
  },
  {
   "cell_type": "code",
   "execution_count": 6,
   "metadata": {},
   "outputs": [],
   "source": [
    "db.close_connection()"
   ]
  },
  {
   "cell_type": "code",
   "execution_count": null,
   "metadata": {},
   "outputs": [],
   "source": []
  }
 ],
 "metadata": {
  "kernelspec": {
   "display_name": "traineeship",
   "language": "python",
   "name": "python3"
  },
  "language_info": {
   "codemirror_mode": {
    "name": "ipython",
    "version": 3
   },
   "file_extension": ".py",
   "mimetype": "text/x-python",
   "name": "python",
   "nbconvert_exporter": "python",
   "pygments_lexer": "ipython3",
   "version": "3.12.8"
  }
 },
 "nbformat": 4,
 "nbformat_minor": 2
}
