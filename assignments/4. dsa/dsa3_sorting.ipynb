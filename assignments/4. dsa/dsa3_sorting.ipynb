{
 "cells": [
  {
   "cell_type": "markdown",
   "metadata": {},
   "source": [
    "### Sorting Algorithms\n",
    "Selection sort"
   ]
  },
  {
   "cell_type": "code",
   "execution_count": 1,
   "metadata": {},
   "outputs": [],
   "source": [
    "def selectionSort(a, n):\n",
    "    for i in range(n-1):\n",
    "        least = i\n",
    "        for j in range (i+1, n):\n",
    "            if(a[j] < a[least]):\n",
    "                least = j\n",
    "        if(least != i):\n",
    "            temp = a[i]\n",
    "            a[i] = a[least]\n",
    "            a[least] = temp \n",
    "    print(a)"
   ]
  },
  {
   "cell_type": "code",
   "execution_count": 2,
   "metadata": {},
   "outputs": [
    {
     "name": "stdout",
     "output_type": "stream",
     "text": [
      "[0, 1, 2, 3, 7]\n"
     ]
    }
   ],
   "source": [
    "arr = [2,3,7,1,0]\n",
    "n = len(arr)\n",
    "\n",
    "selectionSort(arr, n)"
   ]
  },
  {
   "cell_type": "markdown",
   "metadata": {},
   "source": [
    "Quick sort"
   ]
  },
  {
   "cell_type": "code",
   "execution_count": 3,
   "metadata": {},
   "outputs": [],
   "source": [
    "def partition(arr, low, high):\n",
    "    pivot = arr[high]\n",
    "    i = low - 1\n",
    "    \n",
    "    for j in range(low, high):\n",
    "        if arr[j] < pivot:\n",
    "            i += 1\n",
    "            swap(arr, i, j)\n",
    "    \n",
    "    swap(arr, i + 1, high)\n",
    "    return i + 1\n",
    "\n",
    "def swap(arr, i, j):\n",
    "    arr[i], arr[j] = arr[j], arr[i]\n",
    "\n",
    "def quickSort(arr, low, high):\n",
    "    if low < high:\n",
    "        pi = partition(arr, low, high)\n",
    "        quickSort(arr, low, pi - 1)\n",
    "        quickSort(arr, pi + 1, high)"
   ]
  },
  {
   "cell_type": "code",
   "execution_count": 4,
   "metadata": {},
   "outputs": [
    {
     "name": "stdout",
     "output_type": "stream",
     "text": [
      "[0, 2, 3, 5, 5, 8, 9]\n"
     ]
    }
   ],
   "source": [
    "arr = [5,8,3,2,5,9,0]\n",
    "n = len(arr)\n",
    "quickSort(arr, 0, n - 1)\n",
    "print(arr) "
   ]
  },
  {
   "cell_type": "markdown",
   "metadata": {},
   "source": [
    "Merge sort"
   ]
  },
  {
   "cell_type": "code",
   "execution_count": null,
   "metadata": {},
   "outputs": [],
   "source": [
    "def merge(arr, left, mid, right):\n",
    "    n1 = mid - left + 1\n",
    "    n2 = right - mid\n",
    "    L = [0] * n1\n",
    "    R = [0] * n2\n",
    "    for i in range(n1):\n",
    "        L[i] = arr[left + i]\n",
    "    for j in range(n2):\n",
    "        R[j] = arr[mid + 1 + j]\n",
    "    i = 0 \n",
    "    j = 0 \n",
    "    k = left \n",
    "    while i < n1 and j < n2:\n",
    "        if L[i] <= R[j]:\n",
    "            arr[k] = L[i]\n",
    "            i += 1\n",
    "        else:\n",
    "            arr[k] = R[j]\n",
    "            j += 1\n",
    "        k += 1\n",
    "    while i < n1:\n",
    "        arr[k] = L[i]\n",
    "        i += 1\n",
    "        k += 1\n",
    "    while j < n2:\n",
    "        arr[k] = R[j]\n",
    "        j += 1\n",
    "        k += 1\n",
    "\n",
    "def merge_sort(arr, left, right):\n",
    "    if left < right:\n",
    "        mid = (left + right) // 2\n",
    "        merge_sort(arr, left, mid)\n",
    "        merge_sort(arr, mid + 1, right)\n",
    "        merge(arr, left, mid, right)\n"
   ]
  },
  {
   "cell_type": "code",
   "execution_count": 6,
   "metadata": {},
   "outputs": [
    {
     "name": "stdout",
     "output_type": "stream",
     "text": [
      "[2, 3, 8, 9, 12, 25]\n"
     ]
    }
   ],
   "source": [
    "arr = [12, 25, 3, 2, 8, 9]\n",
    "merge_sort(arr, 0, len(arr) - 1)\n",
    "print(arr)"
   ]
  }
 ],
 "metadata": {
  "kernelspec": {
   "display_name": "traineeship",
   "language": "python",
   "name": "python3"
  },
  "language_info": {
   "codemirror_mode": {
    "name": "ipython",
    "version": 3
   },
   "file_extension": ".py",
   "mimetype": "text/x-python",
   "name": "python",
   "nbconvert_exporter": "python",
   "pygments_lexer": "ipython3",
   "version": "3.12.8"
  }
 },
 "nbformat": 4,
 "nbformat_minor": 2
}
