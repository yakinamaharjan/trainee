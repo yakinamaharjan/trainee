{
 "cells": [
  {
   "cell_type": "code",
   "execution_count": 46,
   "metadata": {},
   "outputs": [],
   "source": [
    "import numpy as np\n",
    "import random\n",
    "import matplotlib.pyplot as plt"
   ]
  },
  {
   "cell_type": "code",
   "execution_count": 47,
   "metadata": {},
   "outputs": [],
   "source": [
    "class Maze:\n",
    "    \"\"\"\n",
    "    Represents a maze with walls, start, and goal positions.\n",
    "    \"\"\"\n",
    "    def __init__(self, maze: np.ndarray, start_position: tuple[int, int], goal_position: tuple[int, int]) -> None:\n",
    "        \"\"\"\n",
    "        Initialize the maze with the given layout, start, and goal positions.\n",
    "\n",
    "        Args:\n",
    "            maze (numpy.ndarray): The maze layout.\n",
    "            start_position (tuple): The starting position of the maze.\n",
    "            goal_position (tuple): The goal position of the maze.\n",
    "        \"\"\"\n",
    "        self.maze = maze\n",
    "        self.maze_height = maze_layout.shape[0]\n",
    "        self.maze_width = maze_layout.shape[1]\n",
    "        self.start_position = start_position\n",
    "        self.goal_position = goal_position\n",
    "\n",
    "    def show_maze(self) -> None:\n",
    "        \"\"\"\n",
    "        Visualize the maze.\n",
    "        \"\"\"\n",
    "        plt.figure(figsize=(5,5))\n",
    "        plt.imshow(self.maze, cmap='gray')\n",
    "        plt.text(self.start_position[0], self.start_position[1], 'S', ha='center', va='center', color='red', fontsize=20)\n",
    "        plt.text(self.goal_position[0], self.goal_position[1], 'G', ha='center', va='center', color='green', fontsize=20)\n",
    "        plt.xticks([]), plt.yticks([])\n",
    "        plt.show()"
   ]
  },
  {
   "cell_type": "code",
   "execution_count": 48,
   "metadata": {},
   "outputs": [],
   "source": [
    "class QLearningAgent:\n",
    "    \"\"\"\n",
    "    Q-Learning agent for maze navigation.\n",
    "    \"\"\"\n",
    "    def __init__(self, maze: Maze, learning_rate: float = 0.1, discount_factor: float = 0.9, exploration_start: float = 1.0, exploration_end: float = 0.01, num_episodes: int = 100) -> None:\n",
    "        \"\"\"\n",
    "        Initialize the Q-Learning agent.\n",
    "\n",
    "        Args:\n",
    "            maze (Maze): A Maze object representing the maze environment.\n",
    "            learning_rate (float): The learning rate for updating Q-values.\n",
    "            discount_factor (float): The discount factor for future rewards.\n",
    "            exploration_start (float): The initial exploration rate.\n",
    "            exploration_end (float): The final exploration rate.\n",
    "            num_episodes (int): The number of episodes to train the agent.\n",
    "\n",
    "        Returns:\n",
    "            None\n",
    "        \"\"\"\n",
    "\n",
    "        self.q_table = np.zeros((maze.maze_height, maze.maze_width, 4))\n",
    "        self.learning_rate = learning_rate\n",
    "        self.discount_factor = discount_factor\n",
    "        self.exploration_start = exploration_start\n",
    "        self.exploration_end = exploration_end\n",
    "        self.num_episodes = num_episodes\n",
    "\n",
    "    def get_exploration_rate(self, current_episode: int):\n",
    "        \"\"\"\n",
    "        Calculate the exploration rate based on the current episode.\n",
    "\n",
    "        Args:\n",
    "            current_episode (int): The current episode number.\n",
    "\n",
    "        Returns:\n",
    "            float: The exploration rate.\n",
    "        \"\"\"\n",
    "        exploration_rate = self.exploration_start * (self.exploration_end / self.exploration_start) ** (current_episode / self.num_episodes)\n",
    "        return exploration_rate\n",
    "\n",
    "    def get_action(self, state: tuple[int, int], current_episode: int) -> int:\n",
    "        \"\"\"\n",
    "        Get the action to take based on the current state and exploration rate.\n",
    "\n",
    "        Args:\n",
    "            state (tuple): The current state.\n",
    "            current_episode (int): The current episode number.\n",
    "\n",
    "        Returns:\n",
    "            int: The action to take.\n",
    "        \"\"\"\n",
    "        exploration_rate = self.get_exploration_rate(current_episode)\n",
    "        if np.random.rand() < exploration_rate:\n",
    "            return np.random.randint(4)\n",
    "        else:\n",
    "            return np.argmax(self.q_table[state])\n",
    "\n",
    "    def update_q_table(self, state: tuple[int, int], action: int, next_state: tuple[int, int], reward: int) -> None:\n",
    "        \"\"\"\n",
    "        Update the Q-table based on the current state, action, next state, and reward.\n",
    "\n",
    "        Args:\n",
    "            state (tuple): The current state.\n",
    "            action (int): The action taken.\n",
    "            next_state (tuple): The next state.\n",
    "            reward (int): The reward received.\n",
    "\n",
    "        Returns:\n",
    "            None\n",
    "        \"\"\"\n",
    "        best_next_action = np.argmax(self.q_table[next_state])\n",
    "        current_q_value = self.q_table[state][action]\n",
    "        new_q_value = current_q_value + self.learning_rate * (reward + self.discount_factor * self.q_table[next_state][best_next_action] - current_q_value)\n",
    "        self.q_table[state][action] = new_q_value"
   ]
  },
  {
   "cell_type": "code",
   "execution_count": 49,
   "metadata": {},
   "outputs": [],
   "source": [
    "def episode(agent: QLearningAgent, maze: Maze, current_episode: int, train: bool = True) -> tuple[int, int, list[tuple[int, int]]]:\n",
    "    \"\"\"\n",
    "    Runs an episode of the agent trying to solve the maze.\n",
    "\n",
    "    Args:\n",
    "        agent (QLearningAgent): The agent to run the episode with.\n",
    "        maze (Maze): The maze to solve.\n",
    "        current_episode (int): The current episode number.\n",
    "        train (bool): Whether to train the agent or not.\n",
    "\n",
    "    Returns:\n",
    "        Tuple(int, int, list[Tuple(int, int)]): A tuple containing the following:\n",
    "            episode_reward (int) : The reward of the episode.\n",
    "            episode_step (int) : The number of steps taken in the episode.\n",
    "            path (list[Tuple(int, int)]) : The path taken by the agent in the episode.\n",
    "    \"\"\"\n",
    "    current_state = maze.start_position\n",
    "    is_done = False\n",
    "    episode_reward = 0\n",
    "    episode_step = 0\n",
    "    path = [current_state]\n",
    "\n",
    "    while not is_done:\n",
    "        action = agent.get_action(current_state, current_episode)\n",
    "\n",
    "        next_state = (current_state[0] + actions[action][0], current_state[1] + actions[action][1])\n",
    "\n",
    "        if (next_state[0] < 0 or next_state[0] >= maze.maze_height \n",
    "                or next_state[1] < 0 or next_state[1] >= maze.maze_width \n",
    "                or maze.maze[next_state[1]][next_state[0]] == 1):\n",
    "            reward = wall_penalty\n",
    "            next_state = current_state\n",
    "        elif next_state == (maze.goal_position):\n",
    "            path.append(current_state)\n",
    "            path.append(next_state)\n",
    "            reward = goal_reward\n",
    "            is_done = True\n",
    "        else:\n",
    "            path.append(current_state)\n",
    "            reward = step_penalty\n",
    "\n",
    "        episode_reward += reward\n",
    "        episode_step += 1\n",
    "\n",
    "        if train == True:\n",
    "            agent.update_q_table(current_state, action, next_state, reward)\n",
    "\n",
    "        current_state = next_state\n",
    "\n",
    "    return episode_reward, episode_step, path"
   ]
  },
  {
   "cell_type": "code",
   "execution_count": 50,
   "metadata": {},
   "outputs": [],
   "source": [
    "def eval_agent(agent: QLearningAgent, maze: Maze, num_episodes: int = 1) -> tuple[int, int]:\n",
    "    \"\"\"\n",
    "    Evaluate the agent in the given maze.\n",
    "\n",
    "    Args:\n",
    "        agent (QLearningAgent): The agent to evaluate.\n",
    "        maze (Maze): The maze to evaluate in.\n",
    "        num_episodes (int): The number of episodes to evaluate for.\n",
    "    \n",
    "    Returns:\n",
    "        Tuple(int, int): A tuple containing the following:\n",
    "            episode_step (int): The number of steps taken in the last episode.\n",
    "            episode_reward (int): The total reward obtained in the last episode.\n",
    "    \"\"\"\n",
    "    episode_reward, episode_step, path = episode(agent, maze, num_episodes, train=False)\n",
    "\n",
    "    print(\"Learned Path:\")\n",
    "    for row, col in path:\n",
    "        print(f\"({row}, {col})-> \", end='')\n",
    "    print(\"Goal!\")\n",
    "\n",
    "    print(\"Number of steps:\", episode_step)\n",
    "    print(\"Total reward:\", episode_reward)\n",
    "\n",
    "    if plt.gcf().get_axes():\n",
    "        plt.cla()\n",
    "\n",
    "    plt.figure(figsize=(5,5))\n",
    "    plt.imshow(maze.maze, cmap='gray')\n",
    "\n",
    "    plt.text(maze.start_position[0], maze.start_position[1], 'S', ha='center', va='center', color='red', fontsize=20)\n",
    "    plt.text(maze.goal_position[0], maze.goal_position[1], 'G', ha='center', va='center', color='green', fontsize=20)\n",
    "\n",
    "    for position in path:\n",
    "        plt.text(position[0], position[1], \"-\", va='center', color='orange', fontsize=20)\n",
    "\n",
    "    plt.xticks([]), plt.yticks([])\n",
    "    plt.grid(color='black', linewidth=2)\n",
    "    plt.show()\n",
    "\n",
    "    return episode_step, episode_reward"
   ]
  },
  {
   "cell_type": "code",
   "execution_count": 51,
   "metadata": {},
   "outputs": [],
   "source": [
    "def train_agent(agent: QLearningAgent, maze: Maze, num_episodes: int = 100) -> None:\n",
    "    \"\"\"\n",
    "    Trains the agent using the provided maze and number of episodes.\n",
    "\n",
    "    Args:\n",
    "        agent (QLearningAgent): The agent to train.\n",
    "        maze (Maze): The maze to train the agent on.\n",
    "        num_episodes (int, optional): The number of episodes to train the agent for. Defaults to 100.\n",
    "\n",
    "    Returns:\n",
    "        None\n",
    "    \"\"\"\n",
    "    episode_rewards = []\n",
    "    episode_steps = []\n",
    "\n",
    "    for n in range(num_episodes):\n",
    "        episode_reward, episode_step, path = episode(agent, maze, n, train=True)\n",
    "\n",
    "        episode_rewards.append(episode_reward)\n",
    "        episode_steps.append(episode_step)\n",
    "\n",
    "    plt.figure(figsize=(10, 5))\n",
    "\n",
    "    plt.subplot(1, 2, 1)\n",
    "    plt.plot(episode_rewards)\n",
    "    plt.xlabel('Episode')\n",
    "    plt.ylabel('Cumulative Reward')\n",
    "    plt.title('Reward per Episode')\n",
    "\n",
    "    average_reward = sum(episode_rewards) / len(episode_rewards)\n",
    "    print(f\"The average reward is: {average_reward}\")\n",
    "\n",
    "    plt.subplot(1, 2, 2)\n",
    "    plt.plot(episode_steps)\n",
    "    plt.xlabel('Episode')\n",
    "    plt.ylabel('Steps Taken')\n",
    "    plt.ylim(0, 100)\n",
    "    plt.title('Steps per Episode')\n",
    "\n",
    "    average_steps = sum(episode_steps) / len(episode_steps)\n",
    "    print(f\"The average steps is: {average_steps}\")\n",
    "\n",
    "    plt.tight_layout()\n",
    "    plt.show()"
   ]
  },
  {
   "cell_type": "markdown",
   "metadata": {},
   "source": [
    "## MAZE"
   ]
  },
  {
   "cell_type": "code",
   "execution_count": 52,
   "metadata": {},
   "outputs": [],
   "source": [
    "actions = [(-1, 0), (1, 0), (0, -1), (0, 1)]    # up, down, left, right"
   ]
  },
  {
   "cell_type": "code",
   "execution_count": 53,
   "metadata": {},
   "outputs": [],
   "source": [
    "goal_reward = 10000\n",
    "wall_penalty = -100\n",
    "step_penalty = -1"
   ]
  },
  {
   "cell_type": "code",
   "execution_count": 54,
   "metadata": {},
   "outputs": [],
   "source": [
    "# maze_layout = np.array([\n",
    "#     [1, 1, 1, 0, 0, 0],\n",
    "#     [1, 1, 1, 1, 1, 0],\n",
    "#     [0, 0, 0, 0, 0, 0],\n",
    "#     [0, 1, 1, 1, 1, 1],\n",
    "#     [0, 0, 0, 0, 0, 0],\n",
    "#     [1, 1, 1, 1, 1, 0]\n",
    "# ])\n",
    "\n",
    "# maze = Maze(maze_layout, (3, 0), (5, 5))\n",
    "# maze.show_maze()"
   ]
  },
  {
   "cell_type": "code",
   "execution_count": 55,
   "metadata": {},
   "outputs": [
    {
     "data": {
      "image/png": "[encoded data removed]",
      "text/plain": [
       "<Figure size 500x500 with 1 Axes>"
      ]
     },
     "metadata": {},
     "output_type": "display_data"
    }
   ],
   "source": [
    "maze_layout = np.array([\n",
    "    [0, 0, 0, 0, 0, 0],\n",
    "    [0, 1, 1, 1, 1, 0],\n",
    "    [0, 0, 0, 0, 0, 0],\n",
    "    [0, 1, 1, 0, 1, 1],\n",
    "    [0, 0, 0, 0, 0, 0],\n",
    "    [1, 1, 1, 1, 1, 0]\n",
    "])\n",
    "\n",
    "maze = Maze(maze_layout, (3, 0), (5, 5))\n",
    "maze.show_maze()"
   ]
  },
  {
   "cell_type": "code",
   "execution_count": 56,
   "metadata": {},
   "outputs": [
    {
     "name": "stdout",
     "output_type": "stream",
     "text": [
      "Learned Path:\n",
      "(3, 0)-> (3, 0)-> (4, 0)-> (5, 0)-> (4, 0)-> (5, 0)-> (5, 1)-> (5, 0)-> (5, 1)-> (5, 0)-> (5, 1)-> (5, 0)-> (4, 0)-> (5, 0)-> (5, 1)-> (5, 2)-> (5, 1)-> (5, 2)-> (5, 1)-> (5, 2)-> (5, 1)-> (5, 2)-> (4, 2)-> (3, 2)-> (4, 2)-> (3, 2)-> (4, 2)-> (3, 2)-> (2, 2)-> (3, 2)-> (2, 2)-> (1, 2)-> (0, 2)-> (0, 1)-> (0, 0)-> (0, 1)-> (0, 0)-> (0, 1)-> (0, 0)-> (0, 1)-> (0, 0)-> (1, 0)-> (2, 0)-> (3, 0)-> (2, 0)-> (1, 0)-> (0, 0)-> (1, 0)-> (0, 0)-> (0, 1)-> (0, 0)-> (1, 0)-> (0, 0)-> (0, 1)-> (0, 0)-> (0, 1)-> (0, 2)-> (1, 2)-> (2, 2)-> (1, 2)-> (0, 2)-> (0, 3)-> (0, 2)-> (0, 1)-> (0, 2)-> (0, 1)-> (0, 2)-> (1, 2)-> (0, 2)-> (0, 1)-> (0, 0)-> (1, 0)-> (2, 0)-> (1, 0)-> (0, 0)-> (1, 0)-> (0, 0)-> (0, 1)-> (0, 2)-> (1, 2)-> (0, 2)-> (0, 3)-> (0, 4)-> (0, 3)-> (0, 4)-> (0, 3)-> (0, 4)-> (0, 3)-> (0, 2)-> (0, 3)-> (0, 4)-> (0, 3)-> (0, 2)-> (0, 1)-> (0, 0)-> (0, 1)-> (0, 2)-> (0, 1)-> (0, 0)-> (0, 1)-> (0, 0)-> (1, 0)-> (0, 0)-> (1, 0)-> (2, 0)-> (3, 0)-> (4, 0)-> (5, 0)-> (5, 1)-> (5, 2)-> (5, 1)-> (5, 0)-> (4, 0)-> (5, 0)-> (5, 1)-> (5, 0)-> (4, 0)-> (5, 0)-> (5, 1)-> (5, 0)-> (4, 0)-> (3, 0)-> (4, 0)-> (3, 0)-> (2, 0)-> (1, 0)-> (0, 0)-> (1, 0)-> (2, 0)-> (3, 0)-> (4, 0)-> (3, 0)-> (2, 0)-> (1, 0)-> (0, 0)-> (0, 1)-> (0, 0)-> (1, 0)-> (0, 0)-> (0, 1)-> (0, 2)-> (1, 2)-> (2, 2)-> (1, 2)-> (2, 2)-> (3, 2)-> (2, 2)-> (1, 2)-> (2, 2)-> (3, 2)-> (2, 2)-> (3, 2)-> (4, 2)-> (5, 2)-> (4, 2)-> (3, 2)-> (2, 2)-> (1, 2)-> (0, 2)-> (1, 2)-> (0, 2)-> (0, 3)-> (0, 4)-> (1, 4)-> (2, 4)-> (3, 4)-> (3, 3)-> (3, 4)-> (3, 3)-> (3, 2)-> (4, 2)-> (3, 2)-> (3, 3)-> (3, 2)-> (4, 2)-> (5, 2)-> (4, 2)-> (3, 2)-> (3, 3)-> (3, 2)-> (2, 2)-> (1, 2)-> (0, 2)-> (1, 2)-> (0, 2)-> (1, 2)-> (2, 2)-> (3, 2)-> (2, 2)-> (3, 2)-> (3, 3)-> (3, 4)-> (4, 4)-> (3, 4)-> (3, 3)-> (3, 2)-> (2, 2)-> (1, 2)-> (2, 2)-> (3, 2)-> (2, 2)-> (1, 2)-> (2, 2)-> (1, 2)-> (2, 2)-> (1, 2)-> (2, 2)-> (1, 2)-> (0, 2)-> (0, 3)-> (0, 2)-> (0, 3)-> (0, 4)-> (0, 3)-> (0, 2)-> (1, 2)-> (2, 2)-> (1, 2)-> (0, 2)-> (1, 2)-> (0, 2)-> (0, 3)-> (0, 2)-> (0, 1)-> (0, 2)-> (1, 2)-> (0, 2)-> (0, 3)-> (0, 4)-> (0, 3)-> (0, 2)-> (0, 3)-> (0, 2)-> (1, 2)-> (2, 2)-> (1, 2)-> (0, 2)-> (0, 3)-> (0, 2)-> (0, 1)-> (0, 0)-> (1, 0)-> (0, 0)-> (1, 0)-> (2, 0)-> (3, 0)-> (4, 0)-> (5, 0)-> (4, 0)-> (5, 0)-> (5, 1)-> (5, 0)-> (4, 0)-> (3, 0)-> (2, 0)-> (1, 0)-> (2, 0)-> (1, 0)-> (0, 0)-> (0, 1)-> (0, 0)-> (1, 0)-> (0, 0)-> (0, 1)-> (0, 2)-> (0, 1)-> (0, 0)-> (1, 0)-> (0, 0)-> (1, 0)-> (0, 0)-> (0, 1)-> (0, 0)-> (0, 1)-> (0, 0)-> (1, 0)-> (2, 0)-> (1, 0)-> (0, 0)-> (0, 1)-> (0, 0)-> (1, 0)-> (2, 0)-> (1, 0)-> (0, 0)-> (0, 1)-> (0, 0)-> (1, 0)-> (0, 0)-> (1, 0)-> (2, 0)-> (1, 0)-> (0, 0)-> (1, 0)-> (0, 0)-> (0, 1)-> (0, 0)-> (1, 0)-> (2, 0)-> (3, 0)-> (2, 0)-> (3, 0)-> (2, 0)-> (1, 0)-> (0, 0)-> (1, 0)-> (2, 0)-> (3, 0)-> (2, 0)-> (3, 0)-> (2, 0)-> (3, 0)-> (2, 0)-> (3, 0)-> (2, 0)-> (3, 0)-> (2, 0)-> (1, 0)-> (2, 0)-> (1, 0)-> (0, 0)-> (1, 0)-> (2, 0)-> (1, 0)-> (2, 0)-> (3, 0)-> (2, 0)-> (1, 0)-> (0, 0)-> (1, 0)-> (0, 0)-> (1, 0)-> (0, 0)-> (1, 0)-> (0, 0)-> (0, 1)-> (0, 0)-> (1, 0)-> (0, 0)-> (0, 1)-> (0, 0)-> (1, 0)-> (2, 0)-> (3, 0)-> (4, 0)-> (3, 0)-> (2, 0)-> (1, 0)-> (0, 0)-> (0, 1)-> (0, 2)-> (0, 3)-> (0, 4)-> (1, 4)-> (2, 4)-> (1, 4)-> (0, 4)-> (0, 3)-> (0, 2)-> (0, 1)-> (0, 2)-> (0, 3)-> (0, 4)-> (0, 3)-> (0, 2)-> (0, 1)-> (0, 2)-> (0, 3)-> (0, 2)-> (1, 2)-> (0, 2)-> (0, 3)-> (0, 4)-> (1, 4)-> (2, 4)-> (1, 4)-> (0, 4)-> (1, 4)-> (2, 4)-> (1, 4)-> (0, 4)-> (0, 3)-> (0, 2)-> (1, 2)-> (2, 2)-> (3, 2)-> (2, 2)-> (3, 2)-> (2, 2)-> (3, 2)-> (4, 2)-> (5, 2)-> (5, 1)-> (5, 2)-> (4, 2)-> (5, 2)-> (4, 2)-> (5, 2)-> (5, 1)-> (5, 0)-> (5, 1)-> (5, 2)-> (5, 1)-> (5, 2)-> (4, 2)-> (5, 2)-> (4, 2)-> (3, 2)-> (3, 3)-> (3, 2)-> (2, 2)-> (3, 2)-> (2, 2)-> (3, 2)-> (2, 2)-> (1, 2)-> (0, 2)-> (1, 2)-> (2, 2)-> (1, 2)-> (0, 2)-> (0, 3)-> (0, 2)-> (0, 1)-> (0, 2)-> (1, 2)-> (0, 2)-> (0, 1)-> (0, 2)-> (0, 1)-> (0, 0)-> (0, 1)-> (0, 0)-> (1, 0)-> (0, 0)-> (1, 0)-> (0, 0)-> (0, 1)-> (0, 0)-> (1, 0)-> (2, 0)-> (1, 0)-> (2, 0)-> (3, 0)-> (4, 0)-> (3, 0)-> (4, 0)-> (5, 0)-> (4, 0)-> (5, 0)-> (4, 0)-> (3, 0)-> (2, 0)-> (3, 0)-> (4, 0)-> (3, 0)-> (4, 0)-> (5, 0)-> (5, 1)-> (5, 2)-> (5, 1)-> (5, 2)-> (5, 1)-> (5, 0)-> (4, 0)-> (3, 0)-> (2, 0)-> (1, 0)-> (0, 0)-> (1, 0)-> (0, 0)-> (0, 1)-> (0, 0)-> (1, 0)-> (0, 0)-> (1, 0)-> (0, 0)-> (0, 1)-> (0, 2)-> (1, 2)-> (0, 2)-> (0, 3)-> (0, 4)-> (0, 3)-> (0, 2)-> (1, 2)-> (0, 2)-> (0, 1)-> (0, 2)-> (0, 1)-> (0, 2)-> (0, 3)-> (0, 4)-> (1, 4)-> (2, 4)-> (1, 4)-> (0, 4)-> (1, 4)-> (0, 4)-> (1, 4)-> (2, 4)-> (1, 4)-> (0, 4)-> (1, 4)-> (2, 4)-> (1, 4)-> (2, 4)-> (1, 4)-> (0, 4)-> (0, 3)-> (0, 2)-> (0, 1)-> (0, 2)-> (0, 3)-> (0, 2)-> (0, 1)-> (0, 2)-> (0, 1)-> (0, 2)-> (1, 2)-> (0, 2)-> (1, 2)-> (2, 2)-> (3, 2)-> (4, 2)-> (3, 2)-> (4, 2)-> (5, 2)-> (4, 2)-> (3, 2)-> (3, 3)-> (3, 4)-> (4, 4)-> (3, 4)-> (2, 4)-> (3, 4)-> (4, 4)-> (3, 4)-> (2, 4)-> (1, 4)-> (2, 4)-> (1, 4)-> (0, 4)-> (0, 3)-> (0, 4)-> (0, 3)-> (0, 2)-> (1, 2)-> (2, 2)-> (1, 2)-> (2, 2)-> (1, 2)-> (0, 2)-> (0, 3)-> (0, 4)-> (1, 4)-> (0, 4)-> (1, 4)-> (2, 4)-> (1, 4)-> (0, 4)-> (1, 4)-> (0, 4)-> (1, 4)-> (0, 4)-> (1, 4)-> (2, 4)-> (3, 4)-> (3, 3)-> (3, 2)-> (2, 2)-> (3, 2)-> (3, 3)-> (3, 4)-> (4, 4)-> (3, 4)-> (3, 3)-> (3, 2)-> (2, 2)-> (1, 2)-> (0, 2)-> (0, 1)-> (0, 2)-> (0, 1)-> (0, 0)-> (0, 1)-> (0, 0)-> (1, 0)-> (2, 0)-> (1, 0)-> (2, 0)-> (1, 0)-> (0, 0)-> (1, 0)-> (0, 0)-> (1, 0)-> (0, 0)-> (1, 0)-> (0, 0)-> (0, 1)-> (0, 0)-> (1, 0)-> (0, 0)-> (0, 1)-> (0, 0)-> (0, 1)-> (0, 0)-> (1, 0)-> (0, 0)-> (0, 1)-> (0, 0)-> (1, 0)-> (0, 0)-> (1, 0)-> (0, 0)-> (0, 1)-> (0, 0)-> (1, 0)-> (2, 0)-> (1, 0)-> (2, 0)-> (3, 0)-> (2, 0)-> (1, 0)-> (2, 0)-> (1, 0)-> (2, 0)-> (3, 0)-> (2, 0)-> (1, 0)-> (0, 0)-> (1, 0)-> (0, 0)-> (1, 0)-> (2, 0)-> (3, 0)-> (4, 0)-> (3, 0)-> (2, 0)-> (1, 0)-> (0, 0)-> (0, 1)-> (0, 0)-> (1, 0)-> (2, 0)-> (1, 0)-> (0, 0)-> (0, 1)-> (0, 2)-> (1, 2)-> (0, 2)-> (1, 2)-> (0, 2)-> (1, 2)-> (0, 2)-> (1, 2)-> (0, 2)-> (0, 3)-> (0, 2)-> (0, 3)-> (0, 4)-> (1, 4)-> (2, 4)-> (3, 4)-> (2, 4)-> (1, 4)-> (2, 4)-> (1, 4)-> (2, 4)-> (1, 4)-> (2, 4)-> (3, 4)-> (2, 4)-> (1, 4)-> (2, 4)-> (3, 4)-> (2, 4)-> (1, 4)-> (2, 4)-> (1, 4)-> (0, 4)-> (1, 4)-> (0, 4)-> (1, 4)-> (0, 4)-> (0, 3)-> (0, 2)-> (0, 1)-> (0, 2)-> (0, 3)-> (0, 4)-> (0, 3)-> (0, 4)-> (1, 4)-> (2, 4)-> (3, 4)-> (2, 4)-> (3, 4)-> (3, 3)-> (3, 4)-> (2, 4)-> (1, 4)-> (2, 4)-> (3, 4)-> (4, 4)-> (5, 4)-> (5, 5)-> Goal!\n",
      "Number of steps: 1238\n",
      "Total reward: -44004\n"
     ]
    },
    {
     "data": {
      "text/plain": [
       "<Figure size 640x480 with 0 Axes>"
      ]
     },
     "metadata": {},
     "output_type": "display_data"
    },
    {
     "data": {
      "image/png": "[encoded data removed]",
      "text/plain": [
       "<Figure size 500x500 with 1 Axes>"
      ]
     },
     "metadata": {},
     "output_type": "display_data"
    },
    {
     "data": {
      "text/plain": [
       "(1238, -44004)"
      ]
     },
     "execution_count": 56,
     "metadata": {},
     "output_type": "execute_result"
    }
   ],
   "source": [
    "agent = QLearningAgent(maze)\n",
    "eval_agent(agent, maze)"
   ]
  },
  {
   "cell_type": "code",
   "execution_count": 57,
   "metadata": {},
   "outputs": [
    {
     "name": "stdout",
     "output_type": "stream",
     "text": [
      "The average reward is: 9307.14\n",
      "The average steps is: 26.6\n"
     ]
    },
    {
     "data": {
      "image/png": "[encoded data removed]",
      "text/plain": [
       "<Figure size 1000x500 with 2 Axes>"
      ]
     },
     "metadata": {},
     "output_type": "display_data"
    }
   ],
   "source": [
    "train_agent(agent, maze, 100)"
   ]
  },
  {
   "cell_type": "code",
   "execution_count": 58,
   "metadata": {},
   "outputs": [
    {
     "name": "stdout",
     "output_type": "stream",
     "text": [
      "Learned Path:\n",
      "(3, 0)-> (3, 0)-> (4, 0)-> (5, 0)-> (5, 1)-> (5, 2)-> (4, 2)-> (3, 2)-> (3, 3)-> (3, 4)-> (4, 4)-> (5, 4)-> (5, 5)-> Goal!\n",
      "Number of steps: 11\n",
      "Total reward: 9990\n"
     ]
    },
    {
     "data": {
      "text/plain": [
       "<Figure size 640x480 with 0 Axes>"
      ]
     },
     "metadata": {},
     "output_type": "display_data"
    },
    {
     "data": {
      "image/png": "[encoded data removed]",
      "text/plain": [
       "<Figure size 500x500 with 1 Axes>"
      ]
     },
     "metadata": {},
     "output_type": "display_data"
    },
    {
     "data": {
      "text/plain": [
       "(11, 9990)"
      ]
     },
     "execution_count": 58,
     "metadata": {},
     "output_type": "execute_result"
    }
   ],
   "source": [
    "eval_agent(agent, maze, 100)"
   ]
  }
 ],
 "metadata": {
  "kernelspec": {
   "display_name": "traineeship",
   "language": "python",
   "name": "python3"
  },
  "language_info": {
   "codemirror_mode": {
    "name": "ipython",
    "version": 3
   },
   "file_extension": ".py",
   "mimetype": "text/x-python",
   "name": "python",
   "nbconvert_exporter": "python",
   "pygments_lexer": "ipython3",
   "version": "3.12.8"
  }
 },
 "nbformat": 4,
 "nbformat_minor": 2
}
