{
 "cells": [
  {
   "cell_type": "code",
   "execution_count": 1,
   "metadata": {},
   "outputs": [],
   "source": [
    "import numpy as np\n",
    "import pandas as pd\n",
    "\n",
    "from sklearn.preprocessing import StandardScaler\n",
    "from sklearn.model_selection import train_test_split\n",
    "from sklearn.preprocessing import LabelEncoder\n",
    "\n",
    "from sklearn.ensemble import RandomForestClassifier\n",
    "from sklearn.linear_model import LogisticRegression\n",
    "from sklearn.tree import DecisionTreeClassifier\n",
    "from xgboost import XGBClassifier\n",
    "from sklearn.svm import SVC"
   ]
  },
  {
   "cell_type": "code",
   "execution_count": 2,
   "metadata": {},
   "outputs": [
    {
     "data": {
      "text/plain": [
       "higher\n",
       "yes    580\n",
       "no      69\n",
       "Name: count, dtype: int64"
      ]
     },
     "execution_count": 2,
     "metadata": {},
     "output_type": "execute_result"
    }
   ],
   "source": [
    "student_performance = pd.read_csv('./datasets/student-por.csv', sep=';')\n",
    "\n",
    "X = student_performance.drop(['higher'], axis=1)\n",
    "y = student_performance['higher']\n",
    "# .map({'Yes': 1, 'No': 0})\n",
    "y.value_counts()"
   ]
  },
  {
   "cell_type": "code",
   "execution_count": 3,
   "metadata": {},
   "outputs": [],
   "source": [
    "label_encoder = LabelEncoder()\n",
    "\n",
    "columns_to_encode = ['school', 'sex', 'address', 'famsize', 'Pstatus', 'schoolsup', 'famsup', 'paid', \n",
    "    'activities', 'nursery', 'internet', 'romantic', 'Mjob', 'Fjob', 'reason', 'guardian']\n",
    "for column in columns_to_encode:\n",
    "    X[column] = label_encoder.fit_transform(X[column])"
   ]
  },
  {
   "cell_type": "code",
   "execution_count": 4,
   "metadata": {},
   "outputs": [],
   "source": [
    "X = pd.get_dummies(X, columns=['Mjob', 'Fjob', 'reason', 'guardian'], dtype='int') "
   ]
  },
  {
   "cell_type": "code",
   "execution_count": 5,
   "metadata": {},
   "outputs": [],
   "source": [
    "def accuracy(y_true, y_pred):\n",
    "    return np.sum(y_true == y_pred) / len(y_true)\n",
    "\n",
    "def precision(y_true, y_pred):\n",
    "    tp = np.sum((y_pred == 1) & (y_true == 1))\n",
    "    fp = np.sum((y_pred == 1) & (y_true == 0))\n",
    "    return tp / (tp + fp) if (tp + fp) > 0 else 0\n",
    "\n",
    "def recall(y_true, y_pred):\n",
    "    tp = np.sum((y_pred == 1) & (y_true == 1))\n",
    "    fn = np.sum((y_pred == 0) & (y_true == 1))\n",
    "    return tp / (tp + fn) if (tp + fn) > 0 else 0\n",
    "\n",
    "def f1_score(y_true, y_pred):\n",
    "    p = precision(y_true, y_pred)\n",
    "    r = recall(y_true, y_pred)\n",
    "    return 2 * (p * r) / (p + r) if (p + r) > 0 else 0\n",
    "\n",
    "def specificity(y_true, y_pred):\n",
    "    tn = np.sum((y_pred == 0) & (y_true == 0))\n",
    "    fp = np.sum((y_pred == 1) & (y_true == 0))\n",
    "    return tn / (tn + fp) if (tn + fp) > 0 else 0\n",
    "\n",
    "def roc_auc(y_true, y_prob):\n",
    "    sorted_indices = np.argsort(y_prob)[::-1]\n",
    "    y_true = np.array(y_true)[sorted_indices]\n",
    "    \n",
    "    tpr = np.cumsum(y_true) / np.sum(y_true)\n",
    "    fpr = np.cumsum(1 - y_true) / np.sum(1 - y_true)\n",
    "    \n",
    "    auc = np.trapz(tpr, fpr)\n",
    "    return auc"
   ]
  },
  {
   "cell_type": "code",
   "execution_count": 6,
   "metadata": {},
   "outputs": [],
   "source": [
    "X_train, X_test, y_train, y_test = train_test_split(X, y, test_size=0.3, random_state=42)\n",
    "\n",
    "scaler = StandardScaler()\n",
    "X_train = scaler.fit_transform(X_train)\n",
    "X_test = scaler.transform(X_test)"
   ]
  },
  {
   "cell_type": "code",
   "execution_count": 7,
   "metadata": {},
   "outputs": [],
   "source": [
    "y_train = y_train.map({'yes': 1, 'no': 0})\n",
    "y_test = y_test.map({'yes': 1, 'no': 0})"
   ]
  },
  {
   "cell_type": "code",
   "execution_count": 8,
   "metadata": {},
   "outputs": [
    {
     "name": "stdout",
     "output_type": "stream",
     "text": [
      "Accuracy: 0.8974 \n",
      " Precision: 0.9062 \n",
      " Recall: 0.9886 \n",
      " F1: 0.9457 \n",
      " Specificity: 0.0526\n"
     ]
    }
   ],
   "source": [
    "random = RandomForestClassifier(n_estimators=100, random_state=42)\n",
    "random.fit(X_train, y_train)\n",
    "y_pred = random.predict(X_test)\n",
    "\n",
    "acc = accuracy(y_test, y_pred)\n",
    "prec = precision(y_test, y_pred)\n",
    "rec = recall(y_test, y_pred)\n",
    "f1 = f1_score(y_test, y_pred)\n",
    "spec = specificity(y_test, y_pred)\n",
    "# roc = roc_auc(y_test, y_pred)\n",
    "print(f\"Accuracy: {acc:.4f} \\n Precision: {prec:.4f} \\n Recall: {rec:.4f} \\n F1: {f1:.4f} \\n Specificity: {spec:.4f}\")"
   ]
  },
  {
   "cell_type": "code",
   "execution_count": 9,
   "metadata": {},
   "outputs": [],
   "source": [
    "from sklearn.model_selection import StratifiedKFold, KFold, LeaveOneOut\n",
    "\n",
    "def k_fold_cv(model, X, y, k=5):\n",
    "    kf = KFold(n_splits=k, shuffle=True, random_state=42)\n",
    "    metrics = []\n",
    "    for train_index, val_index in kf.split(X):\n",
    "        X_train, X_val = X.iloc[train_index], X.iloc[val_index]\n",
    "        y_train, y_val = y[train_index], y[val_index]\n",
    "        \n",
    "        model.fit(X_train, y_train)\n",
    "        y_pred = model.predict(X_val)\n",
    "        \n",
    "        acc = accuracy(y_val, y_pred)\n",
    "    \n",
    "    return acc\n",
    "\n",
    "def stratified_k_fold_cv(model, X, y, k=5):\n",
    "    skf = StratifiedKFold(n_splits=k, shuffle=True, random_state=42)\n",
    "    metrics = []\n",
    "    for train_index, val_index in skf.split(X, y):\n",
    "        X_train, X_val = X.iloc[train_index], X.iloc[val_index]\n",
    "        y_train, y_val = y[train_index], y[val_index]\n",
    "        \n",
    "        model.fit(X_train, y_train)\n",
    "        y_pred = model.predict(X_val)\n",
    "        \n",
    "        acc = accuracy(y_val, y_pred)\n",
    "    \n",
    "    return acc\n",
    "\n",
    "def loo_cv(model, X, y):\n",
    "    loo = LeaveOneOut()\n",
    "    metrics = []\n",
    "    for train_index, val_index in loo.split(X):\n",
    "        X_train, X_val = X.iloc[train_index], X.iloc[val_index]\n",
    "        y_train, y_val = y[train_index], y[val_index]\n",
    "        \n",
    "        model.fit(X_train, y_train)\n",
    "        y_pred = model.predict(X_val)\n",
    "        \n",
    "        acc = accuracy(y_val, y_pred)\n",
    "    \n",
    "    return acc"
   ]
  },
  {
   "cell_type": "code",
   "execution_count": 10,
   "metadata": {},
   "outputs": [
    {
     "name": "stdout",
     "output_type": "stream",
     "text": [
      "Logistic Regression\n",
      "\n",
      "K-Fold Cross Validation:\n",
      "Average Accuracy: 0.9380\n",
      "\n",
      "Stratified K-Fold Cross Validation:\n",
      "Average Accuracy: 0.9380\n",
      "\n",
      "Leave-One-Out Cross Validation:\n",
      "Average Accuracy: 0.9380\n"
     ]
    }
   ],
   "source": [
    "print(\"Logistic Regression\")\n",
    "model = LogisticRegression(max_iter=10000)\n",
    "\n",
    "print(\"\\nK-Fold Cross Validation:\")\n",
    "a = k_fold_cv(model, X, y, k=5)\n",
    "print(f\"Average Accuracy: {a:.4f}\")\n",
    "\n",
    "print(\"\\nStratified K-Fold Cross Validation:\")\n",
    "stratified_metrics = stratified_k_fold_cv(model, X, y, k=5)\n",
    "print(f\"Average Accuracy: {a:.4f}\")\n",
    "\n",
    "print(\"\\nLeave-One-Out Cross Validation:\")\n",
    "loo_metrics = loo_cv(model, X, y)\n",
    "print(f\"Average Accuracy: {a:.4f}\")"
   ]
  },
  {
   "cell_type": "code",
   "execution_count": 11,
   "metadata": {},
   "outputs": [
    {
     "name": "stdout",
     "output_type": "stream",
     "text": [
      "Decision Tree\n",
      "\n",
      "K-Fold Cross Validation:\n",
      "Average Accuracy: 0.8527\n",
      "\n",
      "Stratified K-Fold Cross Validation:\n",
      "Average Accuracy: 0.8527\n",
      "\n",
      "Leave-One-Out Cross Validation:\n",
      "Average Accuracy: 0.8527\n"
     ]
    }
   ],
   "source": [
    "print(\"Decision Tree\")\n",
    "model = DecisionTreeClassifier()\n",
    "\n",
    "print(\"\\nK-Fold Cross Validation:\")\n",
    "a = k_fold_cv(model, X, y, k=5)\n",
    "print(f\"Average Accuracy: {a:.4f}\")\n",
    "\n",
    "print(\"\\nStratified K-Fold Cross Validation:\")\n",
    "stratified_metrics = stratified_k_fold_cv(model, X, y, k=5)\n",
    "print(f\"Average Accuracy: {a:.4f}\")\n",
    "\n",
    "print(\"\\nLeave-One-Out Cross Validation:\")\n",
    "loo_metrics = loo_cv(model, X, y)\n",
    "print(f\"Average Accuracy: {a:.4f}\")"
   ]
  },
  {
   "cell_type": "code",
   "execution_count": 12,
   "metadata": {},
   "outputs": [
    {
     "name": "stdout",
     "output_type": "stream",
     "text": [
      "SVM\n",
      "\n",
      "K-Fold Cross Validation:\n",
      "Average Accuracy: 0.9302\n",
      "\n",
      "Stratified K-Fold Cross Validation:\n",
      "Average Accuracy: 0.9302\n",
      "\n",
      "Leave-One-Out Cross Validation:\n",
      "Average Accuracy: 0.9302\n"
     ]
    }
   ],
   "source": [
    "print(\"SVM\")\n",
    "model = SVC(probability=True)\n",
    "\n",
    "print(\"\\nK-Fold Cross Validation:\")\n",
    "a = k_fold_cv(model, X, y, k=5)\n",
    "print(f\"Average Accuracy: {a:.4f}\")\n",
    "\n",
    "print(\"\\nStratified K-Fold Cross Validation:\")\n",
    "stratified_metrics = stratified_k_fold_cv(model, X, y, k=5)\n",
    "print(f\"Average Accuracy: {a:.4f}\")\n",
    "\n",
    "print(\"\\nLeave-One-Out Cross Validation:\")\n",
    "loo_metrics = loo_cv(model, X, y)\n",
    "print(f\"Average Accuracy: {a:.4f}\")"
   ]
  },
  {
   "cell_type": "code",
   "execution_count": 13,
   "metadata": {},
   "outputs": [
    {
     "name": "stdout",
     "output_type": "stream",
     "text": [
      "Random Forest\n",
      "\n",
      "K-Fold Cross Validation:\n",
      "Average Accuracy: 0.9380\n",
      "\n",
      "Stratified K-Fold Cross Validation:\n",
      "Average Accuracy: 0.9380\n",
      "\n",
      "Leave-One-Out Cross Validation:\n",
      "Average Accuracy: 0.9380\n"
     ]
    }
   ],
   "source": [
    "print(\"Random Forest\")\n",
    "model = RandomForestClassifier()\n",
    "\n",
    "print(\"\\nK-Fold Cross Validation:\")\n",
    "a = k_fold_cv(model, X, y, k=5)\n",
    "print(f\"Average Accuracy: {a:.4f}\")\n",
    "\n",
    "print(\"\\nStratified K-Fold Cross Validation:\")\n",
    "stratified_metrics = stratified_k_fold_cv(model, X, y, k=5)\n",
    "print(f\"Average Accuracy: {a:.4f}\")\n",
    "\n",
    "print(\"\\nLeave-One-Out Cross Validation:\")\n",
    "loo_metrics = loo_cv(model, X, y)\n",
    "print(f\"Average Accuracy: {a:.4f}\")"
   ]
  },
  {
   "cell_type": "code",
   "execution_count": 14,
   "metadata": {},
   "outputs": [
    {
     "name": "stdout",
     "output_type": "stream",
     "text": [
      "XGBoost\n",
      "\n",
      "K-Fold Cross Validation:\n",
      "Average Accuracy: 0.9380\n",
      "\n",
      "Stratified K-Fold Cross Validation:\n",
      "Average Accuracy: 0.9380\n",
      "\n",
      "Leave-One-Out Cross Validation:\n",
      "Average Accuracy: 0.9380\n"
     ]
    }
   ],
   "source": [
    "print(\"XGBoost\")\n",
    "model = XGBClassifier(eval_metric=\"logloss\")\n",
    "\n",
    "y = y.map({'yes': 1, 'no': 0})\n",
    "\n",
    "print(\"\\nK-Fold Cross Validation:\")\n",
    "a = k_fold_cv(model, X, y, k=5)\n",
    "print(f\"Average Accuracy: {a:.4f}\")\n",
    "\n",
    "print(\"\\nStratified K-Fold Cross Validation:\")\n",
    "stratified_metrics = stratified_k_fold_cv(model, X, y, k=5)\n",
    "print(f\"Average Accuracy: {a:.4f}\")\n",
    "\n",
    "print(\"\\nLeave-One-Out Cross Validation:\")\n",
    "loo_metrics = loo_cv(model, X, y)\n",
    "print(f\"Average Accuracy: {a:.4f}\")"
   ]
  }
 ],
 "metadata": {
  "kernelspec": {
   "display_name": "traineeship",
   "language": "python",
   "name": "python3"
  },
  "language_info": {
   "codemirror_mode": {
    "name": "ipython",
    "version": 3
   },
   "file_extension": ".py",
   "mimetype": "text/x-python",
   "name": "python",
   "nbconvert_exporter": "python",
   "pygments_lexer": "ipython3",
   "version": "3.12.8"
  }
 },
 "nbformat": 4,
 "nbformat_minor": 2
}
