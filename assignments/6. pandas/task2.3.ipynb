{
 "cells": [
  {
   "cell_type": "markdown",
   "metadata": {},
   "source": [
    "chicago_food_inspection.csv\n",
    "- strip whitespaces\n",
    "- change the case to lowercase  when the Risk is Risk 1\n",
    "    - Do it with string function and then with apply function"
   ]
  }
 ],
 "metadata": {
  "kernelspec": {
   "display_name": "traineeship",
   "language": "python",
   "name": "python3"
  },
  "language_info": {
   "codemirror_mode": {
    "name": "ipython",
    "version": 3
   },
   "file_extension": ".py",
   "mimetype": "text/x-python",
   "name": "python",
   "nbconvert_exporter": "python",
   "pygments_lexer": "ipython3",
   "version": "3.12.8"
  }
 },
 "nbformat": 4,
 "nbformat_minor": 2
}
