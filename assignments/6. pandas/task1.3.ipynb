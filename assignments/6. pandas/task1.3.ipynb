{
 "cells": [
  {
   "cell_type": "markdown",
   "metadata": {},
   "source": [
    "restaurant > week_1_sales.csv\n",
    "restaurant > week_2_sales.csv"
   ]
  },
  {
   "cell_type": "code",
   "execution_count": 92,
   "metadata": {},
   "outputs": [],
   "source": [
    "import pandas as pd"
   ]
  },
  {
   "cell_type": "code",
   "execution_count": 93,
   "metadata": {},
   "outputs": [],
   "source": [
    "w1 = pd.read_csv('./datasets/task_1/restaurant/week_1_sales.csv')\n",
    "w2 = pd.read_csv('./datasets/task_1/restaurant/week_2_sales.csv')\n",
    "customer = pd.read_csv('./datasets/task_1/restaurant/customers.csv')"
   ]
  },
  {
   "cell_type": "markdown",
   "metadata": {},
   "source": [
    "1. concatenate the two weeks of sales data into one DataFrame\n",
    " - assign the week1 DataFrame a key of \"Week 1\" and the week2 DataFrame a key of \"Week 2\""
   ]
  },
  {
   "cell_type": "code",
   "execution_count": 94,
   "metadata": {},
   "outputs": [
    {
     "data": {
      "text/html": [
       "<div>\n",
       "<style scoped>\n",
       "    .dataframe tbody tr th:only-of-type {\n",
       "        vertical-align: middle;\n",
       "    }\n",
       "\n",
       "    .dataframe tbody tr th {\n",
       "        vertical-align: top;\n",
       "    }\n",
       "\n",
       "    .dataframe thead th {\n",
       "        text-align: right;\n",
       "    }\n",
       "</style>\n",
       "<table border=\"1\" class=\"dataframe\">\n",
       "  <thead>\n",
       "    <tr style=\"text-align: right;\">\n",
       "      <th></th>\n",
       "      <th></th>\n",
       "      <th>Customer ID</th>\n",
       "      <th>Food ID</th>\n",
       "    </tr>\n",
       "  </thead>\n",
       "  <tbody>\n",
       "    <tr>\n",
       "      <th rowspan=\"5\" valign=\"top\">Week 1</th>\n",
       "      <th>0</th>\n",
       "      <td>537</td>\n",
       "      <td>9</td>\n",
       "    </tr>\n",
       "    <tr>\n",
       "      <th>1</th>\n",
       "      <td>97</td>\n",
       "      <td>4</td>\n",
       "    </tr>\n",
       "    <tr>\n",
       "      <th>2</th>\n",
       "      <td>658</td>\n",
       "      <td>1</td>\n",
       "    </tr>\n",
       "    <tr>\n",
       "      <th>3</th>\n",
       "      <td>202</td>\n",
       "      <td>2</td>\n",
       "    </tr>\n",
       "    <tr>\n",
       "      <th>4</th>\n",
       "      <td>155</td>\n",
       "      <td>9</td>\n",
       "    </tr>\n",
       "    <tr>\n",
       "      <th>...</th>\n",
       "      <th>...</th>\n",
       "      <td>...</td>\n",
       "      <td>...</td>\n",
       "    </tr>\n",
       "    <tr>\n",
       "      <th rowspan=\"5\" valign=\"top\">Week 2</th>\n",
       "      <th>245</th>\n",
       "      <td>783</td>\n",
       "      <td>10</td>\n",
       "    </tr>\n",
       "    <tr>\n",
       "      <th>246</th>\n",
       "      <td>556</td>\n",
       "      <td>10</td>\n",
       "    </tr>\n",
       "    <tr>\n",
       "      <th>247</th>\n",
       "      <td>547</td>\n",
       "      <td>9</td>\n",
       "    </tr>\n",
       "    <tr>\n",
       "      <th>248</th>\n",
       "      <td>252</td>\n",
       "      <td>9</td>\n",
       "    </tr>\n",
       "    <tr>\n",
       "      <th>249</th>\n",
       "      <td>249</td>\n",
       "      <td>6</td>\n",
       "    </tr>\n",
       "  </tbody>\n",
       "</table>\n",
       "<p>500 rows × 2 columns</p>\n",
       "</div>"
      ],
      "text/plain": [
       "            Customer ID  Food ID\n",
       "Week 1 0            537        9\n",
       "       1             97        4\n",
       "       2            658        1\n",
       "       3            202        2\n",
       "       4            155        9\n",
       "...                 ...      ...\n",
       "Week 2 245          783       10\n",
       "       246          556       10\n",
       "       247          547        9\n",
       "       248          252        9\n",
       "       249          249        6\n",
       "\n",
       "[500 rows x 2 columns]"
      ]
     },
     "execution_count": 94,
     "metadata": {},
     "output_type": "execute_result"
    }
   ],
   "source": [
    "combined = pd.concat([w1, w2], keys = [\"Week 1\", \"Week 2\"])\n",
    "combined"
   ]
  },
  {
   "cell_type": "markdown",
   "metadata": {},
   "source": [
    "2. find the customers who ate at the restaurant both weeks"
   ]
  },
  {
   "cell_type": "code",
   "execution_count": 95,
   "metadata": {},
   "outputs": [
    {
     "name": "stdout",
     "output_type": "stream",
     "text": [
      "[537, 155, 503, 550, 101, 75, 77, 628, 798, 462, 304, 189, 799, 30, 249, 677, 741, 540, 819, 937, 233, 21, 459, 816, 761, 80, 479, 922, 909, 919, 574, 45, 529, 673, 310, 867, 968, 482, 163, 321, 783, 578, 520, 945, 343, 621]\n",
      "46\n"
     ]
    }
   ],
   "source": [
    "both = pd.merge(w1, w2, how = \"inner\", on = \"Customer ID\").drop_duplicates(subset = [\"Customer ID\"])\n",
    "print(both['Customer ID'].to_list())\n",
    "print(both['Customer ID'].count())"
   ]
  },
  {
   "cell_type": "markdown",
   "metadata": {},
   "source": [
    "3. find the customers who ate at the restaurant both weeks and ordered the same item each week"
   ]
  },
  {
   "cell_type": "code",
   "execution_count": 96,
   "metadata": {},
   "outputs": [
    {
     "data": {
      "text/html": [
       "<div>\n",
       "<style scoped>\n",
       "    .dataframe tbody tr th:only-of-type {\n",
       "        vertical-align: middle;\n",
       "    }\n",
       "\n",
       "    .dataframe tbody tr th {\n",
       "        vertical-align: top;\n",
       "    }\n",
       "\n",
       "    .dataframe thead th {\n",
       "        text-align: right;\n",
       "    }\n",
       "</style>\n",
       "<table border=\"1\" class=\"dataframe\">\n",
       "  <thead>\n",
       "    <tr style=\"text-align: right;\">\n",
       "      <th></th>\n",
       "      <th>Customer ID</th>\n",
       "      <th>Food ID</th>\n",
       "    </tr>\n",
       "  </thead>\n",
       "  <tbody>\n",
       "    <tr>\n",
       "      <th>0</th>\n",
       "      <td>304</td>\n",
       "      <td>3</td>\n",
       "    </tr>\n",
       "    <tr>\n",
       "      <th>1</th>\n",
       "      <td>540</td>\n",
       "      <td>3</td>\n",
       "    </tr>\n",
       "    <tr>\n",
       "      <th>2</th>\n",
       "      <td>937</td>\n",
       "      <td>10</td>\n",
       "    </tr>\n",
       "    <tr>\n",
       "      <th>3</th>\n",
       "      <td>233</td>\n",
       "      <td>3</td>\n",
       "    </tr>\n",
       "    <tr>\n",
       "      <th>4</th>\n",
       "      <td>21</td>\n",
       "      <td>4</td>\n",
       "    </tr>\n",
       "    <tr>\n",
       "      <th>5</th>\n",
       "      <td>922</td>\n",
       "      <td>1</td>\n",
       "    </tr>\n",
       "    <tr>\n",
       "      <th>7</th>\n",
       "      <td>578</td>\n",
       "      <td>5</td>\n",
       "    </tr>\n",
       "  </tbody>\n",
       "</table>\n",
       "</div>"
      ],
      "text/plain": [
       "   Customer ID  Food ID\n",
       "0          304        3\n",
       "1          540        3\n",
       "2          937       10\n",
       "3          233        3\n",
       "4           21        4\n",
       "5          922        1\n",
       "7          578        5"
      ]
     },
     "execution_count": 96,
     "metadata": {},
     "output_type": "execute_result"
    }
   ],
   "source": [
    "same_item = pd.merge(w1, w2, how = \"inner\", on = [\"Customer ID\", \"Food ID\"]).drop_duplicates(subset = [\"Customer ID\"])\n",
    "same_item"
   ]
  },
  {
   "cell_type": "markdown",
   "metadata": {},
   "source": [
    "4. Identify which customers came in only on Week 1 and only on Week 2."
   ]
  },
  {
   "cell_type": "code",
   "execution_count": 97,
   "metadata": {},
   "outputs": [
    {
     "name": "stdout",
     "output_type": "stream",
     "text": [
      "[97, 658, 202, 213, 600, 71, 174, 961, 966, 641, 288, 149, 954, 147, 549, 78, 514, 833, 329, 586, 341, 519, 680, 419, 20, 822, 226, 203, 296, 821, 697, 264, 477, 524, 121, 290, 100, 260, 896, 953, 682, 809, 450, 772, 159, 876, 864, 68, 812, 921, 941, 108, 315, 358, 491, 110, 737, 836, 749, 758, 527, 433, 250, 504, 910, 351, 282, 117, 63, 144, 393, 380, 515, 357, 3, 875, 352, 93, 323, 64, 912, 327, 399, 418, 669, 259, 410, 772, 363, 504, 728, 71, 244, 319, 51, 26, 472, 608, 160, 645, 374, 100, 762, 332, 338, 140, 567, 602, 10, 74, 1000, 881, 107, 876, 703, 225, 962, 114, 250, 346, 191, 331, 738, 427, 331, 902, 385, 555, 67, 138, 775, 833, 648, 475, 483, 203, 313, 263, 871, 747, 38, 190, 348, 226, 167, 671, 190, 501, 406, 47, 991, 539, 53, 51, 348, 493, 650, 848, 307, 606, 100, 985, 123, 809, 764, 92, 386, 331, 62, 91, 368, 147, 745, 184, 828, 491, 62, 506, 271, 584, 148, 595, 274, 646, 644, 725, 934, 151, 380, 911, 413, 926, 134, 396, 535]\n",
      "195\n"
     ]
    }
   ],
   "source": [
    "w1only = w1[~(w1[\"Customer ID\"].isin(w2[\"Customer ID\"]))]\n",
    "print(w1only[\"Customer ID\"].to_list())\n",
    "print(w1only['Customer ID'].count())"
   ]
  },
  {
   "cell_type": "code",
   "execution_count": 98,
   "metadata": {},
   "outputs": [
    {
     "name": "stdout",
     "output_type": "stream",
     "text": [
      "[688, 813, 495, 267, 443, 729, 847, 156, 620, 272, 511, 8, 534, 732, 372, 713, 496, 381, 13, 325, 674, 564, 755, 509, 639, 170, 668, 629, 767, 253, 473, 780, 198, 706, 281, 726, 277, 969, 543, 275, 787, 424, 612, 379, 647, 942, 528, 853, 111, 736, 445, 580, 670, 359, 132, 829, 928, 592, 694, 98, 791, 398, 709, 56, 397, 239, 893, 581, 693, 827, 815, 752, 596, 489, 792, 861, 303, 548, 517, 784, 204, 136, 994, 186, 253, 859, 496, 423, 211, 884, 81, 437, 526, 951, 508, 236, 127, 198, 877, 666, 415, 24, 720, 240, 938, 46, 458, 630, 287, 927, 522, 805, 365, 257, 957, 692, 547, 913, 35, 222, 122, 73, 653, 171, 193, 668, 996, 222, 70, 743, 589, 831, 905, 977, 746, 866, 746, 495, 486, 55, 312, 604, 122, 936, 55, 858, 175, 530, 850, 681, 750, 287, 39, 458, 827, 361, 27, 234, 570, 751, 463, 253, 633, 622, 959, 810, 488, 495, 188, 861, 305, 869, 131, 208, 145, 495, 794, 734, 735, 940, 571, 888, 664, 143, 505, 54, 959, 367, 883, 251, 855, 559, 734, 276, 556, 547, 252]\n",
      "197\n"
     ]
    }
   ],
   "source": [
    "w2only = w2[~(w2[\"Customer ID\"].isin(w1[\"Customer ID\"]))]\n",
    "print(w2only[\"Customer ID\"].to_list())\n",
    "print(w2only['Customer ID'].count())"
   ]
  },
  {
   "cell_type": "code",
   "execution_count": 99,
   "metadata": {},
   "outputs": [],
   "source": [
    "w = pd.merge(w1, w2, how = \"outer\", on = [\"Customer ID\"], indicator = True)"
   ]
  },
  {
   "cell_type": "code",
   "execution_count": 100,
   "metadata": {},
   "outputs": [
    {
     "name": "stdout",
     "output_type": "stream",
     "text": [
      "[3, 10, 20, 26, 38, 47, 51, 51, 53, 62, 62, 63, 64, 67, 68, 71, 71, 74, 78, 91, 92, 93, 97, 100, 100, 100, 107, 108, 110, 114, 117, 121, 123, 134, 138, 140, 144, 147, 147, 148, 149, 151, 159, 160, 167, 174, 184, 190, 190, 191, 202, 203, 203, 213, 225, 226, 226, 244, 250, 250, 259, 260, 263, 264, 271, 274, 282, 288, 290, 296, 307, 313, 315, 319, 323, 327, 329, 331, 331, 331, 332, 338, 341, 346, 348, 348, 351, 352, 357, 358, 363, 368, 374, 380, 380, 385, 386, 393, 396, 399, 406, 410, 413, 418, 419, 427, 433, 450, 472, 475, 477, 483, 491, 491, 493, 501, 504, 504, 506, 514, 515, 519, 524, 527, 535, 539, 549, 555, 567, 584, 586, 595, 600, 602, 606, 608, 641, 644, 645, 646, 648, 650, 658, 669, 671, 680, 682, 697, 703, 725, 728, 737, 738, 745, 747, 749, 758, 762, 764, 772, 772, 775, 809, 809, 812, 821, 822, 828, 833, 833, 836, 848, 864, 871, 875, 876, 876, 881, 896, 902, 910, 911, 912, 921, 926, 934, 941, 953, 954, 961, 962, 966, 985, 991, 1000]\n",
      "195\n"
     ]
    }
   ],
   "source": [
    "w1only = w[w[\"_merge\"] == \"left_only\"]\n",
    "print(w1only[\"Customer ID\"].to_list())\n",
    "print(w1only['Customer ID'].count())"
   ]
  },
  {
   "cell_type": "code",
   "execution_count": 101,
   "metadata": {},
   "outputs": [
    {
     "name": "stdout",
     "output_type": "stream",
     "text": [
      "[8, 13, 24, 27, 35, 39, 46, 54, 55, 55, 56, 70, 73, 81, 98, 111, 122, 122, 127, 131, 132, 136, 143, 145, 156, 170, 171, 175, 186, 188, 193, 198, 198, 204, 208, 211, 222, 222, 234, 236, 239, 240, 251, 252, 253, 253, 253, 257, 267, 272, 275, 276, 277, 281, 287, 287, 303, 305, 312, 325, 359, 361, 365, 367, 372, 379, 381, 397, 398, 415, 423, 424, 437, 443, 445, 458, 458, 463, 473, 486, 488, 489, 495, 495, 495, 495, 496, 496, 505, 508, 509, 511, 517, 522, 526, 528, 530, 534, 543, 547, 547, 548, 556, 559, 564, 570, 571, 580, 581, 589, 592, 596, 604, 612, 620, 622, 629, 630, 633, 639, 647, 653, 664, 666, 668, 668, 670, 674, 681, 688, 692, 693, 694, 706, 709, 713, 720, 726, 729, 732, 734, 734, 735, 736, 743, 746, 746, 750, 751, 752, 755, 767, 780, 784, 787, 791, 792, 794, 805, 810, 813, 815, 827, 827, 829, 831, 847, 850, 853, 855, 858, 859, 861, 861, 866, 869, 877, 883, 884, 888, 893, 905, 913, 927, 928, 936, 938, 940, 942, 951, 957, 959, 959, 969, 977, 994, 996]\n",
      "197\n"
     ]
    }
   ],
   "source": [
    "w2only = w[w[\"_merge\"] == \"right_only\"]\n",
    "print(w2only[\"Customer ID\"].to_list())\n",
    "print(w2only['Customer ID'].count())"
   ]
  },
  {
   "cell_type": "markdown",
   "metadata": {},
   "source": [
    "5. Each row in the week1 DataFrame identifies a customer who purchased a food item. For each row, pull in the customer’s information from the customer's DataFrame."
   ]
  },
  {
   "cell_type": "code",
   "execution_count": null,
   "metadata": {},
   "outputs": [
    {
     "data": {
      "text/html": [
       "<div>\n",
       "<style scoped>\n",
       "    .dataframe tbody tr th:only-of-type {\n",
       "        vertical-align: middle;\n",
       "    }\n",
       "\n",
       "    .dataframe tbody tr th {\n",
       "        vertical-align: top;\n",
       "    }\n",
       "\n",
       "    .dataframe thead th {\n",
       "        text-align: right;\n",
       "    }\n",
       "</style>\n",
       "<table border=\"1\" class=\"dataframe\">\n",
       "  <thead>\n",
       "    <tr style=\"text-align: right;\">\n",
       "      <th></th>\n",
       "      <th>Customer ID</th>\n",
       "      <th>Food ID</th>\n",
       "      <th>ID</th>\n",
       "      <th>First Name</th>\n",
       "      <th>Last Name</th>\n",
       "      <th>Gender</th>\n",
       "      <th>Company</th>\n",
       "      <th>Occupation</th>\n",
       "    </tr>\n",
       "  </thead>\n",
       "  <tbody>\n",
       "    <tr>\n",
       "      <th>0</th>\n",
       "      <td>537</td>\n",
       "      <td>9</td>\n",
       "      <td>537</td>\n",
       "      <td>Cheryl</td>\n",
       "      <td>Carroll</td>\n",
       "      <td>Female</td>\n",
       "      <td>Zoombeat</td>\n",
       "      <td>Registered Nurse</td>\n",
       "    </tr>\n",
       "    <tr>\n",
       "      <th>1</th>\n",
       "      <td>97</td>\n",
       "      <td>4</td>\n",
       "      <td>97</td>\n",
       "      <td>Amanda</td>\n",
       "      <td>Watkins</td>\n",
       "      <td>Female</td>\n",
       "      <td>Ozu</td>\n",
       "      <td>Account Coordinator</td>\n",
       "    </tr>\n",
       "    <tr>\n",
       "      <th>2</th>\n",
       "      <td>658</td>\n",
       "      <td>1</td>\n",
       "      <td>658</td>\n",
       "      <td>Patrick</td>\n",
       "      <td>Webb</td>\n",
       "      <td>Male</td>\n",
       "      <td>Browsebug</td>\n",
       "      <td>Community Outreach Specialist</td>\n",
       "    </tr>\n",
       "    <tr>\n",
       "      <th>3</th>\n",
       "      <td>202</td>\n",
       "      <td>2</td>\n",
       "      <td>202</td>\n",
       "      <td>Louis</td>\n",
       "      <td>Campbell</td>\n",
       "      <td>Male</td>\n",
       "      <td>Rhynoodle</td>\n",
       "      <td>Account Representative III</td>\n",
       "    </tr>\n",
       "    <tr>\n",
       "      <th>4</th>\n",
       "      <td>155</td>\n",
       "      <td>9</td>\n",
       "      <td>155</td>\n",
       "      <td>Carolyn</td>\n",
       "      <td>Diaz</td>\n",
       "      <td>Female</td>\n",
       "      <td>Gigazoom</td>\n",
       "      <td>Database Administrator III</td>\n",
       "    </tr>\n",
       "    <tr>\n",
       "      <th>...</th>\n",
       "      <td>...</td>\n",
       "      <td>...</td>\n",
       "      <td>...</td>\n",
       "      <td>...</td>\n",
       "      <td>...</td>\n",
       "      <td>...</td>\n",
       "      <td>...</td>\n",
       "      <td>...</td>\n",
       "    </tr>\n",
       "    <tr>\n",
       "      <th>245</th>\n",
       "      <td>413</td>\n",
       "      <td>9</td>\n",
       "      <td>413</td>\n",
       "      <td>Diane</td>\n",
       "      <td>Bailey</td>\n",
       "      <td>Female</td>\n",
       "      <td>Wikibox</td>\n",
       "      <td>Technical Writer</td>\n",
       "    </tr>\n",
       "    <tr>\n",
       "      <th>246</th>\n",
       "      <td>926</td>\n",
       "      <td>6</td>\n",
       "      <td>926</td>\n",
       "      <td>Anne</td>\n",
       "      <td>Wagner</td>\n",
       "      <td>Female</td>\n",
       "      <td>Skyba</td>\n",
       "      <td>Legal Assistant</td>\n",
       "    </tr>\n",
       "    <tr>\n",
       "      <th>247</th>\n",
       "      <td>134</td>\n",
       "      <td>3</td>\n",
       "      <td>134</td>\n",
       "      <td>Diana</td>\n",
       "      <td>Hall</td>\n",
       "      <td>Female</td>\n",
       "      <td>Quinu</td>\n",
       "      <td>Financial Advisor</td>\n",
       "    </tr>\n",
       "    <tr>\n",
       "      <th>248</th>\n",
       "      <td>396</td>\n",
       "      <td>6</td>\n",
       "      <td>396</td>\n",
       "      <td>Juan</td>\n",
       "      <td>Romero</td>\n",
       "      <td>Male</td>\n",
       "      <td>Zoonder</td>\n",
       "      <td>Analyst Programmer</td>\n",
       "    </tr>\n",
       "    <tr>\n",
       "      <th>249</th>\n",
       "      <td>535</td>\n",
       "      <td>10</td>\n",
       "      <td>535</td>\n",
       "      <td>Nancy</td>\n",
       "      <td>Cox</td>\n",
       "      <td>Female</td>\n",
       "      <td>Trudeo</td>\n",
       "      <td>Research Associate</td>\n",
       "    </tr>\n",
       "  </tbody>\n",
       "</table>\n",
       "<p>250 rows × 8 columns</p>\n",
       "</div>"
      ],
      "text/plain": [
       "     Customer ID  Food ID   ID First Name Last Name  Gender    Company  \\\n",
       "0            537        9  537     Cheryl   Carroll  Female   Zoombeat   \n",
       "1             97        4   97     Amanda   Watkins  Female        Ozu   \n",
       "2            658        1  658    Patrick      Webb    Male  Browsebug   \n",
       "3            202        2  202      Louis  Campbell    Male  Rhynoodle   \n",
       "4            155        9  155    Carolyn      Diaz  Female   Gigazoom   \n",
       "..           ...      ...  ...        ...       ...     ...        ...   \n",
       "245          413        9  413      Diane    Bailey  Female    Wikibox   \n",
       "246          926        6  926       Anne    Wagner  Female      Skyba   \n",
       "247          134        3  134      Diana      Hall  Female      Quinu   \n",
       "248          396        6  396       Juan    Romero    Male    Zoonder   \n",
       "249          535       10  535      Nancy       Cox  Female     Trudeo   \n",
       "\n",
       "                        Occupation  \n",
       "0                 Registered Nurse  \n",
       "1              Account Coordinator  \n",
       "2    Community Outreach Specialist  \n",
       "3       Account Representative III  \n",
       "4       Database Administrator III  \n",
       "..                             ...  \n",
       "245               Technical Writer  \n",
       "246                Legal Assistant  \n",
       "247              Financial Advisor  \n",
       "248             Analyst Programmer  \n",
       "249             Research Associate  \n",
       "\n",
       "[250 rows x 8 columns]"
      ]
     },
     "execution_count": 102,
     "metadata": {},
     "output_type": "execute_result"
    },
    {
     "ename": "",
     "evalue": "",
     "output_type": "error",
     "traceback": [
      "\u001b[1;31mThe Kernel crashed while executing code in the current cell or a previous cell. \n",
      "\u001b[1;31mPlease review the code in the cell(s) to identify a possible cause of the failure. \n",
      "\u001b[1;31mClick <a href='https://aka.ms/vscodeJupyterKernelCrash'>here</a> for more info. \n",
      "\u001b[1;31mView Jupyter <a href='command:jupyter.viewOutput'>log</a> for further details."
     ]
    }
   ],
   "source": [
    "new_w1 = pd.merge(w1, customer, how = \"inner\", left_on = \"Customer ID\", right_on = \"ID\")\n",
    "new_w1"
   ]
  }
 ],
 "metadata": {
  "kernelspec": {
   "display_name": "traineeship",
   "language": "python",
   "name": "python3"
  },
  "language_info": {
   "codemirror_mode": {
    "name": "ipython",
    "version": 3
   },
   "file_extension": ".py",
   "mimetype": "text/x-python",
   "name": "python",
   "nbconvert_exporter": "python",
   "pygments_lexer": "ipython3",
   "version": "3.12.8"
  }
 },
 "nbformat": 4,
 "nbformat_minor": 2
}
