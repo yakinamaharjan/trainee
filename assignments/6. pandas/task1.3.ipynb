{
 "cells": [
  {
   "cell_type": "markdown",
   "metadata": {},
   "source": [
    "restaurant > week_1_sales.csv\n",
    "restaurant > week_2_sales.csv\n",
    "\n",
    "1. concatenate the two weeks of sales data into one DataFrame\n",
    " - assign the week1 DataFrame a key of \"Week 1\" and the week2 DataFrame a key of \"Week 2\""
   ]
  },
  {
   "cell_type": "markdown",
   "metadata": {},
   "source": [
    "2. find the customers who ate at the restaurant both weeks"
   ]
  },
  {
   "cell_type": "markdown",
   "metadata": {},
   "source": [
    "3. find the customers who ate at the restaurant both weeks and ordered the same item each week\n",
    "\n",
    "HINT You can join data sets on multiple columns by passing the on parameter a list of columns."
   ]
  },
  {
   "cell_type": "markdown",
   "metadata": {},
   "source": [
    "4. Identify which customers came in only on Week 1 and only on Week 2."
   ]
  },
  {
   "cell_type": "markdown",
   "metadata": {},
   "source": [
    "5. Each row in the week1 DataFrame identifies a customer who purchased a food item. For each row, pull in the customer’s information from the customer's DataFrame."
   ]
  }
 ],
 "metadata": {
  "language_info": {
   "name": "python"
  }
 },
 "nbformat": 4,
 "nbformat_minor": 2
}
