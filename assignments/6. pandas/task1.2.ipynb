{
 "cells": [
  {
   "cell_type": "markdown",
   "metadata": {},
   "source": [
    "string_customers.csv\n",
    "- from address, separate four values of street, city, state, and zip code\n",
    "- assign them to new Street, City, State, and Zip columns\n",
    "- remove the Address column"
   ]
  }
 ],
 "metadata": {
  "language_info": {
   "name": "python"
  }
 },
 "nbformat": 4,
 "nbformat_minor": 2
}
