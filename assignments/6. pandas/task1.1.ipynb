{
 "cells": [
  {
   "cell_type": "markdown",
   "metadata": {},
   "source": [
    "cereals.csv"
   ]
  },
  {
   "cell_type": "code",
   "execution_count": 56,
   "metadata": {},
   "outputs": [],
   "source": [
    "import pandas as pd"
   ]
  },
  {
   "cell_type": "code",
   "execution_count": 57,
   "metadata": {},
   "outputs": [],
   "source": [
    "\n",
    "cereals = pd.read_csv('./datasets/task_1/cereals.csv')"
   ]
  },
  {
   "cell_type": "markdown",
   "metadata": {},
   "source": [
    "1. Group the cereals, using the Manufacturer column’s values."
   ]
  },
  {
   "cell_type": "code",
   "execution_count": 58,
   "metadata": {},
   "outputs": [
    {
     "name": "stdout",
     "output_type": "stream",
     "text": [
      "                                                Name  Type  Calories  Fiber  \\\n",
      "Manufacturer                                                                  \n",
      "American Home Food Products                    Maypo   Hot       100    0.0   \n",
      "General Mills                Apple Cinnamon Cheerios  Cold       110    1.5   \n",
      "Kellogg's                                   All-Bran  Cold        70    9.0   \n",
      "Nabisco                                    100% Bran  Cold        70   10.0   \n",
      "Post                                     Bran Flakes  Cold        90    5.0   \n",
      "Quaker Oats                        100% Natural Bran  Cold       120    2.0   \n",
      "Ralston Purina                        Almond Delight  Cold       110    1.0   \n",
      "\n",
      "                             Sugars  \n",
      "Manufacturer                         \n",
      "American Home Food Products       3  \n",
      "General Mills                    10  \n",
      "Kellogg's                         5  \n",
      "Nabisco                           6  \n",
      "Post                              5  \n",
      "Quaker Oats                       8  \n",
      "Ralston Purina                    8  \n"
     ]
    }
   ],
   "source": [
    "m = cereals.groupby(\"Manufacturer\")\n",
    "print(m.first())"
   ]
  },
  {
   "cell_type": "markdown",
   "metadata": {},
   "source": [
    "2. Determine the total number of groups, and the number of cereals per group."
   ]
  },
  {
   "cell_type": "code",
   "execution_count": 59,
   "metadata": {},
   "outputs": [
    {
     "data": {
      "text/plain": [
       "7"
      ]
     },
     "execution_count": 59,
     "metadata": {},
     "output_type": "execute_result"
    }
   ],
   "source": [
    "cereals[\"Manufacturer\"].nunique()"
   ]
  },
  {
   "cell_type": "code",
   "execution_count": 60,
   "metadata": {},
   "outputs": [
    {
     "data": {
      "text/plain": [
       "7"
      ]
     },
     "execution_count": 60,
     "metadata": {},
     "output_type": "execute_result"
    }
   ],
   "source": [
    "len(m)"
   ]
  },
  {
   "cell_type": "code",
   "execution_count": 61,
   "metadata": {},
   "outputs": [
    {
     "data": {
      "text/plain": [
       "Manufacturer\n",
       "American Home Food Products     1\n",
       "General Mills                  22\n",
       "Kellogg's                      23\n",
       "Nabisco                         6\n",
       "Post                            9\n",
       "Quaker Oats                     8\n",
       "Ralston Purina                  8\n",
       "Name: Name, dtype: int64"
      ]
     },
     "execution_count": 61,
     "metadata": {},
     "output_type": "execute_result"
    }
   ],
   "source": [
    "m['Name'].size()"
   ]
  },
  {
   "cell_type": "markdown",
   "metadata": {},
   "source": [
    "3. Extract the cereals that belong to the manufacturer/group \"Nabisco\"."
   ]
  },
  {
   "cell_type": "code",
   "execution_count": 62,
   "metadata": {},
   "outputs": [
    {
     "data": {
      "text/plain": [
       "0                     100% Bran\n",
       "20       Cream of Wheat (Quick)\n",
       "63               Shredded Wheat\n",
       "64       Shredded Wheat 'n'Bran\n",
       "65    Shredded Wheat spoon size\n",
       "68      Strawberry Fruit Wheats\n",
       "Name: Name, dtype: object"
      ]
     },
     "execution_count": 62,
     "metadata": {},
     "output_type": "execute_result"
    }
   ],
   "source": [
    "m.get_group(\"Nabisco\")['Name']"
   ]
  },
  {
   "cell_type": "markdown",
   "metadata": {},
   "source": [
    "4. Calculate the average of values in the Calories, Fiber, and Sugars columns for each manufacturer."
   ]
  },
  {
   "cell_type": "code",
   "execution_count": 63,
   "metadata": {},
   "outputs": [
    {
     "data": {
      "text/html": [
       "<div>\n",
       "<style scoped>\n",
       "    .dataframe tbody tr th:only-of-type {\n",
       "        vertical-align: middle;\n",
       "    }\n",
       "\n",
       "    .dataframe tbody tr th {\n",
       "        vertical-align: top;\n",
       "    }\n",
       "\n",
       "    .dataframe thead th {\n",
       "        text-align: right;\n",
       "    }\n",
       "</style>\n",
       "<table border=\"1\" class=\"dataframe\">\n",
       "  <thead>\n",
       "    <tr style=\"text-align: right;\">\n",
       "      <th></th>\n",
       "      <th>Calories</th>\n",
       "      <th>Fiber</th>\n",
       "      <th>Sugars</th>\n",
       "    </tr>\n",
       "    <tr>\n",
       "      <th>Manufacturer</th>\n",
       "      <th></th>\n",
       "      <th></th>\n",
       "      <th></th>\n",
       "    </tr>\n",
       "  </thead>\n",
       "  <tbody>\n",
       "    <tr>\n",
       "      <th>American Home Food Products</th>\n",
       "      <td>100.000000</td>\n",
       "      <td>0.000000</td>\n",
       "      <td>3.000000</td>\n",
       "    </tr>\n",
       "    <tr>\n",
       "      <th>General Mills</th>\n",
       "      <td>111.363636</td>\n",
       "      <td>1.272727</td>\n",
       "      <td>7.954545</td>\n",
       "    </tr>\n",
       "    <tr>\n",
       "      <th>Kellogg's</th>\n",
       "      <td>108.695652</td>\n",
       "      <td>2.739130</td>\n",
       "      <td>7.565217</td>\n",
       "    </tr>\n",
       "    <tr>\n",
       "      <th>Nabisco</th>\n",
       "      <td>86.666667</td>\n",
       "      <td>4.000000</td>\n",
       "      <td>1.833333</td>\n",
       "    </tr>\n",
       "    <tr>\n",
       "      <th>Post</th>\n",
       "      <td>108.888889</td>\n",
       "      <td>2.777778</td>\n",
       "      <td>8.777778</td>\n",
       "    </tr>\n",
       "    <tr>\n",
       "      <th>Quaker Oats</th>\n",
       "      <td>95.000000</td>\n",
       "      <td>1.337500</td>\n",
       "      <td>5.250000</td>\n",
       "    </tr>\n",
       "    <tr>\n",
       "      <th>Ralston Purina</th>\n",
       "      <td>115.000000</td>\n",
       "      <td>1.875000</td>\n",
       "      <td>6.125000</td>\n",
       "    </tr>\n",
       "  </tbody>\n",
       "</table>\n",
       "</div>"
      ],
      "text/plain": [
       "                               Calories     Fiber    Sugars\n",
       "Manufacturer                                               \n",
       "American Home Food Products  100.000000  0.000000  3.000000\n",
       "General Mills                111.363636  1.272727  7.954545\n",
       "Kellogg's                    108.695652  2.739130  7.565217\n",
       "Nabisco                       86.666667  4.000000  1.833333\n",
       "Post                         108.888889  2.777778  8.777778\n",
       "Quaker Oats                   95.000000  1.337500  5.250000\n",
       "Ralston Purina               115.000000  1.875000  6.125000"
      ]
     },
     "execution_count": 63,
     "metadata": {},
     "output_type": "execute_result"
    }
   ],
   "source": [
    "m[[\"Calories\", \"Fiber\", \"Sugars\"]].mean()"
   ]
  },
  {
   "cell_type": "markdown",
   "metadata": {},
   "source": [
    "5. Find the maximum value in the Sugars column for each manufacturer."
   ]
  },
  {
   "cell_type": "code",
   "execution_count": 64,
   "metadata": {},
   "outputs": [
    {
     "data": {
      "text/plain": [
       "Manufacturer\n",
       "American Home Food Products     3\n",
       "General Mills                  14\n",
       "Kellogg's                      15\n",
       "Nabisco                         6\n",
       "Post                           15\n",
       "Quaker Oats                    12\n",
       "Ralston Purina                 11\n",
       "Name: Sugars, dtype: int64"
      ]
     },
     "execution_count": 64,
     "metadata": {},
     "output_type": "execute_result"
    }
   ],
   "source": [
    "m[\"Sugars\"].max()"
   ]
  },
  {
   "cell_type": "markdown",
   "metadata": {},
   "source": [
    "6. Find the minimum value in the Fiber column for each manufacturer."
   ]
  },
  {
   "cell_type": "code",
   "execution_count": 65,
   "metadata": {},
   "outputs": [
    {
     "data": {
      "text/plain": [
       "Manufacturer\n",
       "American Home Food Products    0.0\n",
       "General Mills                  0.0\n",
       "Kellogg's                      0.0\n",
       "Nabisco                        1.0\n",
       "Post                           0.0\n",
       "Quaker Oats                    0.0\n",
       "Ralston Purina                 0.0\n",
       "Name: Fiber, dtype: float64"
      ]
     },
     "execution_count": 65,
     "metadata": {},
     "output_type": "execute_result"
    }
   ],
   "source": [
    "m['Fiber'].min()"
   ]
  },
  {
   "cell_type": "markdown",
   "metadata": {},
   "source": [
    "7. Extract the cereal with the lowest amount of grams of sugar per manufacturer in a new DataFrame."
   ]
  },
  {
   "cell_type": "code",
   "execution_count": 66,
   "metadata": {},
   "outputs": [
    {
     "name": "stderr",
     "output_type": "stream",
     "text": [
      "C:\\Users\\Yakina\\AppData\\Local\\Temp\\ipykernel_14764\\1938034751.py:3: DeprecationWarning: DataFrameGroupBy.apply operated on the grouping columns. This behavior is deprecated, and in a future version of pandas the grouping columns will be excluded from the operation. Either pass `include_groups=False` to exclude the groupings or explicitly select the grouping columns after groupby to silence this warning.\n",
      "  m.apply(lowest_sugar)\n"
     ]
    },
    {
     "data": {
      "text/html": [
       "<div>\n",
       "<style scoped>\n",
       "    .dataframe tbody tr th:only-of-type {\n",
       "        vertical-align: middle;\n",
       "    }\n",
       "\n",
       "    .dataframe tbody tr th {\n",
       "        vertical-align: top;\n",
       "    }\n",
       "\n",
       "    .dataframe thead th {\n",
       "        text-align: right;\n",
       "    }\n",
       "</style>\n",
       "<table border=\"1\" class=\"dataframe\">\n",
       "  <thead>\n",
       "    <tr style=\"text-align: right;\">\n",
       "      <th></th>\n",
       "      <th></th>\n",
       "      <th>Name</th>\n",
       "      <th>Manufacturer</th>\n",
       "      <th>Type</th>\n",
       "      <th>Calories</th>\n",
       "      <th>Fiber</th>\n",
       "      <th>Sugars</th>\n",
       "    </tr>\n",
       "    <tr>\n",
       "      <th>Manufacturer</th>\n",
       "      <th></th>\n",
       "      <th></th>\n",
       "      <th></th>\n",
       "      <th></th>\n",
       "      <th></th>\n",
       "      <th></th>\n",
       "      <th></th>\n",
       "    </tr>\n",
       "  </thead>\n",
       "  <tbody>\n",
       "    <tr>\n",
       "      <th>American Home Food Products</th>\n",
       "      <th>43</th>\n",
       "      <td>Maypo</td>\n",
       "      <td>American Home Food Products</td>\n",
       "      <td>Hot</td>\n",
       "      <td>100</td>\n",
       "      <td>0.0</td>\n",
       "      <td>3</td>\n",
       "    </tr>\n",
       "    <tr>\n",
       "      <th>General Mills</th>\n",
       "      <th>11</th>\n",
       "      <td>Cheerios</td>\n",
       "      <td>General Mills</td>\n",
       "      <td>Cold</td>\n",
       "      <td>110</td>\n",
       "      <td>2.0</td>\n",
       "      <td>1</td>\n",
       "    </tr>\n",
       "    <tr>\n",
       "      <th>Kellogg's</th>\n",
       "      <th>3</th>\n",
       "      <td>All-Bran with Extra Fiber</td>\n",
       "      <td>Kellogg's</td>\n",
       "      <td>Cold</td>\n",
       "      <td>50</td>\n",
       "      <td>14.0</td>\n",
       "      <td>0</td>\n",
       "    </tr>\n",
       "    <tr>\n",
       "      <th>Nabisco</th>\n",
       "      <th>20</th>\n",
       "      <td>Cream of Wheat (Quick)</td>\n",
       "      <td>Nabisco</td>\n",
       "      <td>Hot</td>\n",
       "      <td>100</td>\n",
       "      <td>1.0</td>\n",
       "      <td>0</td>\n",
       "    </tr>\n",
       "    <tr>\n",
       "      <th>Post</th>\n",
       "      <th>33</th>\n",
       "      <td>Grape-Nuts</td>\n",
       "      <td>Post</td>\n",
       "      <td>Cold</td>\n",
       "      <td>110</td>\n",
       "      <td>3.0</td>\n",
       "      <td>3</td>\n",
       "    </tr>\n",
       "    <tr>\n",
       "      <th>Quaker Oats</th>\n",
       "      <th>57</th>\n",
       "      <td>Quaker Oatmeal</td>\n",
       "      <td>Quaker Oats</td>\n",
       "      <td>Hot</td>\n",
       "      <td>100</td>\n",
       "      <td>2.7</td>\n",
       "      <td>-1</td>\n",
       "    </tr>\n",
       "    <tr>\n",
       "      <th>Ralston Purina</th>\n",
       "      <th>61</th>\n",
       "      <td>Rice Chex</td>\n",
       "      <td>Ralston Purina</td>\n",
       "      <td>Cold</td>\n",
       "      <td>110</td>\n",
       "      <td>0.0</td>\n",
       "      <td>2</td>\n",
       "    </tr>\n",
       "  </tbody>\n",
       "</table>\n",
       "</div>"
      ],
      "text/plain": [
       "                                                     Name  \\\n",
       "Manufacturer                                                \n",
       "American Home Food Products 43                      Maypo   \n",
       "General Mills               11                   Cheerios   \n",
       "Kellogg's                   3   All-Bran with Extra Fiber   \n",
       "Nabisco                     20     Cream of Wheat (Quick)   \n",
       "Post                        33                 Grape-Nuts   \n",
       "Quaker Oats                 57             Quaker Oatmeal   \n",
       "Ralston Purina              61                  Rice Chex   \n",
       "\n",
       "                                               Manufacturer  Type  Calories  \\\n",
       "Manufacturer                                                                  \n",
       "American Home Food Products 43  American Home Food Products   Hot       100   \n",
       "General Mills               11                General Mills  Cold       110   \n",
       "Kellogg's                   3                     Kellogg's  Cold        50   \n",
       "Nabisco                     20                      Nabisco   Hot       100   \n",
       "Post                        33                         Post  Cold       110   \n",
       "Quaker Oats                 57                  Quaker Oats   Hot       100   \n",
       "Ralston Purina              61               Ralston Purina  Cold       110   \n",
       "\n",
       "                                Fiber  Sugars  \n",
       "Manufacturer                                   \n",
       "American Home Food Products 43    0.0       3  \n",
       "General Mills               11    2.0       1  \n",
       "Kellogg's                   3    14.0       0  \n",
       "Nabisco                     20    1.0       0  \n",
       "Post                        33    3.0       3  \n",
       "Quaker Oats                 57    2.7      -1  \n",
       "Ralston Purina              61    0.0       2  "
      ]
     },
     "execution_count": 66,
     "metadata": {},
     "output_type": "execute_result"
    }
   ],
   "source": [
    "def lowest_sugar(df):\n",
    "    return df.nsmallest(1, \"Sugars\")\n",
    "m.apply(lowest_sugar)"
   ]
  },
  {
   "cell_type": "code",
   "execution_count": 70,
   "metadata": {},
   "outputs": [
    {
     "name": "stdout",
     "output_type": "stream",
     "text": [
      "                     Name                Manufacturer  Sugars\n",
      "                    Maypo American Home Food Products       3\n",
      "                 Cheerios               General Mills       1\n",
      "All-Bran with Extra Fiber                   Kellogg's       0\n",
      "   Cream of Wheat (Quick)                     Nabisco       0\n",
      "               Grape-Nuts                        Post       3\n",
      "           Quaker Oatmeal                 Quaker Oats      -1\n",
      "                Rice Chex              Ralston Purina       2\n"
     ]
    }
   ],
   "source": [
    "lowest_sugar = cereals.loc[m['Sugars'].idxmin()]\n",
    "print(lowest_sugar[['Name', 'Manufacturer', 'Sugars']].to_string(index=False))"
   ]
  },
  {
   "cell_type": "code",
   "execution_count": null,
   "metadata": {},
   "outputs": [],
   "source": []
  }
 ],
 "metadata": {
  "kernelspec": {
   "display_name": "traineeship",
   "language": "python",
   "name": "python3"
  },
  "language_info": {
   "codemirror_mode": {
    "name": "ipython",
    "version": 3
   },
   "file_extension": ".py",
   "mimetype": "text/x-python",
   "name": "python",
   "nbconvert_exporter": "python",
   "pygments_lexer": "ipython3",
   "version": "3.12.8"
  }
 },
 "nbformat": 4,
 "nbformat_minor": 2
}
