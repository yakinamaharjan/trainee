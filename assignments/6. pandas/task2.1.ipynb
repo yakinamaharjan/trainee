{
 "cells": [
  {
   "cell_type": "code",
   "execution_count": 104,
   "metadata": {},
   "outputs": [],
   "source": [
    "import pandas as pd"
   ]
  },
  {
   "cell_type": "markdown",
   "metadata": {},
   "source": [
    "1. Pandas Series. Why is it better than our list?\n",
    "\n",
    "- Pandas Series is a one-dimensional labeled array of values\n",
    "- each column in a DataFrame is a Series\n",
    "\n",
    "major differences between Pandas Series and Python list:\n",
    "- loops are required to operate on list elements (one by one), while operations can be performed on the entire series at once\n",
    "- lists allow position based indexing only, series additionally have labeled indexing\n",
    "- pandas provide ways to easily find and handle missing data"
   ]
  },
  {
   "cell_type": "markdown",
   "metadata": {},
   "source": [
    "2. Creating/ Reading dataframes: Creating dataframe with different methods. (list, dictionary, tuple, array etc). Reading from csv and other file formats with different kinds of separators."
   ]
  },
  {
   "cell_type": "code",
   "execution_count": 105,
   "metadata": {},
   "outputs": [
    {
     "name": "stdout",
     "output_type": "stream",
     "text": [
      "Empty DataFrame\n",
      "Columns: []\n",
      "Index: []\n"
     ]
    }
   ],
   "source": [
    "# creating empty df\n",
    "df = pd.DataFrame()\n",
    "print(df)"
   ]
  },
  {
   "cell_type": "code",
   "execution_count": 106,
   "metadata": {},
   "outputs": [
    {
     "data": {
      "text/html": [
       "<div>\n",
       "<style scoped>\n",
       "    .dataframe tbody tr th:only-of-type {\n",
       "        vertical-align: middle;\n",
       "    }\n",
       "\n",
       "    .dataframe tbody tr th {\n",
       "        vertical-align: top;\n",
       "    }\n",
       "\n",
       "    .dataframe thead th {\n",
       "        text-align: right;\n",
       "    }\n",
       "</style>\n",
       "<table border=\"1\" class=\"dataframe\">\n",
       "  <thead>\n",
       "    <tr style=\"text-align: right;\">\n",
       "      <th></th>\n",
       "      <th>A</th>\n",
       "      <th>B</th>\n",
       "    </tr>\n",
       "  </thead>\n",
       "  <tbody>\n",
       "    <tr>\n",
       "      <th>0</th>\n",
       "      <td>1</td>\n",
       "      <td>2</td>\n",
       "    </tr>\n",
       "    <tr>\n",
       "      <th>1</th>\n",
       "      <td>3</td>\n",
       "      <td>4</td>\n",
       "    </tr>\n",
       "  </tbody>\n",
       "</table>\n",
       "</div>"
      ],
      "text/plain": [
       "   A  B\n",
       "0  1  2\n",
       "1  3  4"
      ]
     },
     "execution_count": 106,
     "metadata": {},
     "output_type": "execute_result"
    }
   ],
   "source": [
    "# list\n",
    "data = [[1, 2], [3, 4]]\n",
    "df_list = pd.DataFrame(data, columns=['A', 'B'])\n",
    "df_list"
   ]
  },
  {
   "cell_type": "code",
   "execution_count": 107,
   "metadata": {},
   "outputs": [
    {
     "data": {
      "text/html": [
       "<div>\n",
       "<style scoped>\n",
       "    .dataframe tbody tr th:only-of-type {\n",
       "        vertical-align: middle;\n",
       "    }\n",
       "\n",
       "    .dataframe tbody tr th {\n",
       "        vertical-align: top;\n",
       "    }\n",
       "\n",
       "    .dataframe thead th {\n",
       "        text-align: right;\n",
       "    }\n",
       "</style>\n",
       "<table border=\"1\" class=\"dataframe\">\n",
       "  <thead>\n",
       "    <tr style=\"text-align: right;\">\n",
       "      <th></th>\n",
       "      <th>letter</th>\n",
       "      <th>number</th>\n",
       "    </tr>\n",
       "  </thead>\n",
       "  <tbody>\n",
       "    <tr>\n",
       "      <th>0</th>\n",
       "      <td>w</td>\n",
       "      <td>1</td>\n",
       "    </tr>\n",
       "    <tr>\n",
       "      <th>1</th>\n",
       "      <td>x</td>\n",
       "      <td>2</td>\n",
       "    </tr>\n",
       "    <tr>\n",
       "      <th>2</th>\n",
       "      <td>y</td>\n",
       "      <td>3</td>\n",
       "    </tr>\n",
       "    <tr>\n",
       "      <th>3</th>\n",
       "      <td>z</td>\n",
       "      <td>4</td>\n",
       "    </tr>\n",
       "  </tbody>\n",
       "</table>\n",
       "</div>"
      ],
      "text/plain": [
       "  letter  number\n",
       "0      w       1\n",
       "1      x       2\n",
       "2      y       3\n",
       "3      z       4"
      ]
     },
     "execution_count": 107,
     "metadata": {},
     "output_type": "execute_result"
    }
   ],
   "source": [
    "# dictionary\n",
    "data = {'letter': ['w','x','y','z'], 'number': [1, 2, 3, 4]}\n",
    "df_dict = pd.DataFrame(data)\n",
    "df_dict"
   ]
  },
  {
   "cell_type": "code",
   "execution_count": 108,
   "metadata": {},
   "outputs": [
    {
     "data": {
      "text/html": [
       "<div>\n",
       "<style scoped>\n",
       "    .dataframe tbody tr th:only-of-type {\n",
       "        vertical-align: middle;\n",
       "    }\n",
       "\n",
       "    .dataframe tbody tr th {\n",
       "        vertical-align: top;\n",
       "    }\n",
       "\n",
       "    .dataframe thead th {\n",
       "        text-align: right;\n",
       "    }\n",
       "</style>\n",
       "<table border=\"1\" class=\"dataframe\">\n",
       "  <thead>\n",
       "    <tr style=\"text-align: right;\">\n",
       "      <th></th>\n",
       "      <th>0</th>\n",
       "      <th>1</th>\n",
       "      <th>2</th>\n",
       "    </tr>\n",
       "  </thead>\n",
       "  <tbody>\n",
       "    <tr>\n",
       "      <th>0</th>\n",
       "      <td>a</td>\n",
       "      <td>b</td>\n",
       "      <td>NaN</td>\n",
       "    </tr>\n",
       "    <tr>\n",
       "      <th>1</th>\n",
       "      <td>11</td>\n",
       "      <td>22</td>\n",
       "      <td>33.0</td>\n",
       "    </tr>\n",
       "  </tbody>\n",
       "</table>\n",
       "</div>"
      ],
      "text/plain": [
       "    0   1     2\n",
       "0   a   b   NaN\n",
       "1  11  22  33.0"
      ]
     },
     "execution_count": 108,
     "metadata": {},
     "output_type": "execute_result"
    }
   ],
   "source": [
    "# tuple\n",
    "data = (('a','b'), (11, 22, 33))\n",
    "df_tuple = pd.DataFrame(data)\n",
    "df_tuple"
   ]
  },
  {
   "cell_type": "code",
   "execution_count": 109,
   "metadata": {},
   "outputs": [
    {
     "data": {
      "text/html": [
       "<div>\n",
       "<style scoped>\n",
       "    .dataframe tbody tr th:only-of-type {\n",
       "        vertical-align: middle;\n",
       "    }\n",
       "\n",
       "    .dataframe tbody tr th {\n",
       "        vertical-align: top;\n",
       "    }\n",
       "\n",
       "    .dataframe thead th {\n",
       "        text-align: right;\n",
       "    }\n",
       "</style>\n",
       "<table border=\"1\" class=\"dataframe\">\n",
       "  <thead>\n",
       "    <tr style=\"text-align: right;\">\n",
       "      <th></th>\n",
       "      <th>name</th>\n",
       "      <th>age</th>\n",
       "    </tr>\n",
       "  </thead>\n",
       "  <tbody>\n",
       "    <tr>\n",
       "      <th>0</th>\n",
       "      <td>jerry</td>\n",
       "      <td>58</td>\n",
       "    </tr>\n",
       "    <tr>\n",
       "      <th>1</th>\n",
       "      <td>rob</td>\n",
       "      <td>25</td>\n",
       "    </tr>\n",
       "    <tr>\n",
       "      <th>2</th>\n",
       "      <td>emma</td>\n",
       "      <td>30</td>\n",
       "    </tr>\n",
       "  </tbody>\n",
       "</table>\n",
       "</div>"
      ],
      "text/plain": [
       "    name age\n",
       "0  jerry  58\n",
       "1    rob  25\n",
       "2   emma  30"
      ]
     },
     "execution_count": 109,
     "metadata": {},
     "output_type": "execute_result"
    }
   ],
   "source": [
    "# numpy array\n",
    "import numpy as np\n",
    "data = np.array([['jerry', 58], ['rob', 25], ['emma', 30]])\n",
    "df_array = pd.DataFrame(data, columns=['name', 'age'])\n",
    "df_array"
   ]
  },
  {
   "cell_type": "code",
   "execution_count": 110,
   "metadata": {},
   "outputs": [
    {
     "data": {
      "text/html": [
       "<div>\n",
       "<style scoped>\n",
       "    .dataframe tbody tr th:only-of-type {\n",
       "        vertical-align: middle;\n",
       "    }\n",
       "\n",
       "    .dataframe tbody tr th {\n",
       "        vertical-align: top;\n",
       "    }\n",
       "\n",
       "    .dataframe thead th {\n",
       "        text-align: right;\n",
       "    }\n",
       "</style>\n",
       "<table border=\"1\" class=\"dataframe\">\n",
       "  <thead>\n",
       "    <tr style=\"text-align: right;\">\n",
       "      <th></th>\n",
       "      <th>a</th>\n",
       "      <th>b</th>\n",
       "      <th>c</th>\n",
       "    </tr>\n",
       "  </thead>\n",
       "  <tbody>\n",
       "    <tr>\n",
       "      <th>first</th>\n",
       "      <td>1</td>\n",
       "      <td>2</td>\n",
       "      <td>3</td>\n",
       "    </tr>\n",
       "    <tr>\n",
       "      <th>second</th>\n",
       "      <td>10</td>\n",
       "      <td>20</td>\n",
       "      <td>30</td>\n",
       "    </tr>\n",
       "  </tbody>\n",
       "</table>\n",
       "</div>"
      ],
      "text/plain": [
       "         a   b   c\n",
       "first    1   2   3\n",
       "second  10  20  30"
      ]
     },
     "execution_count": 110,
     "metadata": {},
     "output_type": "execute_result"
    }
   ],
   "source": [
    "# list of dictionaries\n",
    "data = [{'a': 1, 'b': 2, 'c': 3},\n",
    "        {'a': 10, 'b': 20, 'c': 30}]\n",
    "df_listofdict = pd.DataFrame(data, index=['first', 'second'])\n",
    "df_listofdict"
   ]
  },
  {
   "cell_type": "code",
   "execution_count": 111,
   "metadata": {},
   "outputs": [
    {
     "name": "stdout",
     "output_type": "stream",
     "text": [
      "              Company  Revenues  Profits  Employees       Sector  \\\n",
      "0             Walmart  500343.0   9862.0    2300000    Retailing   \n",
      "1         Exxon Mobil  244363.0  19710.0      71200       Energy   \n",
      "2  Berkshire Hathaway  242137.0  44940.0     377000   Financials   \n",
      "3               Apple  229234.0  48351.0     123000   Technology   \n",
      "4  UnitedHealth Group  201159.0  10558.0     260000  Health Care   \n",
      "\n",
      "                                   Industry  \n",
      "0                     General Merchandisers  \n",
      "1                        Petroleum Refining  \n",
      "2  Insurance: Property and Casualty (Stock)  \n",
      "3               Computers, Office Equipment  \n",
      "4   Health Care: Insurance and Managed Care  \n"
     ]
    }
   ],
   "source": [
    "# reading from file (csv)\n",
    "df_csv = pd.read_csv('datasets/task_2/fortune1000.csv')\n",
    "print(df_csv.head())"
   ]
  },
  {
   "cell_type": "markdown",
   "metadata": {},
   "source": [
    "3. Dataframe slicing"
   ]
  },
  {
   "cell_type": "code",
   "execution_count": 112,
   "metadata": {},
   "outputs": [
    {
     "name": "stdout",
     "output_type": "stream",
     "text": [
      "                     Company  Revenues  Profits  Employees  \\\n",
      "16                    Kroger  122662.0   1907.0     449000   \n",
      "17          General Electric  122274.0  -5786.0     313000   \n",
      "18  Walgreens Boots Alliance  118214.0   4078.0     290000   \n",
      "\n",
      "                 Sector              Industry  \n",
      "16  Food &  Drug Stores  Food and Drug Stores  \n",
      "17          Industrials  Industrial Machinery  \n",
      "18  Food &  Drug Stores  Food and Drug Stores  \n",
      "\n",
      "   Profits  Employees       Sector\n",
      "0   9862.0    2300000    Retailing\n",
      "1  19710.0      71200       Energy\n",
      "2  44940.0     377000   Financials\n",
      "3  48351.0     123000   Technology\n",
      "4  10558.0     260000  Health Care\n"
     ]
    }
   ],
   "source": [
    "sliced_rows = df_csv.loc[16:18]\n",
    "print(sliced_rows)\n",
    "print()\n",
    "\n",
    "sliced_columns = df_csv.loc[:, 'Profits':'Sector']\n",
    "print(sliced_columns.head())"
   ]
  },
  {
   "cell_type": "markdown",
   "metadata": {},
   "source": [
    "4. Type casting and Type conversion in pandas."
   ]
  },
  {
   "cell_type": "code",
   "execution_count": 113,
   "metadata": {},
   "outputs": [
    {
     "name": "stdout",
     "output_type": "stream",
     "text": [
      "Before:  int64\n",
      "After type casting:  float64\n",
      "After type conversion:  int64\n"
     ]
    }
   ],
   "source": [
    "# type casting\n",
    "print(\"Before: \", df_csv['Employees'].dtype)\n",
    "df_csv['Employees'] = df_csv['Employees'].astype(float)\n",
    "print(\"After type casting: \", df_csv['Employees'].dtype)\n",
    "\n",
    "# type conversion\n",
    "df_csv['Employees'] = df_csv['Employees'].apply(int)\n",
    "print(\"After type conversion: \", df_csv['Employees'].dtype)"
   ]
  },
  {
   "cell_type": "markdown",
   "metadata": {},
   "source": [
    "5. Find and drop duplicates from the csv file attached."
   ]
  },
  {
   "cell_type": "code",
   "execution_count": 114,
   "metadata": {},
   "outputs": [
    {
     "name": "stdout",
     "output_type": "stream",
     "text": [
      "7\n"
     ]
    }
   ],
   "source": [
    "print(df_csv.duplicated().sum())"
   ]
  },
  {
   "cell_type": "code",
   "execution_count": 115,
   "metadata": {},
   "outputs": [
    {
     "name": "stdout",
     "output_type": "stream",
     "text": [
      "0\n"
     ]
    }
   ],
   "source": [
    "df_csv = df_csv.drop_duplicates()\n",
    "print(df_csv.duplicated().sum())"
   ]
  },
  {
   "cell_type": "markdown",
   "metadata": {},
   "source": [
    "6. Creating a new column."
   ]
  },
  {
   "cell_type": "code",
   "execution_count": 116,
   "metadata": {},
   "outputs": [
    {
     "name": "stdout",
     "output_type": "stream",
     "text": [
      "  Name  Age\n",
      "0    A   25\n",
      "1    B   32\n",
      "2    C   18\n",
      "3    D   47\n",
      "4    E   33\n"
     ]
    }
   ],
   "source": [
    "data = {'Name': ['A', 'B', 'C', 'D', 'E'],\n",
    "        'Age': [25, 32, 18, 47, 33]}\n",
    "df = pd.DataFrame(data)\n",
    "print(df)"
   ]
  },
  {
   "cell_type": "code",
   "execution_count": 117,
   "metadata": {},
   "outputs": [
    {
     "name": "stdout",
     "output_type": "stream",
     "text": [
      "  Name  Age Gender\n",
      "0    A   25      F\n",
      "1    B   32      M\n",
      "2    C   18      M\n",
      "3    D   47      F\n",
      "4    E   33      F\n"
     ]
    }
   ],
   "source": [
    "df['Gender'] = ['F', 'M', 'M', 'F', 'F']\n",
    "print(df)"
   ]
  },
  {
   "cell_type": "code",
   "execution_count": 118,
   "metadata": {},
   "outputs": [
    {
     "data": {
      "text/html": [
       "<div>\n",
       "<style scoped>\n",
       "    .dataframe tbody tr th:only-of-type {\n",
       "        vertical-align: middle;\n",
       "    }\n",
       "\n",
       "    .dataframe tbody tr th {\n",
       "        vertical-align: top;\n",
       "    }\n",
       "\n",
       "    .dataframe thead th {\n",
       "        text-align: right;\n",
       "    }\n",
       "</style>\n",
       "<table border=\"1\" class=\"dataframe\">\n",
       "  <thead>\n",
       "    <tr style=\"text-align: right;\">\n",
       "      <th></th>\n",
       "      <th>Name</th>\n",
       "      <th>Age</th>\n",
       "      <th>Gender</th>\n",
       "      <th>Address</th>\n",
       "    </tr>\n",
       "  </thead>\n",
       "  <tbody>\n",
       "    <tr>\n",
       "      <th>0</th>\n",
       "      <td>A</td>\n",
       "      <td>25</td>\n",
       "      <td>F</td>\n",
       "      <td>KTM</td>\n",
       "    </tr>\n",
       "    <tr>\n",
       "      <th>1</th>\n",
       "      <td>B</td>\n",
       "      <td>32</td>\n",
       "      <td>M</td>\n",
       "      <td>BKT</td>\n",
       "    </tr>\n",
       "    <tr>\n",
       "      <th>2</th>\n",
       "      <td>C</td>\n",
       "      <td>18</td>\n",
       "      <td>M</td>\n",
       "      <td>PKR</td>\n",
       "    </tr>\n",
       "    <tr>\n",
       "      <th>3</th>\n",
       "      <td>D</td>\n",
       "      <td>47</td>\n",
       "      <td>F</td>\n",
       "      <td>BKT</td>\n",
       "    </tr>\n",
       "    <tr>\n",
       "      <th>4</th>\n",
       "      <td>E</td>\n",
       "      <td>33</td>\n",
       "      <td>F</td>\n",
       "      <td>KTM</td>\n",
       "    </tr>\n",
       "  </tbody>\n",
       "</table>\n",
       "</div>"
      ],
      "text/plain": [
       "  Name  Age Gender Address\n",
       "0    A   25      F     KTM\n",
       "1    B   32      M     BKT\n",
       "2    C   18      M     PKR\n",
       "3    D   47      F     BKT\n",
       "4    E   33      F     KTM"
      ]
     },
     "execution_count": 118,
     "metadata": {},
     "output_type": "execute_result"
    }
   ],
   "source": [
    "df = df.assign(Address = ['KTM', 'BKT', 'PKR', 'BKT', 'KTM'])\n",
    "df"
   ]
  },
  {
   "cell_type": "code",
   "execution_count": 119,
   "metadata": {},
   "outputs": [
    {
     "name": "stdout",
     "output_type": "stream",
     "text": [
      "  Name  Age Gender Address AgeGroup\n",
      "0    A   25      F     KTM    Young\n",
      "1    B   32      M     BKT      Old\n",
      "2    C   18      M     PKR    Young\n",
      "3    D   47      F     BKT      Old\n",
      "4    E   33      F     KTM      Old\n"
     ]
    }
   ],
   "source": [
    "df['AgeGroup'] = df['Age'].apply(lambda x: 'Young' if x < 30 else 'Old')\n",
    "print(df)"
   ]
  },
  {
   "cell_type": "markdown",
   "metadata": {},
   "source": [
    "7. Summary functions"
   ]
  },
  {
   "cell_type": "code",
   "execution_count": 120,
   "metadata": {},
   "outputs": [
    {
     "data": {
      "text/plain": [
       "np.float64(1111.7725450901803)"
      ]
     },
     "execution_count": 120,
     "metadata": {},
     "output_type": "execute_result"
    }
   ],
   "source": [
    "df_csv['Profits'].mean()"
   ]
  },
  {
   "cell_type": "code",
   "execution_count": 121,
   "metadata": {},
   "outputs": [
    {
     "data": {
      "text/plain": [
       "Profits        321.05\n",
       "Employees    12799.50\n",
       "dtype: float64"
      ]
     },
     "execution_count": 121,
     "metadata": {},
     "output_type": "execute_result"
    }
   ],
   "source": [
    "df_csv[['Profits', 'Employees']].median()"
   ]
  },
  {
   "cell_type": "code",
   "execution_count": 122,
   "metadata": {},
   "outputs": [
    {
     "data": {
      "text/plain": [
       "91461.794252002"
      ]
     },
     "execution_count": 122,
     "metadata": {},
     "output_type": "execute_result"
    }
   ],
   "source": [
    "df_csv['Employees'].std()"
   ]
  },
  {
   "cell_type": "code",
   "execution_count": 123,
   "metadata": {},
   "outputs": [
    {
     "data": {
      "text/plain": [
       "array(['Retailing', 'Energy', 'Financials', 'Technology', 'Health Care',\n",
       "       'Wholesalers', 'Telecommunications', 'Motor Vehicles & Parts',\n",
       "       'Food &  Drug Stores', 'Industrials', 'Aerospace & Defense',\n",
       "       'Household Products', 'Transportation',\n",
       "       'Food, Beverages & Tobacco', 'Chemicals', 'Media', 'Apparel',\n",
       "       'Materials', 'Hotels, Restaurants & Leisure', 'Business Services',\n",
       "       'Engineering & Construction'], dtype=object)"
      ]
     },
     "execution_count": 123,
     "metadata": {},
     "output_type": "execute_result"
    }
   ],
   "source": [
    "df_csv['Sector'].unique()"
   ]
  },
  {
   "cell_type": "code",
   "execution_count": 124,
   "metadata": {},
   "outputs": [
    {
     "data": {
      "text/plain": [
       "Sector\n",
       "Financials                       155\n",
       "Energy                           107\n",
       "Technology                       103\n",
       "Retailing                         77\n",
       "Health Care                       71\n",
       "Business Services                 53\n",
       "Industrials                       49\n",
       "Materials                         45\n",
       "Wholesalers                       44\n",
       "Transportation                    40\n",
       "Food, Beverages & Tobacco         37\n",
       "Chemicals                         33\n",
       "Household Products                28\n",
       "Engineering & Construction        27\n",
       "Hotels, Restaurants & Leisure     26\n",
       "Media                             25\n",
       "Aerospace & Defense               25\n",
       "Motor Vehicles & Parts            19\n",
       "Apparel                           14\n",
       "Food &  Drug Stores               12\n",
       "Telecommunications                10\n",
       "Name: count, dtype: int64"
      ]
     },
     "execution_count": 124,
     "metadata": {},
     "output_type": "execute_result"
    }
   ],
   "source": [
    "\n",
    "df_csv['Sector'].value_counts()"
   ]
  },
  {
   "cell_type": "code",
   "execution_count": 125,
   "metadata": {},
   "outputs": [
    {
     "data": {
      "text/plain": [
       "Sector\n",
       "Aerospace & Defense              15353.400000\n",
       "Apparel                           7225.521429\n",
       "Business Services                 5963.962264\n",
       "Chemicals                         7610.636364\n",
       "Energy                           14425.300935\n",
       "Engineering & Construction        6399.333333\n",
       "Financials                       15757.935484\n",
       "Food &  Drug Stores              33789.000000\n",
       "Food, Beverages & Tobacco        13790.054054\n",
       "Health Care                      21239.315493\n",
       "Hotels, Restaurants & Leisure     6916.346154\n",
       "Household Products                8277.850000\n",
       "Industrials                      10615.102041\n",
       "Materials                         6184.400000\n",
       "Media                             9219.496000\n",
       "Motor Vehicles & Parts           22817.631579\n",
       "Retailing                        21874.714286\n",
       "Technology                       13347.789320\n",
       "Telecommunications               46695.900000\n",
       "Transportation                   11379.000000\n",
       "Wholesalers                      20185.204545\n",
       "Name: Revenues, dtype: float64"
      ]
     },
     "execution_count": 125,
     "metadata": {},
     "output_type": "execute_result"
    }
   ],
   "source": [
    "df_csv.groupby(\"Sector\")[\"Revenues\"].mean()"
   ]
  },
  {
   "cell_type": "code",
   "execution_count": 126,
   "metadata": {},
   "outputs": [
    {
     "data": {
      "text/plain": [
       "count      1000.000000\n",
       "mean      14378.202400\n",
       "std       30835.849087\n",
       "min        1848.000000\n",
       "25%        2886.500000\n",
       "50%        5417.000000\n",
       "75%       12108.750000\n",
       "max      500343.000000\n",
       "Name: Revenues, dtype: float64"
      ]
     },
     "execution_count": 126,
     "metadata": {},
     "output_type": "execute_result"
    }
   ],
   "source": [
    "df_csv.Revenues.describe()"
   ]
  },
  {
   "cell_type": "markdown",
   "metadata": {},
   "source": [
    "8. Pandas `apply()` function."
   ]
  },
  {
   "cell_type": "code",
   "execution_count": 127,
   "metadata": {},
   "outputs": [
    {
     "data": {
      "text/html": [
       "<div>\n",
       "<style scoped>\n",
       "    .dataframe tbody tr th:only-of-type {\n",
       "        vertical-align: middle;\n",
       "    }\n",
       "\n",
       "    .dataframe tbody tr th {\n",
       "        vertical-align: top;\n",
       "    }\n",
       "\n",
       "    .dataframe thead th {\n",
       "        text-align: right;\n",
       "    }\n",
       "</style>\n",
       "<table border=\"1\" class=\"dataframe\">\n",
       "  <thead>\n",
       "    <tr style=\"text-align: right;\">\n",
       "      <th></th>\n",
       "      <th>Profits</th>\n",
       "      <th>Sector</th>\n",
       "    </tr>\n",
       "  </thead>\n",
       "  <tbody>\n",
       "    <tr>\n",
       "      <th>0</th>\n",
       "      <td>9862.0</td>\n",
       "      <td>Retailing</td>\n",
       "    </tr>\n",
       "    <tr>\n",
       "      <th>1</th>\n",
       "      <td>19710.0</td>\n",
       "      <td>Energy</td>\n",
       "    </tr>\n",
       "    <tr>\n",
       "      <th>2</th>\n",
       "      <td>44940.0</td>\n",
       "      <td>Financials</td>\n",
       "    </tr>\n",
       "    <tr>\n",
       "      <th>3</th>\n",
       "      <td>48351.0</td>\n",
       "      <td>Technology</td>\n",
       "    </tr>\n",
       "    <tr>\n",
       "      <th>4</th>\n",
       "      <td>10558.0</td>\n",
       "      <td>Health Care</td>\n",
       "    </tr>\n",
       "  </tbody>\n",
       "</table>\n",
       "</div>"
      ],
      "text/plain": [
       "   Profits       Sector\n",
       "0   9862.0    Retailing\n",
       "1  19710.0       Energy\n",
       "2  44940.0   Financials\n",
       "3  48351.0   Technology\n",
       "4  10558.0  Health Care"
      ]
     },
     "execution_count": 127,
     "metadata": {},
     "output_type": "execute_result"
    }
   ],
   "source": [
    "df_csv[['Profits','Sector']].head()"
   ]
  },
  {
   "cell_type": "code",
   "execution_count": 128,
   "metadata": {},
   "outputs": [
    {
     "data": {
      "text/plain": [
       "0      Retailing Sector\n",
       "1         Energy Sector\n",
       "2     Financials Sector\n",
       "3     Technology Sector\n",
       "4    Health Care Sector\n",
       "Name: Sector, dtype: object"
      ]
     },
     "execution_count": 128,
     "metadata": {},
     "output_type": "execute_result"
    }
   ],
   "source": [
    "def apply_function(x):\n",
    "    return x + \" Sector\"\n",
    "\n",
    "df_csv['Sector'].apply(apply_function).head()"
   ]
  },
  {
   "cell_type": "code",
   "execution_count": 129,
   "metadata": {},
   "outputs": [
    {
     "data": {
      "text/plain": [
       "0     98620.0\n",
       "1    197100.0\n",
       "2    449400.0\n",
       "3    483510.0\n",
       "4    105580.0\n",
       "Name: Profits, dtype: float64"
      ]
     },
     "execution_count": 129,
     "metadata": {},
     "output_type": "execute_result"
    }
   ],
   "source": [
    "df_csv['Profits'].apply(lambda num : num * 10).head()"
   ]
  },
  {
   "cell_type": "code",
   "execution_count": 130,
   "metadata": {},
   "outputs": [
    {
     "name": "stdout",
     "output_type": "stream",
     "text": [
      "A     3\n",
      "B    30\n",
      "dtype: int64\n",
      "0    11\n",
      "1    22\n",
      "dtype: int64\n"
     ]
    }
   ],
   "source": [
    "df = pd.DataFrame({'A': [1, 2], 'B': [10, 20]})\n",
    "\n",
    "df1 = df.apply(np.sum, axis=0)\n",
    "print(df1)\n",
    "\n",
    "df1 = df.apply(np.sum, axis=1)\n",
    "print(df1)"
   ]
  },
  {
   "cell_type": "code",
   "execution_count": null,
   "metadata": {},
   "outputs": [],
   "source": []
  }
 ],
 "metadata": {
  "kernelspec": {
   "display_name": "traineeship",
   "language": "python",
   "name": "python3"
  },
  "language_info": {
   "codemirror_mode": {
    "name": "ipython",
    "version": 3
   },
   "file_extension": ".py",
   "mimetype": "text/x-python",
   "name": "python",
   "nbconvert_exporter": "python",
   "pygments_lexer": "ipython3",
   "version": "3.12.8"
  }
 },
 "nbformat": 4,
 "nbformat_minor": 2
}
