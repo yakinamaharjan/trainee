{
 "cells": [
  {
   "cell_type": "code",
   "execution_count": null,
   "id": "29bfe964",
   "metadata": {
    "execution": {
     "iopub.execute_input": "2023-11-20T03:26:53.568153Z",
     "iopub.status.busy": "2023-11-20T03:26:53.567732Z",
     "iopub.status.idle": "2023-11-20T03:26:59.095484Z",
     "shell.execute_reply": "2023-11-20T03:26:59.094441Z"
    },
    "papermill": {
     "duration": 5.64121,
     "end_time": "2023-11-20T03:26:59.098132",
     "exception": false,
     "start_time": "2023-11-20T03:26:53.456922",
     "status": "completed"
    },
    "tags": []
   },
   "outputs": [],
   "source": [
    "import numpy as np\n",
    "import pandas as pd\n",
    "import os\n",
    "import sys\n",
    "import random\n",
    "\n",
    "import numpy as np\n",
    "import cv2\n",
    "import matplotlib.pyplot as plt\n",
    "\n",
    "import tensorflow as tf\n",
    "from tensorflow import keras\n",
    "\n",
    "\n",
    "seed = 42\n",
    "random.seed = seed\n",
    "np.random.seed = seed\n",
    "tf.seed = seed"
   ]
  },
  {
   "cell_type": "code",
   "execution_count": null,
   "id": "5c51b54a",
   "metadata": {},
   "outputs": [],
   "source": [
    "path = \"C:/Users/Yakina/.cache/kagglehub/datasets/diversisai/fire-segmentation-image-dataset/versions/1/Image/\""
   ]
  },
  {
   "cell_type": "code",
   "execution_count": null,
   "id": "ef7be783",
   "metadata": {
    "execution": {
     "iopub.execute_input": "2023-11-20T03:26:59.310299Z",
     "iopub.status.busy": "2023-11-20T03:26:59.309292Z",
     "iopub.status.idle": "2023-11-20T03:27:00.285705Z",
     "shell.execute_reply": "2023-11-20T03:27:00.284684Z"
    },
    "papermill": {
     "duration": 1.082806,
     "end_time": "2023-11-20T03:27:00.288192",
     "exception": false,
     "start_time": "2023-11-20T03:26:59.205386",
     "status": "completed"
    },
    "tags": []
   },
   "outputs": [],
   "source": [
    "class DataGen(keras.utils.Sequence):\n",
    "    def __init__(self, ids, path, batch_size=8, image_size=128):\n",
    "        self.ids = ids\n",
    "        self.path = path\n",
    "        self.batch_size = batch_size\n",
    "        self.image_size = image_size\n",
    "        self.on_epoch_end()\n",
    "        \n",
    "    def __load__(self, id_name):\n",
    "        image_path = os.path.join(\"../input/fire-segmentation-image-dataset/Image/Fire\", id_name)\n",
    "        mask_path = os.path.join(\"../input/fire-segmentation-image-dataset/Segmentation_Mask/Fire\", id_name)\n",
    "        image = cv2.imread(image_path, 1)\n",
    "        image = cv2.resize(image, (self.image_size, self.image_size))\n",
    "        \n",
    "        mask = np.zeros((self.image_size, self.image_size, 1))\n",
    "        \n",
    "        _mask_image = cv2.imread(mask_path, -1)\n",
    "        _mask_image = cv2.resize(_mask_image, (self.image_size, self.image_size))\n",
    "        _mask_image = np.expand_dims(_mask_image, axis=-1)\n",
    "        mask = np.maximum(mask, _mask_image)\n",
    "            \n",
    "        \n",
    "        image = image/255.0\n",
    "        mask = mask/255.0\n",
    "        \n",
    "        return image, mask\n",
    "    \n",
    "    def __getitem__(self, index):\n",
    "        if(index+1)*self.batch_size > len(self.ids):\n",
    "            self.batch_size = len(self.ids) - index*self.batch_size\n",
    "        \n",
    "        files_batch = self.ids[index*self.batch_size : (index+1)*self.batch_size]\n",
    "        \n",
    "        image = []\n",
    "        mask  = []\n",
    "        \n",
    "        for id_name in files_batch:\n",
    "            _img, _mask = self.__load__(id_name)\n",
    "            image.append(_img)\n",
    "            mask.append(_mask)\n",
    "            \n",
    "        image = np.array(image)\n",
    "        mask  = np.array(mask)\n",
    "        \n",
    "        return image, mask\n",
    "    \n",
    "    def on_epoch_end(self):\n",
    "        pass\n",
    "    \n",
    "    def __len__(self):\n",
    "        return int(np.ceil(len(self.ids)/float(self.batch_size)))"
   ]
  },
  {
   "cell_type": "code",
   "execution_count": null,
   "id": "31e035c5",
   "metadata": {
    "_kg_hide-output": true,
    "execution": {
     "iopub.execute_input": "2023-11-20T03:27:00.509627Z",
     "iopub.status.busy": "2023-11-20T03:27:00.508392Z",
     "iopub.status.idle": "2023-11-20T03:27:06.814975Z",
     "shell.execute_reply": "2023-11-20T03:27:06.813918Z"
    },
    "papermill": {
     "duration": 6.448743,
     "end_time": "2023-11-20T03:27:06.842181",
     "exception": false,
     "start_time": "2023-11-20T03:27:00.393438",
     "status": "completed"
    },
    "scrolled": true,
    "tags": []
   },
   "outputs": [],
   "source": [
    "image_size = 64\n",
    "\n",
    "train_path = path + \"Fire\"\n",
    "epochs = 1\n",
    "\n",
    "batch_size = 10\n",
    "\n",
    "\n",
    "train_ids = next(os.walk(train_path))[2]\n",
    "\n",
    "\n",
    "val_data_size = 100\n",
    "\n",
    "valid_ids = train_ids[:val_data_size]\n",
    "train_ids = train_ids[val_data_size:]\n",
    "print(valid_ids)\n",
    "print(train_ids)"
   ]
  },
  {
   "cell_type": "code",
   "execution_count": null,
   "id": "7b7a0a87",
   "metadata": {
    "execution": {
     "iopub.execute_input": "2023-11-20T03:27:07.080319Z",
     "iopub.status.busy": "2023-11-20T03:27:07.079897Z",
     "iopub.status.idle": "2023-11-20T03:27:07.265238Z",
     "shell.execute_reply": "2023-11-20T03:27:07.263875Z"
    },
    "papermill": {
     "duration": 0.308602,
     "end_time": "2023-11-20T03:27:07.267605",
     "exception": false,
     "start_time": "2023-11-20T03:27:06.959003",
     "status": "completed"
    },
    "tags": []
   },
   "outputs": [],
   "source": [
    "gen = DataGen(train_ids, train_path, batch_size=batch_size, image_size=image_size)\n",
    "x, y = gen.__getitem__(0)\n",
    "print(x.shape, y.shape)"
   ]
  },
  {
   "cell_type": "code",
   "execution_count": null,
   "id": "d5933b17",
   "metadata": {
    "execution": {
     "iopub.execute_input": "2023-11-20T03:27:07.501517Z",
     "iopub.status.busy": "2023-11-20T03:27:07.501091Z",
     "iopub.status.idle": "2023-11-20T03:27:07.859669Z",
     "shell.execute_reply": "2023-11-20T03:27:07.858731Z"
    },
    "papermill": {
     "duration": 0.479225,
     "end_time": "2023-11-20T03:27:07.862511",
     "exception": false,
     "start_time": "2023-11-20T03:27:07.383286",
     "status": "completed"
    },
    "tags": []
   },
   "outputs": [],
   "source": [
    "r = random.randint(0, len(x)-1)\n",
    "\n",
    "fig = plt.figure()\n",
    "fig.subplots_adjust(hspace=0.4, wspace=0.4)\n",
    "ax = fig.add_subplot(1, 2, 1)\n",
    "ax.imshow(x[r])\n",
    "ax = fig.add_subplot(1, 2, 2)\n",
    "ax.imshow(np.reshape(y[r], (image_size, image_size)), cmap=\"gray\")"
   ]
  },
  {
   "cell_type": "code",
   "execution_count": null,
   "id": "b52e699f",
   "metadata": {
    "execution": {
     "iopub.execute_input": "2023-11-20T03:27:08.089727Z",
     "iopub.status.busy": "2023-11-20T03:27:08.089293Z",
     "iopub.status.idle": "2023-11-20T03:27:08.101845Z",
     "shell.execute_reply": "2023-11-20T03:27:08.100852Z"
    },
    "papermill": {
     "duration": 0.128664,
     "end_time": "2023-11-20T03:27:08.104088",
     "exception": false,
     "start_time": "2023-11-20T03:27:07.975424",
     "status": "completed"
    },
    "tags": []
   },
   "outputs": [],
   "source": [
    "def down_block(x, filters, kernel_size=(3, 3), padding=\"same\", strides=1):\n",
    "    c = keras.layers.Conv2D(filters, kernel_size, padding=padding, strides=strides, activation=\"relu\")(x)\n",
    "    c = keras.layers.Conv2D(filters, kernel_size, padding=padding, strides=strides, activation=\"relu\")(c)\n",
    "    p = keras.layers.MaxPool2D((2, 2), (2, 2))(c)\n",
    "    return c, p\n",
    "\n",
    "def up_block(x, skip, filters, kernel_size=(3, 3), padding=\"same\", strides=1):\n",
    "    us = keras.layers.UpSampling2D((2, 2))(x)\n",
    "    concat = keras.layers.Concatenate()([us, skip])\n",
    "    c = keras.layers.Conv2D(filters, kernel_size, padding=padding, strides=strides, activation=\"relu\")(concat)\n",
    "    c = keras.layers.Conv2D(filters, kernel_size, padding=padding, strides=strides, activation=\"relu\")(c)\n",
    "    return c\n",
    "\n",
    "def bottleneck(x, filters, kernel_size=(3, 3), padding=\"same\", strides=1):\n",
    "    c = keras.layers.Conv2D(filters, kernel_size, padding=padding, strides=strides, activation=\"relu\")(x)\n",
    "    c = keras.layers.Conv2D(filters, kernel_size, padding=padding, strides=strides, activation=\"relu\")(c)\n",
    "    return c"
   ]
  },
  {
   "cell_type": "code",
   "execution_count": null,
   "id": "2ebe3bf4",
   "metadata": {
    "execution": {
     "iopub.execute_input": "2023-11-20T03:27:08.319884Z",
     "iopub.status.busy": "2023-11-20T03:27:08.318954Z",
     "iopub.status.idle": "2023-11-20T03:27:08.329357Z",
     "shell.execute_reply": "2023-11-20T03:27:08.328430Z"
    },
    "papermill": {
     "duration": 0.119921,
     "end_time": "2023-11-20T03:27:08.331504",
     "exception": false,
     "start_time": "2023-11-20T03:27:08.211583",
     "status": "completed"
    },
    "tags": []
   },
   "outputs": [],
   "source": [
    "def UNet():\n",
    "    f = [16, 32, 64, 128, 256]\n",
    "    inputs = keras.layers.Input((image_size, image_size, 3))\n",
    "    \n",
    "    p0 = inputs\n",
    "    c1, p1 = down_block(p0, f[0])  \n",
    "    c2, p2 = down_block(p1, f[1])  \n",
    "    c3, p3 = down_block(p2, f[2])  \n",
    "    c4, p4 = down_block(p3, f[3]) \n",
    "    \n",
    "    bn = bottleneck(p4, f[4])\n",
    "    \n",
    "    u1 = up_block(bn, c4, f[3]) \n",
    "    u2 = up_block(u1, c3, f[2]) \n",
    "    u3 = up_block(u2, c2, f[1]) \n",
    "    u4 = up_block(u3, c1, f[0])  \n",
    "    \n",
    "    outputs = keras.layers.Conv2D(1, (1, 1), padding=\"same\", activation=\"sigmoid\")(u4)\n",
    "    model = keras.models.Model(inputs, outputs)\n",
    "    return model"
   ]
  },
  {
   "cell_type": "code",
   "execution_count": null,
   "id": "ccc27ba7",
   "metadata": {
    "execution": {
     "iopub.execute_input": "2023-11-20T03:27:08.552579Z",
     "iopub.status.busy": "2023-11-20T03:27:08.552121Z",
     "iopub.status.idle": "2023-11-20T03:27:12.878924Z",
     "shell.execute_reply": "2023-11-20T03:27:12.877735Z"
    },
    "papermill": {
     "duration": 4.443938,
     "end_time": "2023-11-20T03:27:12.881685",
     "exception": false,
     "start_time": "2023-11-20T03:27:08.437747",
     "status": "completed"
    },
    "tags": []
   },
   "outputs": [],
   "source": [
    "model = UNet()\n",
    "model.compile(optimizer=\"adam\", loss=\"binary_crossentropy\", metrics=[\"acc\"])\n",
    "model.summary()"
   ]
  },
  {
   "cell_type": "code",
   "execution_count": null,
   "id": "d112aaf6",
   "metadata": {
    "execution": {
     "iopub.execute_input": "2023-11-20T03:27:13.102614Z",
     "iopub.status.busy": "2023-11-20T03:27:13.102211Z",
     "iopub.status.idle": "2023-11-20T03:33:51.710726Z",
     "shell.execute_reply": "2023-11-20T03:33:51.709669Z"
    },
    "papermill": {
     "duration": 398.721013,
     "end_time": "2023-11-20T03:33:51.713076",
     "exception": false,
     "start_time": "2023-11-20T03:27:12.992063",
     "status": "completed"
    },
    "tags": []
   },
   "outputs": [],
   "source": [
    "train_gen = DataGen(train_ids, train_path, image_size=image_size, batch_size=batch_size)\n",
    "valid_gen = DataGen(valid_ids, train_path, image_size=image_size, batch_size=batch_size)\n",
    "\n",
    "train_steps = len(train_ids)//batch_size\n",
    "valid_steps = len(valid_ids)//batch_size\n",
    "\n",
    "model.fit_generator(train_gen, validation_data=valid_gen, steps_per_epoch=train_steps,\n",
    "                    validation_steps=valid_steps, epochs=epochs)"
   ]
  },
  {
   "cell_type": "code",
   "execution_count": null,
   "id": "20e37aee",
   "metadata": {
    "execution": {
     "iopub.execute_input": "2023-11-20T03:33:52.421326Z",
     "iopub.status.busy": "2023-11-20T03:33:52.420939Z",
     "iopub.status.idle": "2023-11-20T03:33:52.745431Z",
     "shell.execute_reply": "2023-11-20T03:33:52.744503Z"
    },
    "papermill": {
     "duration": 0.724728,
     "end_time": "2023-11-20T03:33:52.747837",
     "exception": false,
     "start_time": "2023-11-20T03:33:52.023109",
     "status": "completed"
    },
    "tags": []
   },
   "outputs": [],
   "source": [
    "model.save_weights(\"UNetW.h5\")\n",
    "\n",
    "\n",
    "x, y = valid_gen.__getitem__(2)\n",
    "result = model.predict(x)\n",
    "\n",
    "result = result > 0.5"
   ]
  },
  {
   "cell_type": "code",
   "execution_count": null,
   "id": "753b726e",
   "metadata": {
    "execution": {
     "iopub.execute_input": "2023-11-20T03:33:53.385228Z",
     "iopub.status.busy": "2023-11-20T03:33:53.384790Z",
     "iopub.status.idle": "2023-11-20T03:33:53.689109Z",
     "shell.execute_reply": "2023-11-20T03:33:53.688105Z"
    },
    "papermill": {
     "duration": 0.625166,
     "end_time": "2023-11-20T03:33:53.691270",
     "exception": false,
     "start_time": "2023-11-20T03:33:53.066104",
     "status": "completed"
    },
    "tags": []
   },
   "outputs": [],
   "source": [
    "fig = plt.figure()\n",
    "fig.subplots_adjust(hspace=0.4, wspace=0.4)\n",
    "\n",
    "ax = fig.add_subplot(1, 2, 1)\n",
    "ax.imshow(np.reshape(y[0]*255, (image_size, image_size)), cmap=\"gray\")\n",
    "\n",
    "ax = fig.add_subplot(1, 2, 2)\n",
    "ax.imshow(np.reshape(result[0]*255, (image_size, image_size)), cmap=\"gray\")"
   ]
  },
  {
   "cell_type": "code",
   "execution_count": null,
   "id": "0634cb97",
   "metadata": {
    "execution": {
     "iopub.execute_input": "2023-11-20T03:33:54.341187Z",
     "iopub.status.busy": "2023-11-20T03:33:54.340777Z",
     "iopub.status.idle": "2023-11-20T03:33:54.654514Z",
     "shell.execute_reply": "2023-11-20T03:33:54.653567Z"
    },
    "papermill": {
     "duration": 0.636667,
     "end_time": "2023-11-20T03:33:54.656597",
     "exception": false,
     "start_time": "2023-11-20T03:33:54.019930",
     "status": "completed"
    },
    "tags": []
   },
   "outputs": [],
   "source": [
    "fig = plt.figure()\n",
    "fig.subplots_adjust(hspace=0.4, wspace=0.4)\n",
    "\n",
    "ax = fig.add_subplot(1, 2, 1)\n",
    "ax.imshow(np.reshape(y[1]*255, (image_size, image_size)), cmap=\"gray\")\n",
    "\n",
    "ax = fig.add_subplot(1, 2, 2)\n",
    "ax.imshow(np.reshape(result[1]*255, (image_size, image_size)), cmap=\"gray\")"
   ]
  }
 ],
 "metadata": {
  "kaggle": {
   "accelerator": "nvidiaTeslaT4",
   "dataSources": [
    {
     "datasetId": 1958859,
     "sourceId": 3230707,
     "sourceType": "datasetVersion"
    }
   ],
   "dockerImageVersionId": 30302,
   "isGpuEnabled": true,
   "isInternetEnabled": true,
   "language": "python",
   "sourceType": "notebook"
  },
  "kernelspec": {
   "display_name": "t",
   "language": "python",
   "name": "python3"
  },
  "language_info": {
   "codemirror_mode": {
    "name": "ipython",
    "version": 3
   },
   "file_extension": ".py",
   "mimetype": "text/x-python",
   "name": "python",
   "nbconvert_exporter": "python",
   "pygments_lexer": "ipython3",
   "version": "3.9.21"
  },
  "papermill": {
   "default_parameters": {},
   "duration": 522.874118,
   "end_time": "2023-11-20T03:33:58.601550",
   "environment_variables": {},
   "exception": null,
   "input_path": "__notebook__.ipynb",
   "output_path": "__notebook__.ipynb",
   "parameters": {},
   "start_time": "2023-11-20T03:25:15.727432",
   "version": "2.3.4"
  }
 },
 "nbformat": 4,
 "nbformat_minor": 5
}
