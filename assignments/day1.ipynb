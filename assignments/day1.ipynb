{
 "cells": [
  {
   "cell_type": "code",
   "execution_count": null,
   "id": "c929632c-85ae-4342-8407-ba4722f0a1d8",
   "metadata": {},
   "outputs": [],
   "source": [
    "# list, str is a reserved keyword - dont use as var\n",
    "\n",
    "# list, dict, tuple, comprehensions\n",
    "\n",
    "# docstring - decumentation desc,\n",
    "# fn.__doc__\n",
    "\n",
    "# type hinting: def fn(para:type) -> returnType:"
   ]
  },
  {
   "cell_type": "code",
   "execution_count": 1,
   "id": "911d7cd1-113c-4f46-b120-3eb2e0cc65ad",
   "metadata": {},
   "outputs": [],
   "source": [
    "# 1. Given a year, determine whether it is a leap year. If it is a leap year, return the Boolean True, otherwise return False.\n",
    "\n",
    "def leap(year):\n",
    "    if (year % 4 == 0 and year % 100 != 0) or (year % 400 == 0):\n",
    "        return True\n",
    "    return False"
   ]
  },
  {
   "cell_type": "code",
   "execution_count": 2,
   "id": "57c0c907-19ff-4652-acb7-c98a112b9dfe",
   "metadata": {},
   "outputs": [
    {
     "data": {
      "text/plain": [
       "False"
      ]
     },
     "execution_count": 2,
     "metadata": {},
     "output_type": "execute_result"
    }
   ],
   "source": [
    "leap(2200)"
   ]
  },
  {
   "cell_type": "code",
   "execution_count": 3,
   "id": "51435e22-ea50-4ae4-b737-c629818326f8",
   "metadata": {},
   "outputs": [],
   "source": [
    "# 2. takes two lists of integers as arguments and returns a new listcontaining only the numbers that are present in both lists\n",
    "\n",
    "def common(list1,list2):\n",
    "    return list(set(list1) & set(list2))"
   ]
  },
  {
   "cell_type": "code",
   "execution_count": 4,
   "id": "6b9c7520-566f-4f1e-a0d1-f54257c34e8c",
   "metadata": {},
   "outputs": [
    {
     "data": {
      "text/plain": [
       "[1, 3, 5]"
      ]
     },
     "execution_count": 4,
     "metadata": {},
     "output_type": "execute_result"
    }
   ],
   "source": [
    "l1 = [1,2,3,4,5,5]\n",
    "l2 = [1,3,3,5,7,9]\n",
    "\n",
    "common(l1, l2)"
   ]
  },
  {
   "cell_type": "code",
   "execution_count": 5,
   "id": "8014ee6a-a6fc-48df-a63f-9dfed3a66846",
   "metadata": {},
   "outputs": [],
   "source": [
    "# 3. takes a string as an argument and returns a dictionary where each key is a unique word in the string and the value is a list of the indices where that\n",
    "\n",
    "def dictionary(str):\n",
    "    str = str.split()\n",
    "    d = {}\n",
    "    for i, word in enumerate(str):\n",
    "        if word not in d:\n",
    "            d[word] = [i]\n",
    "        else:\n",
    "            d[word].append(i)\n",
    "    return d\n",
    "\n",
    "# setdefault function use"
   ]
  },
  {
   "cell_type": "code",
   "execution_count": 6,
   "id": "d385338f-7e4e-40f9-8985-520cb9a99f26",
   "metadata": {},
   "outputs": [
    {
     "data": {
      "text/plain": [
       "{'Write': [0],\n",
       " 'a': [1, 6, 13, 19],\n",
       " 'Python': [2],\n",
       " 'program': [3],\n",
       " 'that': [4],\n",
       " 'takes': [5],\n",
       " 'string': [7, 24],\n",
       " 'as': [8],\n",
       " 'an': [9],\n",
       " 'argument': [10],\n",
       " 'and': [11],\n",
       " 'returns': [12],\n",
       " 'dictionary': [14],\n",
       " 'where': [15],\n",
       " 'each': [16],\n",
       " 'key': [17],\n",
       " 'is': [18],\n",
       " 'unique': [20],\n",
       " 'word': [21],\n",
       " 'in': [22],\n",
       " 'the': [23]}"
      ]
     },
     "execution_count": 6,
     "metadata": {},
     "output_type": "execute_result"
    }
   ],
   "source": [
    "s = \"Write a Python program that takes a string as an argument and returns a dictionary where each key is a unique word in the string\"\n",
    "dictionary(s)"
   ]
  },
  {
   "cell_type": "code",
   "execution_count": 7,
   "id": "2b40f520-5e5a-4c13-a8de-9f2bc5e1c2eb",
   "metadata": {},
   "outputs": [],
   "source": [
    "# 4. returns list with the elements sorted in descending order, but with all odd numbers appearing before all even numbers.\n",
    "\n",
    "def descending(list):\n",
    "    list.sort()\n",
    "    even = []\n",
    "    odd = []\n",
    "\n",
    "    for i in list:\n",
    "        if i % 2 == 0:\n",
    "            even.append(i)\n",
    "        else:\n",
    "            odd.append(i)\n",
    "    l = odd + even\n",
    "    return l\n",
    "    \n",
    "    # lambda function use"
   ]
  },
  {
   "cell_type": "code",
   "execution_count": 8,
   "id": "3d825df0-cfe7-46c8-8f13-00360ab814ea",
   "metadata": {},
   "outputs": [
    {
     "data": {
      "text/plain": [
       "[3, 5, 5, 0, 2, 2, 4, 6]"
      ]
     },
     "execution_count": 8,
     "metadata": {},
     "output_type": "execute_result"
    }
   ],
   "source": [
    "list=[3,5,2,5,6,4,2,0]\n",
    "descending(list)"
   ]
  },
  {
   "cell_type": "code",
   "execution_count": 9,
   "id": "2feb77de-cd36-4d1a-872c-a5633e8a057a",
   "metadata": {},
   "outputs": [],
   "source": [
    "# 5. takes two sets as arguments and returns a new set containing the elements that are in the first set but not in the second set,\n",
    "\n",
    "def sets(s1, s2):\n",
    "    first_only = set()\n",
    "    second_only = set()\n",
    "    for i in s1:\n",
    "        if i not in s2:\n",
    "            first_only.add(i)\n",
    "    for i in s2:\n",
    "        if i not in s1:\n",
    "            second_only.add(i)\n",
    "\n",
    "    return (first_only, second_only)\n",
    "    \n",
    "    # set function symmetric_difference\n",
    "    # s1 ^ s2"
   ]
  },
  {
   "cell_type": "code",
   "execution_count": 10,
   "id": "3d4c83b9-78af-41bc-b6dc-f6aff51bc5ca",
   "metadata": {},
   "outputs": [
    {
     "data": {
      "text/plain": [
       "({1, 4}, {6, 8})"
      ]
     },
     "execution_count": 10,
     "metadata": {},
     "output_type": "execute_result"
    }
   ],
   "source": [
    "sets({1,3,4,5},{5,3,6,8})"
   ]
  },
  {
   "cell_type": "code",
   "execution_count": 11,
   "id": "7ac0fe9b-2815-4505-a06d-2b210e97fc06",
   "metadata": {},
   "outputs": [],
   "source": [
    "# 6. takes a list of strings as argument and returns a new list containing only the strings that are palindromes.\n",
    "\n",
    "def palindromes(li):\n",
    "    l = []\n",
    "    for str in li:\n",
    "        if str == str[::-1]:\n",
    "            l.append(str)\n",
    "    return l\n",
    "    \n",
    "    # list comprehension"
   ]
  },
  {
   "cell_type": "code",
   "execution_count": 12,
   "id": "80649c44-efd5-4c13-9680-0921eeac0dfe",
   "metadata": {},
   "outputs": [
    {
     "data": {
      "text/plain": [
       "['racecar', 'eee', 'oo']"
      ]
     },
     "execution_count": 12,
     "metadata": {},
     "output_type": "execute_result"
    }
   ],
   "source": [
    "palindromes([\"hello\", \"racecar\", \"hijkl\", \"eee\", \"oo\"])"
   ]
  },
  {
   "cell_type": "code",
   "execution_count": 13,
   "id": "968da865-16aa-4cd6-a587-22f660b766b5",
   "metadata": {},
   "outputs": [],
   "source": [
    "# 7. takes a list of tuples, where each tuple contains a string and integer\n",
    "# returns a new list containing the tuples sorted by the length of the string, with ties broken by the value of the integer.\n",
    "\n",
    "def sort_list_of_tuples(li):\n",
    "    return sorted(li, key = lambda x: (len(x[0]), x[1]))"
   ]
  },
  {
   "cell_type": "code",
   "execution_count": 14,
   "id": "c02b7cbe-a68b-4250-956f-1c9de59c2539",
   "metadata": {},
   "outputs": [
    {
     "data": {
      "text/plain": [
       "[('of', 1), ('list', 3), ('tuples', 8)]"
      ]
     },
     "execution_count": 14,
     "metadata": {},
     "output_type": "execute_result"
    }
   ],
   "source": [
    "t = [(\"list\", 3), (\"of\", 1), (\"tuples\", 8)]\n",
    "sort_list_of_tuples(t)"
   ]
  },
  {
   "cell_type": "code",
   "execution_count": 15,
   "id": "6e58aa1a-b1e1-41aa-8816-aa7a8aad2576",
   "metadata": {},
   "outputs": [],
   "source": [
    "# 8. dictionary where the keys are sorted alphabetically and the values are sorted in descending order.\n",
    "\n",
    "def dict_sort(d):\n",
    "    for key, val in d.items():\n",
    "        print(key, val)\n",
    "        d[key] = sorted(val)\n",
    "    return sorted(d.items())\n",
    "    \n",
    "    # returns a tuple x\n",
    "    # dictionary comprehension"
   ]
  },
  {
   "cell_type": "code",
   "execution_count": 16,
   "id": "36f8971f-a7f5-495b-bcb3-18a7c232f205",
   "metadata": {},
   "outputs": [
    {
     "name": "stdout",
     "output_type": "stream",
     "text": [
      "b [3, 1, 7, 9]\n",
      "a [4, 9, 6]\n"
     ]
    },
    {
     "data": {
      "text/plain": [
       "[('a', [4, 6, 9]), ('b', [1, 3, 7, 9])]"
      ]
     },
     "execution_count": 16,
     "metadata": {},
     "output_type": "execute_result"
    }
   ],
   "source": [
    "d = {\"b\": [3,1,7,9], \"a\": [4,9,6]}\n",
    "dict_sort(d)"
   ]
  },
  {
   "cell_type": "code",
   "execution_count": 17,
   "id": "8e0d5480-e05f-4f12-b2b8-4173221b4afd",
   "metadata": {},
   "outputs": [],
   "source": [
    "# 9. list of tuples, where each tuple contains a string and a set of integers\n",
    "# returns a new list containing the tuples sorted by the sum of the integers in the set, with ties broken by the length of the string.\n",
    "\n",
    "def sort_sum(li):\n",
    "    l = sorted(li, key = lambda x: (sum(x[1]), len(x[0])))\n",
    "    return l"
   ]
  },
  {
   "cell_type": "code",
   "execution_count": 18,
   "id": "ed1bfb40-cdde-4b38-97b9-35e7b9fe8270",
   "metadata": {},
   "outputs": [
    {
     "data": {
      "text/plain": [
       "[('tuples', {1, 2, 3}),\n",
       " ('of', {5, 8}),\n",
       " ('sorted', {6, 7}),\n",
       " ('list', {4, 6, 10})]"
      ]
     },
     "execution_count": 18,
     "metadata": {},
     "output_type": "execute_result"
    }
   ],
   "source": [
    "t = [(\"list\", {10,6,4}), (\"of\", {8,5}), (\"tuples\", {1,2,3}), (\"sorted\", {7,6})]\n",
    "sort_sum(t)"
   ]
  },
  {
   "cell_type": "code",
   "execution_count": 19,
   "id": "f4e935a5-b030-40f2-af8e-19ba99a631cb",
   "metadata": {},
   "outputs": [],
   "source": [
    "# 10. takes a string as an argument and returns a new string where each word in the string is replaced with the word that appears most frequently\n",
    "\n",
    "# function to find most frequent word in str\n",
    "def freq(words):\n",
    "    counts = {}\n",
    "    for word in words:\n",
    "        if word in counts:\n",
    "            counts[word] += 1\n",
    "        else:\n",
    "            counts[word] = 1\n",
    "    \n",
    "    f = \"\"\n",
    "    max_count = 0\n",
    "    for word, count in counts.items():\n",
    "        if count > max_count:\n",
    "            f = word\n",
    "            max_count = count\n",
    "    return f\n",
    "    \n",
    "    # Counter from collections package -> returns dictionary\n",
    "    # most_common function\n",
    "\n",
    "def str_freq(str):\n",
    "    words = str.lower().split()\n",
    "    freq_word = freq(words)\n",
    "    new_str = [freq_word] * len(words)\n",
    "    return \" \".join(new_str)\n",
    "    "
   ]
  },
  {
   "cell_type": "code",
   "execution_count": 20,
   "id": "3ebbd6f9-a477-4f6a-8e27-9f27ec0e2425",
   "metadata": {},
   "outputs": [
    {
     "data": {
      "text/plain": [
       "'string string string string string string string string string string string string string string string string string string string string string string'"
      ]
     },
     "execution_count": 20,
     "metadata": {},
     "output_type": "execute_result"
    }
   ],
   "source": [
    "s = \"takes a string as and returns a new string where each word in string is replaced with the word that appears most\"\n",
    "str_freq(s)"
   ]
  },
  {
   "cell_type": "code",
   "execution_count": 21,
   "id": "95711f82-ae03-4958-bf5d-8fb5d57d27c5",
   "metadata": {},
   "outputs": [],
   "source": [
    "# 11. takes a list of tuples, where each tuple contains a string and a list of integers\n",
    "# returns a new list containing the tuples sorted by the median of the integers in the list, with ties broken by the length of the string.\n",
    "from statistics import median\n",
    "\n",
    "def sort_median(li):\n",
    "    return sorted(li, key = lambda x: (median(x[1]), len(x[0]))) "
   ]
  },
  {
   "cell_type": "code",
   "execution_count": 22,
   "id": "c716220c-de71-4cd0-b8d7-232d155fece0",
   "metadata": {},
   "outputs": [
    {
     "data": {
      "text/plain": [
       "[('tuples', {1, 2, 3}),\n",
       " ('sorted', {4, 8}),\n",
       " ('of', {5, 8}),\n",
       " ('list', {4, 6, 10})]"
      ]
     },
     "execution_count": 22,
     "metadata": {},
     "output_type": "execute_result"
    }
   ],
   "source": [
    "t = [(\"list\", {10,6,4}), (\"of\", {8,5}), (\"tuples\", {1,2,3}), (\"sorted\", {4,8})]\n",
    "sort_median(t)"
   ]
  },
  {
   "cell_type": "code",
   "execution_count": 23,
   "id": "3594c339-8ba9-42e7-9e92-a614f4bea25d",
   "metadata": {},
   "outputs": [],
   "source": [
    "# 12. Given an integer array nums, rotate the array to the right by k steps, where k is non-negative.\n",
    "\n",
    "def rotate(li, k):\n",
    "    k = k % len(li)\n",
    "    li = li[::-1]         # O(n)   do li[:]\n",
    "    li[:k] = li[:k][::-1]\n",
    "    li[k:] = li[k:][::-1]\n",
    "    return li"
   ]
  },
  {
   "cell_type": "code",
   "execution_count": 24,
   "id": "d79267df-cda2-413e-8928-7b07ecd822f3",
   "metadata": {},
   "outputs": [
    {
     "data": {
      "text/plain": [
       "[5, 6, 7, 1, 2, 3, 4]"
      ]
     },
     "execution_count": 24,
     "metadata": {},
     "output_type": "execute_result"
    }
   ],
   "source": [
    "nums = [1,2,3,4,5,6,7]\n",
    "k = 3\n",
    "rotate(nums,k)"
   ]
  },
  {
   "cell_type": "code",
   "execution_count": null,
   "id": "7c4fb0b0-6cdf-46a2-adbe-18df0ade9b9d",
   "metadata": {},
   "outputs": [],
   "source": []
  }
 ],
 "metadata": {
  "kernelspec": {
   "display_name": "Python 3 (ipykernel)",
   "language": "python",
   "name": "python3"
  },
  "language_info": {
   "codemirror_mode": {
    "name": "ipython",
    "version": 3
   },
   "file_extension": ".py",
   "mimetype": "text/x-python",
   "name": "python",
   "nbconvert_exporter": "python",
   "pygments_lexer": "ipython3",
   "version": "3.11.7"
  }
 },
 "nbformat": 4,
 "nbformat_minor": 5
}
