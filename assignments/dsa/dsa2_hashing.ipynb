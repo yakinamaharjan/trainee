{
 "cells": [
  {
   "cell_type": "markdown",
   "metadata": {},
   "source": [
    "### Hashing using Chaining\n",
    "Construct a class for Hashing using chaining, include setitem, getitem, delitem, len, and str magic methods."
   ]
  },
  {
   "cell_type": "code",
   "execution_count": 72,
   "metadata": {},
   "outputs": [],
   "source": [
    "class Hash(object):\n",
    "    def __init__(self, size):\n",
    "        self.size = size\n",
    "        self.table = [[] for _ in range(size)]\n",
    "        self.count = 0\n",
    "\n",
    "    def hashFunction(self, key):\n",
    "        return (key % self.size)\n",
    "\n",
    "    def __setitem__(self, key, value=None):\n",
    "        index = self.hashFunction(key)\n",
    "        self.table[index].append(key)\n",
    "        self.count += 1\n",
    "    \n",
    "    def __getitem__(self, key):\n",
    "        index = self.hashFunction(key)\n",
    "        return self.table[index]\n",
    "\n",
    "    def __delitem__(self, key):\n",
    "        index = self.hashFunction(key)\n",
    "\n",
    "        if key not in self.table[index]:\n",
    "            return\n",
    "\n",
    "        self.table[index].remove(key)\n",
    "        self.count -= 1\n",
    "\n",
    "    def __len__(self):\n",
    "        return self.count\n",
    "\n",
    "    def __str__(self):\n",
    "        result = []\n",
    "        for i, b in enumerate(self.table):\n",
    "            if b:\n",
    "                result.append(f\"[{i}] -> \" + \" -> \".join(map(str, b)))\n",
    "            else:\n",
    "                result.append(f\"[{i}]\")\n",
    "        return \"\\n\".join(result)\n",
    "        "
   ]
  },
  {
   "cell_type": "code",
   "execution_count": 73,
   "metadata": {},
   "outputs": [
    {
     "name": "stdout",
     "output_type": "stream",
     "text": [
      "[0] -> 10\n",
      "[1] -> 11\n",
      "[2] -> 12\n",
      "[3]\n",
      "[4] -> 14 -> 24\n",
      "[5] -> 15 -> 25 -> 5\n",
      "[6]\n",
      "[7] -> 27\n",
      "[8] -> 8\n",
      "[9] -> 59\n",
      "Size:  11\n",
      "\n",
      "Deleting '12'\n",
      "[0] -> 10\n",
      "[1] -> 11\n",
      "[2]\n",
      "[3]\n",
      "[4] -> 14 -> 24\n",
      "[5] -> 15 -> 25 -> 5\n",
      "[6]\n",
      "[7] -> 27\n",
      "[8] -> 8\n",
      "[9] -> 59\n",
      "Size:  10\n"
     ]
    }
   ],
   "source": [
    "a = [15, 11, 27, 8, 12, 14, 24, 25, 10, 5, 59]\n",
    "h = Hash(10)\n",
    "\n",
    "for x in a:\n",
    "    h[x] = None\n",
    "print(h)\n",
    "print(\"Size: \", len(h))\n",
    "\n",
    "print(\"\\nDeleting '12'\")\n",
    "del h[12]\n",
    "print(h)\n",
    "print(\"Size: \", len(h))"
   ]
  },
  {
   "cell_type": "code",
   "execution_count": null,
   "metadata": {},
   "outputs": [],
   "source": []
  }
 ],
 "metadata": {
  "kernelspec": {
   "display_name": "traineeship",
   "language": "python",
   "name": "python3"
  },
  "language_info": {
   "codemirror_mode": {
    "name": "ipython",
    "version": 3
   },
   "file_extension": ".py",
   "mimetype": "text/x-python",
   "name": "python",
   "nbconvert_exporter": "python",
   "pygments_lexer": "ipython3",
   "version": "3.12.8"
  }
 },
 "nbformat": 4,
 "nbformat_minor": 2
}
