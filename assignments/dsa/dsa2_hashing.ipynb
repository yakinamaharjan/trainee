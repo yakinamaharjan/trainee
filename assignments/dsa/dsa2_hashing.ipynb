{
 "cells": [
  {
   "cell_type": "markdown",
   "metadata": {},
   "source": [
    "### Hashing using Chaining\n",
    "Construct a class for Hashing using chaining, include setitem, getitem, delitem, len, and str magic methods."
   ]
  },
  {
   "cell_type": "code",
   "execution_count": 1,
   "metadata": {},
   "outputs": [],
   "source": [
    "class Hash(object):\n",
    "    def __init__(self, bucket):\n",
    "        self.__bucket = bucket\n",
    "        self.__table = [[] for _ in range(bucket)]\n",
    "\n",
    "    def hashFunction(self, key):\n",
    "        return (key % self.__bucket)\n",
    "\n",
    "    def insertItem(self, key):\n",
    "        index = self.hashFunction(key)\n",
    "        self.__table[index].append(key)\n",
    "\n",
    "    def deleteItem(self, key):\n",
    "        index = self.hashFunction(key)\n",
    "\n",
    "        if key not in self.__table[index]:\n",
    "            return\n",
    "\n",
    "        self.__table[index].remove(key)\n",
    "\n",
    "    def displayHash(self):\n",
    "        for i in range(self.__bucket):\n",
    "            print(\"[%d]\" % i, end='')\n",
    "            for x in self.__table[i]:\n",
    "                print(\" -> %d\" % x, end='')\n",
    "            print()"
   ]
  },
  {
   "cell_type": "code",
   "execution_count": 2,
   "metadata": {},
   "outputs": [
    {
     "name": "stdout",
     "output_type": "stream",
     "text": [
      "[0] -> 10\n",
      "[1]\n",
      "[2] -> 12\n",
      "[3]\n",
      "[4] -> 14 -> 24\n",
      "[5] -> 15 -> 25 -> 5\n",
      "[6]\n",
      "[7] -> 27\n",
      "[8] -> 8\n",
      "[9]\n"
     ]
    }
   ],
   "source": [
    "a = [15, 11, 27, 8, 12, 14, 24, 25, 10, 5]\n",
    "h = Hash(10)\n",
    "\n",
    "for x in a:\n",
    "    h.insertItem(x)\n",
    "\n",
    "h.deleteItem(11)\n",
    "h.displayHash()"
   ]
  },
  {
   "cell_type": "code",
   "execution_count": null,
   "metadata": {},
   "outputs": [],
   "source": []
  }
 ],
 "metadata": {
  "kernelspec": {
   "display_name": "traineeship",
   "language": "python",
   "name": "python3"
  },
  "language_info": {
   "codemirror_mode": {
    "name": "ipython",
    "version": 3
   },
   "file_extension": ".py",
   "mimetype": "text/x-python",
   "name": "python",
   "nbconvert_exporter": "python",
   "pygments_lexer": "ipython3",
   "version": "3.12.8"
  }
 },
 "nbformat": 4,
 "nbformat_minor": 2
}
