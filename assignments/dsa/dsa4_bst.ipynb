{
 "cells": [
  {
   "cell_type": "markdown",
   "metadata": {},
   "source": [
    "### Binary Search Tree\n",
    "insert, search, delete and traverse operations"
   ]
  },
  {
   "cell_type": "code",
   "execution_count": 2,
   "metadata": {},
   "outputs": [],
   "source": [
    "class Node:\n",
    "    def __init__(self, key):\n",
    "        self.key = key\n",
    "        self.left = None\n",
    "        self.right = None\n",
    "\n",
    "class BST:\n",
    "    def __init__(self):\n",
    "        self.root = None\n",
    "\n",
    "    def insert(self, key):\n",
    "        self.root = self._insert(self.root, key)\n",
    "\n",
    "    def _insert(self, root, key):\n",
    "        if root is None:\n",
    "            return Node(key)\n",
    "        if key < root.key:\n",
    "            root.left = self._insert(root.left, key)\n",
    "        else:\n",
    "            root.right = self._insert(root.right, key)\n",
    "        return root\n",
    "\n",
    "    def search(self, key):\n",
    "        return self._search(self.root, key)\n",
    "\n",
    "    def _search(self, root, key):\n",
    "        if root is None:\n",
    "            return False\n",
    "        if root.key == key:\n",
    "            return True\n",
    "        if key < root.key:\n",
    "            return self._search(root.left, key)\n",
    "        return self._search(root.right, key)\n",
    "\n",
    "    def delete(self, key):\n",
    "        self.root = self._delete(self.root, key)\n",
    "\n",
    "    def _delete(self, root, key):\n",
    "        if root is None:\n",
    "            return root\n",
    "\n",
    "        if key < root.key:\n",
    "            root.left = self._delete(root.left, key)\n",
    "        elif key > root.key:\n",
    "            root.right = self._delete(root.right, key)\n",
    "        else:\n",
    "            if root.left is None:\n",
    "                return root.right\n",
    "            elif root.right is None:\n",
    "                return root.left\n",
    "\n",
    "            min_larger_node = self.getMin(root.right)\n",
    "            root.key = min_larger_node.key\n",
    "            root.right = self._delete(root.right, min_larger_node.key)\n",
    "\n",
    "        return root\n",
    "\n",
    "    def getMin(self, node):\n",
    "        current = node\n",
    "        while current.left is not None:\n",
    "            current = current.left\n",
    "        return current\n",
    "\n",
    "    def inorder(self, root):\n",
    "        if root:\n",
    "            self.inorder(root.left)\n",
    "            print(root.key, end=\" \")\n",
    "            self.inorder(root.right)"
   ]
  },
  {
   "cell_type": "code",
   "execution_count": 3,
   "metadata": {},
   "outputs": [
    {
     "name": "stdout",
     "output_type": "stream",
     "text": [
      "Inorder Traversal:\n",
      "20 30 40 50 60 70 80 \n",
      "\n",
      "Search 40: True\n",
      "Search 90: False\n",
      "\n",
      "Deleted 50:\n",
      "20 30 40 60 70 80 "
     ]
    }
   ],
   "source": [
    "l = [50, 30, 70, 20, 40, 60, 80]\n",
    "\n",
    "bst = BST()\n",
    "for i in l:\n",
    "    bst.insert(i)\n",
    "\n",
    "print(\"Inorder Traversal:\")\n",
    "bst.inorder(bst.root)\n",
    "print(\"\\n\")\n",
    "\n",
    "print(\"Search 40:\", bst.search(40)) \n",
    "print(\"Search 90:\", bst.search(90)) \n",
    "\n",
    "bst.delete(50) \n",
    "print(\"\\nDeleted 50:\")\n",
    "bst.inorder(bst.root)"
   ]
  },
  {
   "cell_type": "code",
   "execution_count": null,
   "metadata": {},
   "outputs": [],
   "source": []
  },
  {
   "cell_type": "code",
   "execution_count": null,
   "metadata": {},
   "outputs": [],
   "source": []
  }
 ],
 "metadata": {
  "kernelspec": {
   "display_name": "traineeship",
   "language": "python",
   "name": "python3"
  },
  "language_info": {
   "codemirror_mode": {
    "name": "ipython",
    "version": 3
   },
   "file_extension": ".py",
   "mimetype": "text/x-python",
   "name": "python",
   "nbconvert_exporter": "python",
   "pygments_lexer": "ipython3",
   "version": "3.12.8"
  }
 },
 "nbformat": 4,
 "nbformat_minor": 2
}
