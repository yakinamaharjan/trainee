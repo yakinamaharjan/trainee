{
 "cells": [
  {
   "cell_type": "markdown",
   "metadata": {},
   "source": [
    "### Stack and Queue using Linked List"
   ]
  },
  {
   "cell_type": "code",
   "execution_count": 1,
   "metadata": {},
   "outputs": [],
   "source": [
    "class Node:\n",
    "    def __init__(self, data: int):\n",
    "        self.data = data\n",
    "        self.next = None"
   ]
  },
  {
   "cell_type": "code",
   "execution_count": null,
   "metadata": {},
   "outputs": [],
   "source": [
    "class Stack:\n",
    "    def __init__(self):\n",
    "        self.head = None\n",
    "\n",
    "    def push(self, data: int):\n",
    "        node = Node(data)\n",
    "        node.next = self.head\n",
    "        self.head = node\n",
    "\n",
    "    def pop(self):\n",
    "        if self.head is None:\n",
    "            print(\"The stack is empty\")\n",
    "            return None\n",
    "        popped = self.head.data\n",
    "        self.head = self.head.next\n",
    "        return popped\n",
    "\n",
    "    def is_empty(self):\n",
    "        return (self.head is None)\n",
    "    \n",
    "    def peek(self):\n",
    "        if not self.is_empty():\n",
    "            print(\"Top element is\", self.head.data)\n",
    "        else:\n",
    "            print(\"Stack is empty\")"
   ]
  },
  {
   "cell_type": "code",
   "execution_count": 3,
   "metadata": {},
   "outputs": [
    {
     "name": "stdout",
     "output_type": "stream",
     "text": [
      "Pushing 1 to 4:\n",
      "Top element is 4\n",
      "Popping two times:\n",
      "Top element is 2\n",
      "Push '10'\n",
      "Top element is 10\n"
     ]
    }
   ],
   "source": [
    "st = Stack()\n",
    "\n",
    "print(\"Pushing 1 to 4:\")\n",
    "st.push(1)\n",
    "st.push(2)\n",
    "st.push(3)\n",
    "st.push(4)\n",
    "st.peek()\n",
    "\n",
    "print(\"Popping two times:\")\n",
    "st.pop()\n",
    "st.pop()\n",
    "st.peek()\n",
    "\n",
    "print(\"Push '10'\")\n",
    "st.push(10)\n",
    "st.peek()"
   ]
  },
  {
   "cell_type": "code",
   "execution_count": 4,
   "metadata": {},
   "outputs": [],
   "source": [
    "class Queue:\n",
    "    def __init__(self):\n",
    "        self.front = None\n",
    "        self.rear = None\n",
    "\n",
    "    def enqueue(self, data: int):\n",
    "        new_node = Node(data)\n",
    "        if self.rear is None:\n",
    "            self.front = self.rear = new_node\n",
    "            return\n",
    "        self.rear.next = new_node\n",
    "        self.rear = new_node\n",
    "\n",
    "    def dequeue(self):\n",
    "        if self.is_empty():\n",
    "            print(\"Cannot dequeue - queue empty\")\n",
    "            return\n",
    "        temp = self.front\n",
    "        self.front = self.front.next\n",
    "        if self.front is None:\n",
    "            self.rear = None\n",
    "\n",
    "    def get_front(self):\n",
    "        if self.is_empty():\n",
    "            print(\"Queue is empty\")\n",
    "            return None\n",
    "        return self.front.data\n",
    "        \n",
    "    def get_rear(self):\n",
    "        if self.is_empty():\n",
    "            print(\"Queue is empty\")\n",
    "            return None\n",
    "        return self.rear.data\n",
    "\n",
    "    def is_empty(self):\n",
    "        return (self.front is None and self.rear is None)"
   ]
  },
  {
   "cell_type": "code",
   "execution_count": 5,
   "metadata": {},
   "outputs": [
    {
     "name": "stdout",
     "output_type": "stream",
     "text": [
      "Adding four items to the queue:\n",
      "Queue Front: 1\n",
      "Queue Rear: 4\n",
      "Queue Front: 3\n",
      "Queue Rear: 4\n",
      "Queue Front: 3\n",
      "Queue Rear: 10\n"
     ]
    }
   ],
   "source": [
    "q = Queue()\n",
    "\n",
    "print(\"Adding four items to the queue:\")\n",
    "q.enqueue(1)\n",
    "q.enqueue(2)\n",
    "q.enqueue(3)\n",
    "q.enqueue(4)\n",
    "print(\"Queue Front:\", q.get_front())\n",
    "print(\"Queue Rear:\", q.get_rear())\n",
    "\n",
    "q.dequeue()\n",
    "q.dequeue()\n",
    "print(\"Queue Front:\", q.get_front())\n",
    "print(\"Queue Rear:\", q.get_rear())\n",
    "\n",
    "q.enqueue(10)\n",
    "print(\"Queue Front:\", q.get_front())\n",
    "print(\"Queue Rear:\", q.get_rear())"
   ]
  }
 ],
 "metadata": {
  "kernelspec": {
   "display_name": "traineeship",
   "language": "python",
   "name": "python3"
  },
  "language_info": {
   "codemirror_mode": {
    "name": "ipython",
    "version": 3
   },
   "file_extension": ".py",
   "mimetype": "text/x-python",
   "name": "python",
   "nbconvert_exporter": "python",
   "pygments_lexer": "ipython3",
   "version": "3.12.8"
  }
 },
 "nbformat": 4,
 "nbformat_minor": 2
}
