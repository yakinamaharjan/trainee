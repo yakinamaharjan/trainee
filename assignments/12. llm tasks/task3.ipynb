{
 "cells": [
  {
   "cell_type": "code",
   "execution_count": 1,
   "id": "c26c12a0",
   "metadata": {},
   "outputs": [],
   "source": [
    "from langchain.chat_models import ChatOpenAI\n",
    "from langchain.document_loaders import PyPDFLoader\n",
    "from langchain.text_splitter import RecursiveCharacterTextSplitter\n",
    "from langchain.chains.summarize import load_summarize_chain\n",
    "\n",
    "import os\n",
    "from dotenv import load_dotenv, find_dotenv\n",
    "\n",
    "_ = load_dotenv(find_dotenv())\n",
    "k = os.getenv('KEY')"
   ]
  },
  {
   "cell_type": "code",
   "execution_count": 2,
   "id": "d38d8cef",
   "metadata": {},
   "outputs": [
    {
     "name": "stderr",
     "output_type": "stream",
     "text": [
      "C:\\Users\\Yakina\\AppData\\Local\\Temp\\ipykernel_19576\\79665197.py:1: LangChainDeprecationWarning: The class `ChatOpenAI` was deprecated in LangChain 0.0.10 and will be removed in 1.0. An updated version of the class exists in the :class:`~langchain-openai package and should be used instead. To use it run `pip install -U :class:`~langchain-openai` and import as `from :class:`~langchain_openai import ChatOpenAI``.\n",
      "  llm = ChatOpenAI(\n"
     ]
    }
   ],
   "source": [
    "llm = ChatOpenAI(\n",
    "    openai_api_key=k,\n",
    "    openai_api_base=\"https://api.groq.com/openai/v1\",\n",
    "    model_name=\"llama3-70b-8192\",\n",
    "    temperature=0.0\n",
    ")"
   ]
  },
  {
   "cell_type": "code",
   "execution_count": 3,
   "id": "d8bc8bf9",
   "metadata": {},
   "outputs": [],
   "source": [
    "loader = PyPDFLoader(\"qc.pdf\")\n",
    "documents = loader.load()"
   ]
  },
  {
   "cell_type": "code",
   "execution_count": 4,
   "id": "7d6d6566",
   "metadata": {},
   "outputs": [],
   "source": [
    "text_splitter = RecursiveCharacterTextSplitter(chunk_size=1000, chunk_overlap=100)\n",
    "texts = text_splitter.split_documents(documents)"
   ]
  },
  {
   "cell_type": "code",
   "execution_count": 5,
   "id": "5b90cdf7",
   "metadata": {},
   "outputs": [],
   "source": [
    "chain = load_summarize_chain(llm, chain_type=\"map_reduce\")"
   ]
  },
  {
   "cell_type": "code",
   "execution_count": 6,
   "id": "f1a5e029",
   "metadata": {},
   "outputs": [
    {
     "name": "stderr",
     "output_type": "stream",
     "text": [
      "C:\\Users\\Yakina\\AppData\\Local\\Temp\\ipykernel_19576\\57382617.py:1: LangChainDeprecationWarning: The method `Chain.run` was deprecated in langchain 0.1.0 and will be removed in 1.0. Use :meth:`~invoke` instead.\n",
      "  summary = chain.run(texts)\n",
      "c:\\Users\\Yakina\\anaconda3\\envs\\tr\\Lib\\site-packages\\langchain_community\\chat_models\\openai.py:174: UserWarning: Unexpected type for token usage: <class 'NoneType'>\n",
      "  warnings.warn(f\"Unexpected type for token usage: {type(new_usage)}\")\n",
      "c:\\Users\\Yakina\\anaconda3\\envs\\tr\\Lib\\site-packages\\langchain_community\\chat_models\\openai.py:174: UserWarning: Unexpected type for token usage: <class 'float'>\n",
      "  warnings.warn(f\"Unexpected type for token usage: {type(new_usage)}\")\n",
      "Warning: model not found. Using cl100k_base encoding.\n"
     ]
    }
   ],
   "source": [
    "summary = chain.run(texts) "
   ]
  },
  {
   "cell_type": "code",
   "execution_count": 7,
   "id": "da7538a6",
   "metadata": {},
   "outputs": [
    {
     "name": "stdout",
     "output_type": "stream",
     "text": [
      "Here is a concise summary of the report on post-quantum cryptography by NIST:\n",
      "\n",
      "**Background**: Quantum computers could break current encryption methods, compromising online security. To address this, \"post-quantum cryptography\" aims to develop secure encryption methods that resist both quantum and classical computers.\n",
      "\n",
      "**NIST's Plan**: NIST outlines a plan to transition to post-quantum cryptography, emphasizing the need for \"crypto agility\" to adapt to emerging quantum computing threats. The report discusses post-quantum cryptography, providing an overview of quantum-resistant cryptography and a path forward.\n",
      "\n",
      "**Current Cryptography**: Public key cryptography is crucial for secure communication, but current methods (e.g., RSA, elliptic curve cryptosystems) are vulnerable to quantum attacks. Researchers are exploring differences between classical and quantum computing to develop quantum-resistant encryption methods.\n",
      "\n",
      "**Threat of Quantum Computing**: A large-scale quantum computer could break current public key schemes, compromising information security. To address this, a global community is working on post-quantum cryptography to develop new, quantum-resistant encryption methods.\n",
      "\n",
      "**NIST's Role**: NIST is playing a key role in standardizing post-quantum cryptography, building on its experience in developing widely adopted standards such as AES. NIST is intensifying efforts to develop quantum-resistant technologies, particularly post-quantum public key cryptography, due to the urgent need for standardization to ensure industry and global endorsement.\n",
      "\n",
      "**Challenges**: Current quantum-resistant algorithms are unlikely to be drop-in substitutes for current encryption methods due to larger key sizes, requiring potential changes to internet protocols like TLS and IKE. Additionally, no guarantees exist that these new algorithms will be secure against future quantum attacks.\n",
      "\n",
      "**Next Steps**: NIST is launching a post-quantum cryptography standardization process, starting with draft evaluation criteria release in 2016, followed by a call for algorithm proposals in 2017, with a 3-5 year public scrutiny period before standardization.\n"
     ]
    }
   ],
   "source": [
    "print(summary)"
   ]
  }
 ],
 "metadata": {
  "kernelspec": {
   "display_name": "tr",
   "language": "python",
   "name": "python3"
  },
  "language_info": {
   "codemirror_mode": {
    "name": "ipython",
    "version": 3
   },
   "file_extension": ".py",
   "mimetype": "text/x-python",
   "name": "python",
   "nbconvert_exporter": "python",
   "pygments_lexer": "ipython3",
   "version": "3.13.2"
  }
 },
 "nbformat": 4,
 "nbformat_minor": 5
}
