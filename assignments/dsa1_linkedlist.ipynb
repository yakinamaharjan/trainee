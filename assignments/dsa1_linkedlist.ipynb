{
 "cells": [
  {
   "cell_type": "markdown",
   "metadata": {},
   "source": [
    "### Stack and Queue using Linked List"
   ]
  },
  {
   "cell_type": "code",
   "execution_count": 1,
   "metadata": {},
   "outputs": [],
   "source": [
    "class Node:\n",
    "    def __init__(self, data: int):\n",
    "        self.data = data\n",
    "        self.next = None"
   ]
  },
  {
   "cell_type": "code",
   "execution_count": 2,
   "metadata": {},
   "outputs": [],
   "source": [
    "class Stack:\n",
    "    def __init__(self):\n",
    "        self.head = None\n",
    "\n",
    "    def push(self, data: int):\n",
    "        node = Node(data)\n",
    "        node.next = self.head\n",
    "        self.head = node\n",
    "\n",
    "    def pop(self):\n",
    "        if self.head is None:\n",
    "            print(\"The stack is empty\")\n",
    "            return None\n",
    "        popped = self.head.data\n",
    "        self.head = self.head.next\n",
    "        return popped\n",
    "\n",
    "    def is_empty(self):\n",
    "        return (self.head is None)\n",
    "    \n",
    "    def peek(self):\n",
    "        if not self.is_empty():\n",
    "            print(\"Top element is\", self.head.data)\n",
    "        else:\n",
    "            print(\"Stack is empty\")"
   ]
  },
  {
   "cell_type": "code",
   "execution_count": 3,
   "metadata": {},
   "outputs": [
    {
     "name": "stdout",
     "output_type": "stream",
     "text": [
      "Pushing 1 to 4:\n",
      "Top element is 4\n",
      "Popping two times:\n",
      "Top element is 2\n",
      "Push '10'\n",
      "Top element is 10\n"
     ]
    }
   ],
   "source": [
    "st = Stack()\n",
    "\n",
    "print(\"Pushing 1 to 4:\")\n",
    "st.push(1)\n",
    "st.push(2)\n",
    "st.push(3)\n",
    "st.push(4)\n",
    "st.peek()\n",
    "\n",
    "print(\"Popping two times:\")\n",
    "st.pop()\n",
    "st.pop()\n",
    "st.peek()\n",
    "\n",
    "print(\"Push '10'\")\n",
    "st.push(10)\n",
    "st.peek()"
   ]
  },
  {
   "cell_type": "code",
   "execution_count": 4,
   "metadata": {},
   "outputs": [],
   "source": [
    "class Queue:\n",
    "    def __init__(self):\n",
    "        self.front = None\n",
    "        self.rear = None\n",
    "\n",
    "    def enqueue(self, data: int):\n",
    "        new_node = Node(data)\n",
    "        if self.rear is None:\n",
    "            self.front = self.rear = new_node\n",
    "            return\n",
    "        self.rear.next = new_node\n",
    "        self.rear = new_node\n",
    "\n",
    "    def dequeue(self):\n",
    "        if self.is_empty():\n",
    "            print(\"Cannot dequeue - queue empty\")\n",
    "            return\n",
    "        temp = self.front\n",
    "        self.front = self.front.next\n",
    "        if self.front is None:\n",
    "            self.rear = None\n",
    "\n",
    "    def get_front(self):\n",
    "        if self.is_empty():\n",
    "            print(\"Queue is empty\")\n",
    "            return None\n",
    "        return self.front.data\n",
    "        \n",
    "    def get_rear(self):\n",
    "        if self.is_empty():\n",
    "            print(\"Queue is empty\")\n",
    "            return None\n",
    "        return self.rear.data\n",
    "\n",
    "    def is_empty(self):\n",
    "        return (self.front is None and self.rear is None)"
   ]
  },
  {
   "cell_type": "code",
   "execution_count": 5,
   "metadata": {},
   "outputs": [
    {
     "name": "stdout",
     "output_type": "stream",
     "text": [
      "Adding four items to the queue:\n",
      "Queue Front: 1\n",
      "Queue Rear: 4\n",
      "Queue Front: 3\n",
      "Queue Rear: 4\n",
      "Queue Front: 3\n",
      "Queue Rear: 10\n"
     ]
    }
   ],
   "source": [
    "q = Queue()\n",
    "\n",
    "print(\"Adding four items to the queue:\")\n",
    "q.enqueue(1)\n",
    "q.enqueue(2)\n",
    "q.enqueue(3)\n",
    "q.enqueue(4)\n",
    "print(\"Queue Front:\", q.get_front())\n",
    "print(\"Queue Rear:\", q.get_rear())\n",
    "\n",
    "q.dequeue()\n",
    "q.dequeue()\n",
    "print(\"Queue Front:\", q.get_front())\n",
    "print(\"Queue Rear:\", q.get_rear())\n",
    "\n",
    "q.enqueue(10)\n",
    "print(\"Queue Front:\", q.get_front())\n",
    "print(\"Queue Rear:\", q.get_rear())"
   ]
  },
  {
   "cell_type": "code",
   "execution_count": 6,
   "metadata": {},
   "outputs": [
    {
     "ename": "SyntaxError",
     "evalue": "expected '(' (2947498830.py, line 83)",
     "output_type": "error",
     "traceback": [
      "\u001b[1;36m  Cell \u001b[1;32mIn[6], line 83\u001b[1;36m\u001b[0m\n\u001b[1;33m    def is_empty\u001b[0m\n\u001b[1;37m                ^\u001b[0m\n\u001b[1;31mSyntaxError\u001b[0m\u001b[1;31m:\u001b[0m expected '('\n"
     ]
    }
   ],
   "source": [
    "class Node:\n",
    "    def __init__(self, data):\n",
    "        self.data = data\n",
    "        self.next = None\n",
    "\n",
    "class Stack:\n",
    "    def __init__(self):\n",
    "        self.top = None \n",
    "\n",
    "    def push(self, data):\n",
    "        new_node = Node(data)\n",
    "        new_node.next = self.top \n",
    "        self.top = new_node \n",
    "        print(f\"Pushed {data} onto the stack.\")\n",
    "\n",
    "    def pop(self):\n",
    "        if self.is_empty():\n",
    "            print(\"Stack Underflow! Cannot pop from an empty stack.\")\n",
    "            return None\n",
    "        popped_data = self.top.data\n",
    "        self.top = self.top.next \n",
    "        return popped_data\n",
    "\n",
    "    def peek(self):\n",
    "        if self.is_empty():\n",
    "            return None\n",
    "        return self.top.data\n",
    "\n",
    "    def is_empty(self):\n",
    "        return self.top is None\n",
    "\n",
    "    def display(self):\n",
    "        temp = self.top\n",
    "        stack_elements = []\n",
    "        while temp:\n",
    "            stack_elements.append(temp.data)\n",
    "            temp = temp.next\n",
    "        print(\"Stack:\", \" -> \".join(map(str, stack_elements)) if stack_elements else \"Empty\")\n",
    "\n",
    "stack = Stack()\n",
    "stack.push(10)\n",
    "stack.push(20)\n",
    "stack.push(30)\n",
    "stack.display()\n",
    "print(\"Popped:\", stack.pop())\n",
    "stack.display()\n",
    "\n",
    "\n",
    "class Node:\n",
    "    def __init__(self, data):\n",
    "        self.data = data\n",
    "        self.next = None\n",
    "\n",
    "class Queue:\n",
    "    def __init__(self):\n",
    "        self.front = None \n",
    "        self.rear = None\n",
    "\n",
    "    def enqueue(self, data):\n",
    "        new_node = Node(data)\n",
    "        if self.rear is None:\n",
    "            self.front = self.rear = new_node\n",
    "        else:\n",
    "            self.rear.next = new_node\n",
    "            self.rear = new_node\n",
    "        print(f\"Enqueued {data} into the queue.\")\n",
    "\n",
    "    def dequeue(self):\n",
    "        if self.is_empty():\n",
    "            print(\"Queue Underflow! Cannot dequeue from an empty queue.\")\n",
    "            return None\n",
    "        dequeued_data = self.front.data\n",
    "        self.front = self.front.next \n",
    "        if self.front is None:\n",
    "            self.rear = None\n",
    "        return dequeued_data\n",
    "\n",
    "    def peek(self):\n",
    "        if self.is_empty():\n",
    "            return None\n",
    "        return self.front.data\n",
    "\n",
    "    def is_empty\n"
   ]
  }
 ],
 "metadata": {
  "kernelspec": {
   "display_name": "traineeship",
   "language": "python",
   "name": "python3"
  },
  "language_info": {
   "codemirror_mode": {
    "name": "ipython",
    "version": 3
   },
   "file_extension": ".py",
   "mimetype": "text/x-python",
   "name": "python",
   "nbconvert_exporter": "python",
   "pygments_lexer": "ipython3",
   "version": "3.12.8"
  }
 },
 "nbformat": 4,
 "nbformat_minor": 2
}
